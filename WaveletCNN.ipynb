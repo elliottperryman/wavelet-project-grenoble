{
  "cells": [
    {
      "cell_type": "code",
      "execution_count": 1,
      "metadata": {
        "id": "oWCM1M-_ZywG"
      },
      "outputs": [],
      "source": [
        "import matplotlib.pyplot as plt\n",
        "from keras.layers import (\n",
        "    Input, Dense, Conv2D, Flatten, Reshape, Dropout, \n",
        "    Activation, AveragePooling2D, BatchNormalization,\n",
        "    Lambda, Concatenate\n",
        ")\n",
        "from keras.models import Model, load_model\n",
        "from keras.utils.vis_utils import plot_model\n",
        "from keras.callbacks import ModelCheckpoint\n",
        "from tensorflow.keras.utils import image_dataset_from_directory\n",
        "import numpy as np\n",
        "from gc import collect"
      ]
    },
    {
      "cell_type": "code",
      "execution_count": 2,
      "metadata": {
        "id": "alyQvcjNanDz"
      },
      "outputs": [],
      "source": [
        "def WaveletTransform(img):\n",
        "    low = img[:,::2,...] + img[:,1::2,...]\n",
        "    low = (low[:,:,::2,...] + low[:,:,1::2,...]) / 4\n",
        "    diag = img[:,::2,...] - img[:,1::2,...]\n",
        "    diag = diag[:,:,::2,...] - diag[:,:,1::2,...]\n",
        "    top = img[:,::2,...] - img[:,1::2,...]\n",
        "    top = (top[:,:,::2] + top[:,:,1::2] ) / 2\n",
        "    left = img[:,:,::2,...] - img[:,:,1::2,...]\n",
        "    left = (left[:,::2] + left[:,1::2] ) / 2\n",
        "    \n",
        "    return low, diag, top, left\n",
        "\n",
        "\n",
        "def conv_layer(_in, N):\n",
        "    conv1 = Conv2D(N, kernel_size=(3,3), padding='same')(_in)\n",
        "    norm1 = BatchNormalization()(conv1)\n",
        "    relu1 = Activation('relu')(norm1)\n",
        "    conv2 = Conv2D(N, kernel_size=(3,3), strides=(2,2), padding='same')(relu1)\n",
        "    norm2 = BatchNormalization()(conv2)\n",
        "    relu2 = Activation('relu')(norm2)\n",
        "    return relu2\n",
        "\n",
        "\n",
        "def build_model(input_shape = (256, 256, 3), num_classes=50):\n",
        "    _input = BatchNormalization()(Input(input_shape))\n",
        "    \n",
        "    low1, diag1, top1, left1 = Lambda(WaveletTransform, name='wavelet_1')(_input)\n",
        "    low2, diag2, top2, left2 = Lambda(WaveletTransform, name='wavelet_2')(low1)\n",
        "    low3, diag3, top3, left3 = Lambda(WaveletTransform, name='wavelet_3')(low2)\n",
        "    low4, diag4, top4, left4 = Lambda(WaveletTransform, name='wavelet_4')(low3)\n",
        "    \n",
        "    k1 = Concatenate()([conv_layer(_input,64), low1, diag1, top1, left1])\n",
        "    k2 = Concatenate()([conv_layer(k1, 128), low2, diag2, top2, left2])\n",
        "    k3 = Concatenate()([conv_layer(k2, 256), low3, diag3, top3, left3])\n",
        "    k4 = Concatenate()([conv_layer(k3, 512), low4, diag4, top4, left4])\n",
        "    \n",
        "    avg_pool = AveragePooling2D(pool_size=(7,7), strides=1, padding='same')(k4)\n",
        "    flat = Flatten()(avg_pool)\n",
        "    output = Dense(num_classes, activation='softmax',name='fc')(flat)\n",
        "    model = Model(inputs=_input, outputs=output)\n",
        "    return model"
      ]
    },
    {
      "cell_type": "code",
      "execution_count": 3,
      "metadata": {
        "colab": {
          "base_uri": "https://localhost:8080/"
        },
        "id": "aXy040LMblxx",
        "outputId": "5ebe904c-2398-4cb2-be58-f989d671209e"
      },
      "outputs": [
        {
          "output_type": "stream",
          "name": "stderr",
          "text": [
            "WARNING:tensorflow:From <ipython-input-3-d7b23705399e>:6: is_gpu_available (from tensorflow.python.framework.test_util) is deprecated and will be removed in a future version.\n",
            "Instructions for updating:\n",
            "Use `tf.config.list_physical_devices('GPU')` instead.\n"
          ]
        },
        {
          "output_type": "stream",
          "name": "stdout",
          "text": [
            "[name: \"/device:CPU:0\"\n",
            "device_type: \"CPU\"\n",
            "memory_limit: 268435456\n",
            "locality {\n",
            "}\n",
            "incarnation: 9817387720522389579\n",
            "xla_global_id: -1\n",
            ", name: \"/device:GPU:0\"\n",
            "device_type: \"GPU\"\n",
            "memory_limit: 14417788928\n",
            "locality {\n",
            "  bus_id: 1\n",
            "  links {\n",
            "  }\n",
            "}\n",
            "incarnation: 17773940642470360236\n",
            "physical_device_desc: \"device: 0, name: Tesla T4, pci bus id: 0000:00:04.0, compute capability: 7.5\"\n",
            "xla_global_id: 416903419\n",
            "]\n",
            "2.9.2\n",
            "Num GPUs Available:  1\n",
            "True\n"
          ]
        }
      ],
      "source": [
        "import tensorflow as tf\n",
        "from tensorflow.python.client import device_lib\n",
        "print(device_lib.list_local_devices())\n",
        "print(tf.__version__)\n",
        "print(\"Num GPUs Available: \", len(tf.config.experimental.list_physical_devices('GPU')))\n",
        "print(tf.test.is_gpu_available())"
      ]
    },
    {
      "cell_type": "code",
      "source": [
        "DO_KTH = False\n",
        "DO_DTD = True"
      ],
      "metadata": {
        "id": "1k_lTQsy5TPF"
      },
      "execution_count": 4,
      "outputs": []
    },
    {
      "cell_type": "code",
      "source": [
        "if DO_KTH:\n",
        "  full_dataset = image_dataset_from_directory('./KTH-TIPS2-b', label_mode='categorical')\n",
        "  print(full_dataset.class_names)\n",
        "  DATASET_SIZE = 4752\n",
        "  train_size = int(0.7 * DATASET_SIZE / 32)\n",
        "  val_size = int(0.15 * DATASET_SIZE / 32)\n",
        "  test_size = int(0.15 * DATASET_SIZE / 32)\n",
        "\n",
        "  full_dataset = full_dataset.shuffle(10_000)\n",
        "  train_dataset = full_dataset.take(train_size)\n",
        "  test_dataset = full_dataset.skip(train_size)\n",
        "  val_dataset = test_dataset.skip(test_size)\n",
        "  test_dataset = test_dataset.take(test_size)\n",
        "  # del full_dataset\n",
        "  n = next(train_dataset.as_numpy_iterator())\n",
        "  shape, num_classes = n[0].shape[1:], n[1].shape[-1]\n",
        "  model = build_model(input_shape=shape, num_classes=num_classes)\n",
        "\n",
        "  print(model.summary())\n",
        "\n",
        "  model.compile(optimizer='adam', loss='categorical_crossentropy', metrics=['accuracy'])\n",
        "\n",
        "  !rm -rf ./checkpoints/*\n",
        "\n",
        "  collect()\n",
        "\n",
        "  checkpoint = ModelCheckpoint('./checkpoints/', monitor='accuracy', save_best_only=True)\n",
        "  model.fit(train_dataset, validation_data=val_dataset, epochs=5, callbacks=[checkpoint])\n",
        "  model = load_model('./checkpoints/')\n",
        "  score = model.evaluate(test_dataset)\n",
        "  N = sum([_[1].shape[1] for _ in test_dataset.as_numpy_iterator()])\n",
        "  print(score)\n",
        "  print(1/np.sqrt(N))"
      ],
      "metadata": {
        "id": "dCEzuC7TgoSE"
      },
      "execution_count": 5,
      "outputs": []
    },
    {
      "cell_type": "code",
      "source": [],
      "metadata": {
        "id": "OjzoK5NW8hKO"
      },
      "execution_count": 5,
      "outputs": []
    },
    {
      "cell_type": "code",
      "source": [
        "# !cp -r ./drive/MyDrive/dtd ."
      ],
      "metadata": {
        "id": "GH1EFTJi-Afk"
      },
      "execution_count": 6,
      "outputs": []
    },
    {
      "cell_type": "code",
      "source": [
        "if DO_DTD:\n",
        "  full_dataset = image_dataset_from_directory('./dtd/images/', label_mode='categorical')\n",
        "  print(full_dataset.class_names)\n",
        "  DATASET_SIZE = 5640\n",
        "  train_size = int(0.7 * DATASET_SIZE / 32)\n",
        "  val_size = int(0.15 * DATASET_SIZE / 32)\n",
        "  test_size = int(0.15 * DATASET_SIZE / 32)\n",
        "\n",
        "  full_dataset = full_dataset.shuffle(10_000)\n",
        "  train_dataset = full_dataset.take(train_size)\n",
        "  test_dataset = full_dataset.skip(train_size)\n",
        "  val_dataset = test_dataset.skip(test_size)\n",
        "  test_dataset = test_dataset.take(test_size)\n",
        "  # del full_dataset\n",
        "  shape, num_classes = full_dataset.element_spec\n",
        "  shape, num_classes = tuple(shape.shape[1:]), int(num_classes.shape[1])\n",
        "  model = build_model(input_shape=shape, num_classes=num_classes)\n",
        "\n",
        "  print(model.summary())\n",
        "\n",
        "  model.compile(optimizer='adam', loss='categorical_crossentropy', metrics=['accuracy'])\n",
        "\n",
        "  collect()\n",
        "\n",
        "  checkpoint = ModelCheckpoint('./checkpoints/', monitor='accuracy', save_best_only=True)\n",
        "  model.fit(train_dataset, validation_data=val_dataset, epochs=100, callbacks=[checkpoint])\n",
        "  model = load_model('./checkpoints/')\n",
        "  score = model.evaluate(test_dataset)\n",
        "  N = sum([_[1].shape[1] for _ in test_dataset.as_numpy_iterator()])\n",
        "  print(score)\n",
        "  print(1/np.sqrt(N))"
      ],
      "metadata": {
        "colab": {
          "base_uri": "https://localhost:8080/"
        },
        "id": "E6KR7CL96CIa",
        "outputId": "cfcb2b1d-1902-4f6d-b9fc-0b6a89c035f0"
      },
      "execution_count": 7,
      "outputs": [
        {
          "output_type": "stream",
          "name": "stdout",
          "text": [
            "Found 5640 files belonging to 47 classes.\n",
            "['banded', 'blotchy', 'braided', 'bubbly', 'bumpy', 'chequered', 'cobwebbed', 'cracked', 'crosshatched', 'crystalline', 'dotted', 'fibrous', 'flecked', 'freckled', 'frilly', 'gauzy', 'grid', 'grooved', 'honeycombed', 'interlaced', 'knitted', 'lacelike', 'lined', 'marbled', 'matted', 'meshed', 'paisley', 'perforated', 'pitted', 'pleated', 'polka-dotted', 'porous', 'potholed', 'scaly', 'smeared', 'spiralled', 'sprinkled', 'stained', 'stratified', 'striped', 'studded', 'swirly', 'veined', 'waffled', 'woven', 'wrinkled', 'zigzagged']\n",
            "Model: \"model\"\n",
            "__________________________________________________________________________________________________\n",
            " Layer (type)                   Output Shape         Param #     Connected to                     \n",
            "==================================================================================================\n",
            " input_2 (InputLayer)           [(None, 256, 256, 3  0           []                               \n",
            "                                )]                                                                \n",
            "                                                                                                  \n",
            " conv2d (Conv2D)                (None, 256, 256, 64  1792        ['input_2[0][0]']                \n",
            "                                )                                                                 \n",
            "                                                                                                  \n",
            " batch_normalization_1 (BatchNo  (None, 256, 256, 64  256        ['conv2d[1][0]']                 \n",
            " rmalization)                   )                                                                 \n",
            "                                                                                                  \n",
            " activation (Activation)        (None, 256, 256, 64  0           ['batch_normalization_1[1][0]']  \n",
            "                                )                                                                 \n",
            "                                                                                                  \n",
            " conv2d_1 (Conv2D)              (None, 128, 128, 64  36928       ['activation[1][0]']             \n",
            "                                )                                                                 \n",
            "                                                                                                  \n",
            " batch_normalization_2 (BatchNo  (None, 128, 128, 64  256        ['conv2d_1[1][0]']               \n",
            " rmalization)                   )                                                                 \n",
            "                                                                                                  \n",
            " activation_1 (Activation)      (None, 128, 128, 64  0           ['batch_normalization_2[1][0]']  \n",
            "                                )                                                                 \n",
            "                                                                                                  \n",
            " wavelet_1 (Lambda)             ((None, 128, 128, 3  0           ['input_2[0][0]']                \n",
            "                                ),                                                                \n",
            "                                 (None, 128, 128, 3                                               \n",
            "                                ),                                                                \n",
            "                                 (None, 128, 128, 3                                               \n",
            "                                ),                                                                \n",
            "                                 (None, 128, 128, 3                                               \n",
            "                                ))                                                                \n",
            "                                                                                                  \n",
            " concatenate (Concatenate)      (None, 128, 128, 76  0           ['activation_1[1][0]',           \n",
            "                                )                                 'wavelet_1[1][0]',              \n",
            "                                                                  'wavelet_1[1][1]',              \n",
            "                                                                  'wavelet_1[1][2]',              \n",
            "                                                                  'wavelet_1[1][3]']              \n",
            "                                                                                                  \n",
            " conv2d_2 (Conv2D)              (None, 128, 128, 12  87680       ['concatenate[1][0]']            \n",
            "                                8)                                                                \n",
            "                                                                                                  \n",
            " batch_normalization_3 (BatchNo  (None, 128, 128, 12  512        ['conv2d_2[1][0]']               \n",
            " rmalization)                   8)                                                                \n",
            "                                                                                                  \n",
            " activation_2 (Activation)      (None, 128, 128, 12  0           ['batch_normalization_3[1][0]']  \n",
            "                                8)                                                                \n",
            "                                                                                                  \n",
            " conv2d_3 (Conv2D)              (None, 64, 64, 128)  147584      ['activation_2[1][0]']           \n",
            "                                                                                                  \n",
            " batch_normalization_4 (BatchNo  (None, 64, 64, 128)  512        ['conv2d_3[1][0]']               \n",
            " rmalization)                                                                                     \n",
            "                                                                                                  \n",
            " activation_3 (Activation)      (None, 64, 64, 128)  0           ['batch_normalization_4[1][0]']  \n",
            "                                                                                                  \n",
            " wavelet_2 (Lambda)             ((None, 64, 64, 3),  0           ['wavelet_1[1][0]']              \n",
            "                                 (None, 64, 64, 3),                                               \n",
            "                                 (None, 64, 64, 3),                                               \n",
            "                                 (None, 64, 64, 3))                                               \n",
            "                                                                                                  \n",
            " concatenate_1 (Concatenate)    (None, 64, 64, 140)  0           ['activation_3[1][0]',           \n",
            "                                                                  'wavelet_2[1][0]',              \n",
            "                                                                  'wavelet_2[1][1]',              \n",
            "                                                                  'wavelet_2[1][2]',              \n",
            "                                                                  'wavelet_2[1][3]']              \n",
            "                                                                                                  \n",
            " conv2d_4 (Conv2D)              (None, 64, 64, 256)  322816      ['concatenate_1[1][0]']          \n",
            "                                                                                                  \n",
            " batch_normalization_5 (BatchNo  (None, 64, 64, 256)  1024       ['conv2d_4[1][0]']               \n",
            " rmalization)                                                                                     \n",
            "                                                                                                  \n",
            " activation_4 (Activation)      (None, 64, 64, 256)  0           ['batch_normalization_5[1][0]']  \n",
            "                                                                                                  \n",
            " conv2d_5 (Conv2D)              (None, 32, 32, 256)  590080      ['activation_4[1][0]']           \n",
            "                                                                                                  \n",
            " batch_normalization_6 (BatchNo  (None, 32, 32, 256)  1024       ['conv2d_5[1][0]']               \n",
            " rmalization)                                                                                     \n",
            "                                                                                                  \n",
            " activation_5 (Activation)      (None, 32, 32, 256)  0           ['batch_normalization_6[1][0]']  \n",
            "                                                                                                  \n",
            " wavelet_3 (Lambda)             ((None, 32, 32, 3),  0           ['wavelet_2[1][0]']              \n",
            "                                 (None, 32, 32, 3),                                               \n",
            "                                 (None, 32, 32, 3),                                               \n",
            "                                 (None, 32, 32, 3))                                               \n",
            "                                                                                                  \n",
            " concatenate_2 (Concatenate)    (None, 32, 32, 268)  0           ['activation_5[1][0]',           \n",
            "                                                                  'wavelet_3[1][0]',              \n",
            "                                                                  'wavelet_3[1][1]',              \n",
            "                                                                  'wavelet_3[1][2]',              \n",
            "                                                                  'wavelet_3[1][3]']              \n",
            "                                                                                                  \n",
            " conv2d_6 (Conv2D)              (None, 32, 32, 512)  1235456     ['concatenate_2[1][0]']          \n",
            "                                                                                                  \n",
            " batch_normalization_7 (BatchNo  (None, 32, 32, 512)  2048       ['conv2d_6[1][0]']               \n",
            " rmalization)                                                                                     \n",
            "                                                                                                  \n",
            " activation_6 (Activation)      (None, 32, 32, 512)  0           ['batch_normalization_7[1][0]']  \n",
            "                                                                                                  \n",
            " conv2d_7 (Conv2D)              (None, 16, 16, 512)  2359808     ['activation_6[1][0]']           \n",
            "                                                                                                  \n",
            " batch_normalization_8 (BatchNo  (None, 16, 16, 512)  2048       ['conv2d_7[1][0]']               \n",
            " rmalization)                                                                                     \n",
            "                                                                                                  \n",
            " activation_7 (Activation)      (None, 16, 16, 512)  0           ['batch_normalization_8[1][0]']  \n",
            "                                                                                                  \n",
            " wavelet_4 (Lambda)             ((None, 16, 16, 3),  0           ['wavelet_3[1][0]']              \n",
            "                                 (None, 16, 16, 3),                                               \n",
            "                                 (None, 16, 16, 3),                                               \n",
            "                                 (None, 16, 16, 3))                                               \n",
            "                                                                                                  \n",
            " concatenate_3 (Concatenate)    (None, 16, 16, 524)  0           ['activation_7[1][0]',           \n",
            "                                                                  'wavelet_4[1][0]',              \n",
            "                                                                  'wavelet_4[1][1]',              \n",
            "                                                                  'wavelet_4[1][2]',              \n",
            "                                                                  'wavelet_4[1][3]']              \n",
            "                                                                                                  \n",
            " average_pooling2d (AveragePool  (None, 16, 16, 524)  0          ['concatenate_3[1][0]']          \n",
            " ing2D)                                                                                           \n",
            "                                                                                                  \n",
            " flatten (Flatten)              (None, 134144)       0           ['average_pooling2d[1][0]']      \n",
            "                                                                                                  \n",
            " fc (Dense)                     (None, 47)           6304815     ['flatten[1][0]']                \n",
            "                                                                                                  \n",
            "==================================================================================================\n",
            "Total params: 11,094,639\n",
            "Trainable params: 11,090,799\n",
            "Non-trainable params: 3,840\n",
            "__________________________________________________________________________________________________\n",
            "None\n",
            "Epoch 1/100\n",
            "123/123 [==============================] - ETA: 0s - loss: 173.7665 - accuracy: 0.0284"
          ]
        },
        {
          "output_type": "stream",
          "name": "stderr",
          "text": [
            "WARNING:absl:Found untraced functions such as _jit_compiled_convolution_op, _jit_compiled_convolution_op, _jit_compiled_convolution_op, _jit_compiled_convolution_op, _jit_compiled_convolution_op while saving (showing 5 of 8). These functions will not be directly callable after loading.\n"
          ]
        },
        {
          "output_type": "stream",
          "name": "stdout",
          "text": [
            "\b\b\b\b\b\b\b\b\b\b\b\b\b\b\b\b\b\b\b\b\b\b\b\b\b\b\b\b\b\b\b\b\b\b\b\b\b\b\b\b\b\b\b\b\b\b\b\b\b\b\b\b\b\b\b\b\b\b\b\b\b\b\b\b\b\b\b\b\b\b\b\b\b\b\b\b\b\b\b\b\b\b\b\b\b\b\r123/123 [==============================] - 108s 629ms/step - loss: 173.7665 - accuracy: 0.0284 - val_loss: 949.0280 - val_accuracy: 0.0190\n",
            "Epoch 2/100\n",
            "123/123 [==============================] - ETA: 0s - loss: 86.6893 - accuracy: 0.0465"
          ]
        },
        {
          "output_type": "stream",
          "name": "stderr",
          "text": [
            "WARNING:absl:Found untraced functions such as _jit_compiled_convolution_op, _jit_compiled_convolution_op, _jit_compiled_convolution_op, _jit_compiled_convolution_op, _jit_compiled_convolution_op while saving (showing 5 of 8). These functions will not be directly callable after loading.\n"
          ]
        },
        {
          "output_type": "stream",
          "name": "stdout",
          "text": [
            "\b\b\b\b\b\b\b\b\b\b\b\b\b\b\b\b\b\b\b\b\b\b\b\b\b\b\b\b\b\b\b\b\b\b\b\b\b\b\b\b\b\b\b\b\b\b\b\b\b\b\b\b\b\b\b\b\b\b\b\b\b\b\b\b\b\b\b\b\b\b\b\b\b\b\b\b\b\b\b\b\b\b\b\b\b\r123/123 [==============================] - 89s 613ms/step - loss: 86.6893 - accuracy: 0.0465 - val_loss: 114.3022 - val_accuracy: 0.0665\n",
            "Epoch 3/100\n",
            "123/123 [==============================] - ETA: 0s - loss: 88.9175 - accuracy: 0.0590"
          ]
        },
        {
          "output_type": "stream",
          "name": "stderr",
          "text": [
            "WARNING:absl:Found untraced functions such as _jit_compiled_convolution_op, _jit_compiled_convolution_op, _jit_compiled_convolution_op, _jit_compiled_convolution_op, _jit_compiled_convolution_op while saving (showing 5 of 8). These functions will not be directly callable after loading.\n"
          ]
        },
        {
          "output_type": "stream",
          "name": "stdout",
          "text": [
            "\b\b\b\b\b\b\b\b\b\b\b\b\b\b\b\b\b\b\b\b\b\b\b\b\b\b\b\b\b\b\b\b\b\b\b\b\b\b\b\b\b\b\b\b\b\b\b\b\b\b\b\b\b\b\b\b\b\b\b\b\b\b\b\b\b\b\b\b\b\b\b\b\b\b\b\b\b\b\b\b\b\b\b\b\b\r123/123 [==============================] - 87s 610ms/step - loss: 88.9175 - accuracy: 0.0590 - val_loss: 71.7547 - val_accuracy: 0.0770\n",
            "Epoch 4/100\n",
            "123/123 [==============================] - ETA: 0s - loss: 75.9447 - accuracy: 0.0780"
          ]
        },
        {
          "output_type": "stream",
          "name": "stderr",
          "text": [
            "WARNING:absl:Found untraced functions such as _jit_compiled_convolution_op, _jit_compiled_convolution_op, _jit_compiled_convolution_op, _jit_compiled_convolution_op, _jit_compiled_convolution_op while saving (showing 5 of 8). These functions will not be directly callable after loading.\n"
          ]
        },
        {
          "output_type": "stream",
          "name": "stdout",
          "text": [
            "\b\b\b\b\b\b\b\b\b\b\b\b\b\b\b\b\b\b\b\b\b\b\b\b\b\b\b\b\b\b\b\b\b\b\b\b\b\b\b\b\b\b\b\b\b\b\b\b\b\b\b\b\b\b\b\b\b\b\b\b\b\b\b\b\b\b\b\b\b\b\b\b\b\b\b\b\b\b\b\b\b\b\b\b\b\r123/123 [==============================] - 87s 610ms/step - loss: 75.9447 - accuracy: 0.0780 - val_loss: 76.0407 - val_accuracy: 0.1038\n",
            "Epoch 5/100\n",
            "123/123 [==============================] - ETA: 0s - loss: 75.7295 - accuracy: 0.0831"
          ]
        },
        {
          "output_type": "stream",
          "name": "stderr",
          "text": [
            "WARNING:absl:Found untraced functions such as _jit_compiled_convolution_op, _jit_compiled_convolution_op, _jit_compiled_convolution_op, _jit_compiled_convolution_op, _jit_compiled_convolution_op while saving (showing 5 of 8). These functions will not be directly callable after loading.\n"
          ]
        },
        {
          "output_type": "stream",
          "name": "stdout",
          "text": [
            "\b\b\b\b\b\b\b\b\b\b\b\b\b\b\b\b\b\b\b\b\b\b\b\b\b\b\b\b\b\b\b\b\b\b\b\b\b\b\b\b\b\b\b\b\b\b\b\b\b\b\b\b\b\b\b\b\b\b\b\b\b\b\b\b\b\b\b\b\b\b\b\b\b\b\b\b\b\b\b\b\b\b\b\b\b\r123/123 [==============================] - 87s 609ms/step - loss: 75.7295 - accuracy: 0.0831 - val_loss: 82.6528 - val_accuracy: 0.1083\n",
            "Epoch 6/100\n",
            "123/123 [==============================] - ETA: 0s - loss: 74.1237 - accuracy: 0.0902"
          ]
        },
        {
          "output_type": "stream",
          "name": "stderr",
          "text": [
            "WARNING:absl:Found untraced functions such as _jit_compiled_convolution_op, _jit_compiled_convolution_op, _jit_compiled_convolution_op, _jit_compiled_convolution_op, _jit_compiled_convolution_op while saving (showing 5 of 8). These functions will not be directly callable after loading.\n"
          ]
        },
        {
          "output_type": "stream",
          "name": "stdout",
          "text": [
            "\b\b\b\b\b\b\b\b\b\b\b\b\b\b\b\b\b\b\b\b\b\b\b\b\b\b\b\b\b\b\b\b\b\b\b\b\b\b\b\b\b\b\b\b\b\b\b\b\b\b\b\b\b\b\b\b\b\b\b\b\b\b\b\b\b\b\b\b\b\b\b\b\b\b\b\b\b\b\b\b\b\b\b\b\b\r123/123 [==============================] - 87s 609ms/step - loss: 74.1237 - accuracy: 0.0902 - val_loss: 73.6650 - val_accuracy: 0.0792\n",
            "Epoch 7/100\n",
            "123/123 [==============================] - ETA: 0s - loss: 66.8469 - accuracy: 0.1097"
          ]
        },
        {
          "output_type": "stream",
          "name": "stderr",
          "text": [
            "WARNING:absl:Found untraced functions such as _jit_compiled_convolution_op, _jit_compiled_convolution_op, _jit_compiled_convolution_op, _jit_compiled_convolution_op, _jit_compiled_convolution_op while saving (showing 5 of 8). These functions will not be directly callable after loading.\n"
          ]
        },
        {
          "output_type": "stream",
          "name": "stdout",
          "text": [
            "\b\b\b\b\b\b\b\b\b\b\b\b\b\b\b\b\b\b\b\b\b\b\b\b\b\b\b\b\b\b\b\b\b\b\b\b\b\b\b\b\b\b\b\b\b\b\b\b\b\b\b\b\b\b\b\b\b\b\b\b\b\b\b\b\b\b\b\b\b\b\b\b\b\b\b\b\b\b\b\b\b\b\b\b\b\r123/123 [==============================] - 87s 609ms/step - loss: 66.8469 - accuracy: 0.1097 - val_loss: 66.8335 - val_accuracy: 0.1362\n",
            "Epoch 8/100\n",
            "123/123 [==============================] - ETA: 0s - loss: 62.2631 - accuracy: 0.1227"
          ]
        },
        {
          "output_type": "stream",
          "name": "stderr",
          "text": [
            "WARNING:absl:Found untraced functions such as _jit_compiled_convolution_op, _jit_compiled_convolution_op, _jit_compiled_convolution_op, _jit_compiled_convolution_op, _jit_compiled_convolution_op while saving (showing 5 of 8). These functions will not be directly callable after loading.\n"
          ]
        },
        {
          "output_type": "stream",
          "name": "stdout",
          "text": [
            "\b\b\b\b\b\b\b\b\b\b\b\b\b\b\b\b\b\b\b\b\b\b\b\b\b\b\b\b\b\b\b\b\b\b\b\b\b\b\b\b\b\b\b\b\b\b\b\b\b\b\b\b\b\b\b\b\b\b\b\b\b\b\b\b\b\b\b\b\b\b\b\b\b\b\b\b\b\b\b\b\b\b\b\b\b\r123/123 [==============================] - 87s 608ms/step - loss: 62.2631 - accuracy: 0.1227 - val_loss: 65.0226 - val_accuracy: 0.1491\n",
            "Epoch 9/100\n",
            "123/123 [==============================] - ETA: 0s - loss: 59.4258 - accuracy: 0.1352"
          ]
        },
        {
          "output_type": "stream",
          "name": "stderr",
          "text": [
            "WARNING:absl:Found untraced functions such as _jit_compiled_convolution_op, _jit_compiled_convolution_op, _jit_compiled_convolution_op, _jit_compiled_convolution_op, _jit_compiled_convolution_op while saving (showing 5 of 8). These functions will not be directly callable after loading.\n"
          ]
        },
        {
          "output_type": "stream",
          "name": "stdout",
          "text": [
            "\b\b\b\b\b\b\b\b\b\b\b\b\b\b\b\b\b\b\b\b\b\b\b\b\b\b\b\b\b\b\b\b\b\b\b\b\b\b\b\b\b\b\b\b\b\b\b\b\b\b\b\b\b\b\b\b\b\b\b\b\b\b\b\b\b\b\b\b\b\b\b\b\b\b\b\b\b\b\b\b\b\b\b\b\b\r123/123 [==============================] - 88s 619ms/step - loss: 59.4258 - accuracy: 0.1352 - val_loss: 64.4149 - val_accuracy: 0.1183\n",
            "Epoch 10/100\n",
            "123/123 [==============================] - ETA: 0s - loss: 56.5460 - accuracy: 0.1498"
          ]
        },
        {
          "output_type": "stream",
          "name": "stderr",
          "text": [
            "WARNING:absl:Found untraced functions such as _jit_compiled_convolution_op, _jit_compiled_convolution_op, _jit_compiled_convolution_op, _jit_compiled_convolution_op, _jit_compiled_convolution_op while saving (showing 5 of 8). These functions will not be directly callable after loading.\n"
          ]
        },
        {
          "output_type": "stream",
          "name": "stdout",
          "text": [
            "\b\b\b\b\b\b\b\b\b\b\b\b\b\b\b\b\b\b\b\b\b\b\b\b\b\b\b\b\b\b\b\b\b\b\b\b\b\b\b\b\b\b\b\b\b\b\b\b\b\b\b\b\b\b\b\b\b\b\b\b\b\b\b\b\b\b\b\b\b\b\b\b\b\b\b\b\b\b\b\b\b\b\b\b\b\r123/123 [==============================] - 87s 609ms/step - loss: 56.5460 - accuracy: 0.1498 - val_loss: 55.6165 - val_accuracy: 0.1445\n",
            "Epoch 11/100\n",
            "123/123 [==============================] - 82s 571ms/step - loss: 59.0494 - accuracy: 0.1452 - val_loss: 54.6490 - val_accuracy: 0.1998\n",
            "Epoch 12/100\n",
            "123/123 [==============================] - ETA: 0s - loss: 54.4421 - accuracy: 0.1641"
          ]
        },
        {
          "output_type": "stream",
          "name": "stderr",
          "text": [
            "WARNING:absl:Found untraced functions such as _jit_compiled_convolution_op, _jit_compiled_convolution_op, _jit_compiled_convolution_op, _jit_compiled_convolution_op, _jit_compiled_convolution_op while saving (showing 5 of 8). These functions will not be directly callable after loading.\n"
          ]
        },
        {
          "output_type": "stream",
          "name": "stdout",
          "text": [
            "\b\b\b\b\b\b\b\b\b\b\b\b\b\b\b\b\b\b\b\b\b\b\b\b\b\b\b\b\b\b\b\b\b\b\b\b\b\b\b\b\b\b\b\b\b\b\b\b\b\b\b\b\b\b\b\b\b\b\b\b\b\b\b\b\b\b\b\b\b\b\b\b\b\b\b\b\b\b\b\b\b\b\b\b\b\r123/123 [==============================] - 87s 611ms/step - loss: 54.4421 - accuracy: 0.1641 - val_loss: 53.1472 - val_accuracy: 0.1961\n",
            "Epoch 13/100\n",
            "123/123 [==============================] - ETA: 0s - loss: 55.2633 - accuracy: 0.1758"
          ]
        },
        {
          "output_type": "stream",
          "name": "stderr",
          "text": [
            "WARNING:absl:Found untraced functions such as _jit_compiled_convolution_op, _jit_compiled_convolution_op, _jit_compiled_convolution_op, _jit_compiled_convolution_op, _jit_compiled_convolution_op while saving (showing 5 of 8). These functions will not be directly callable after loading.\n"
          ]
        },
        {
          "output_type": "stream",
          "name": "stdout",
          "text": [
            "\b\b\b\b\b\b\b\b\b\b\b\b\b\b\b\b\b\b\b\b\b\b\b\b\b\b\b\b\b\b\b\b\b\b\b\b\b\b\b\b\b\b\b\b\b\b\b\b\b\b\b\b\b\b\b\b\b\b\b\b\b\b\b\b\b\b\b\b\b\b\b\b\b\b\b\b\b\b\b\b\b\b\b\b\b\r123/123 [==============================] - 87s 613ms/step - loss: 55.2633 - accuracy: 0.1758 - val_loss: 60.3478 - val_accuracy: 0.1507\n",
            "Epoch 14/100\n",
            "123/123 [==============================] - ETA: 0s - loss: 55.7536 - accuracy: 0.1856"
          ]
        },
        {
          "output_type": "stream",
          "name": "stderr",
          "text": [
            "WARNING:absl:Found untraced functions such as _jit_compiled_convolution_op, _jit_compiled_convolution_op, _jit_compiled_convolution_op, _jit_compiled_convolution_op, _jit_compiled_convolution_op while saving (showing 5 of 8). These functions will not be directly callable after loading.\n"
          ]
        },
        {
          "output_type": "stream",
          "name": "stdout",
          "text": [
            "\b\b\b\b\b\b\b\b\b\b\b\b\b\b\b\b\b\b\b\b\b\b\b\b\b\b\b\b\b\b\b\b\b\b\b\b\b\b\b\b\b\b\b\b\b\b\b\b\b\b\b\b\b\b\b\b\b\b\b\b\b\b\b\b\b\b\b\b\b\b\b\b\b\b\b\b\b\b\b\b\b\b\b\b\b\r123/123 [==============================] - 87s 608ms/step - loss: 55.7536 - accuracy: 0.1856 - val_loss: 52.7003 - val_accuracy: 0.1886\n",
            "Epoch 15/100\n",
            "123/123 [==============================] - 82s 570ms/step - loss: 49.0200 - accuracy: 0.1848 - val_loss: 68.5601 - val_accuracy: 0.1376\n",
            "Epoch 16/100\n",
            "123/123 [==============================] - ETA: 0s - loss: 50.6691 - accuracy: 0.2002"
          ]
        },
        {
          "output_type": "stream",
          "name": "stderr",
          "text": [
            "WARNING:absl:Found untraced functions such as _jit_compiled_convolution_op, _jit_compiled_convolution_op, _jit_compiled_convolution_op, _jit_compiled_convolution_op, _jit_compiled_convolution_op while saving (showing 5 of 8). These functions will not be directly callable after loading.\n"
          ]
        },
        {
          "output_type": "stream",
          "name": "stdout",
          "text": [
            "\b\b\b\b\b\b\b\b\b\b\b\b\b\b\b\b\b\b\b\b\b\b\b\b\b\b\b\b\b\b\b\b\b\b\b\b\b\b\b\b\b\b\b\b\b\b\b\b\b\b\b\b\b\b\b\b\b\b\b\b\b\b\b\b\b\b\b\b\b\b\b\b\b\b\b\b\b\b\b\b\b\b\b\b\b\r123/123 [==============================] - 87s 613ms/step - loss: 50.6691 - accuracy: 0.2002 - val_loss: 55.5559 - val_accuracy: 0.1875\n",
            "Epoch 17/100\n",
            "123/123 [==============================] - ETA: 0s - loss: 51.4654 - accuracy: 0.2193"
          ]
        },
        {
          "output_type": "stream",
          "name": "stderr",
          "text": [
            "WARNING:absl:Found untraced functions such as _jit_compiled_convolution_op, _jit_compiled_convolution_op, _jit_compiled_convolution_op, _jit_compiled_convolution_op, _jit_compiled_convolution_op while saving (showing 5 of 8). These functions will not be directly callable after loading.\n"
          ]
        },
        {
          "output_type": "stream",
          "name": "stdout",
          "text": [
            "\b\b\b\b\b\b\b\b\b\b\b\b\b\b\b\b\b\b\b\b\b\b\b\b\b\b\b\b\b\b\b\b\b\b\b\b\b\b\b\b\b\b\b\b\b\b\b\b\b\b\b\b\b\b\b\b\b\b\b\b\b\b\b\b\b\b\b\b\b\b\b\b\b\b\b\b\b\b\b\b\b\b\b\b\b\r123/123 [==============================] - 87s 607ms/step - loss: 51.4654 - accuracy: 0.2193 - val_loss: 42.1620 - val_accuracy: 0.3025\n",
            "Epoch 18/100\n",
            "123/123 [==============================] - 82s 571ms/step - loss: 47.1259 - accuracy: 0.2068 - val_loss: 44.9088 - val_accuracy: 0.1975\n",
            "Epoch 19/100\n",
            "123/123 [==============================] - ETA: 0s - loss: 48.5159 - accuracy: 0.2275"
          ]
        },
        {
          "output_type": "stream",
          "name": "stderr",
          "text": [
            "WARNING:absl:Found untraced functions such as _jit_compiled_convolution_op, _jit_compiled_convolution_op, _jit_compiled_convolution_op, _jit_compiled_convolution_op, _jit_compiled_convolution_op while saving (showing 5 of 8). These functions will not be directly callable after loading.\n"
          ]
        },
        {
          "output_type": "stream",
          "name": "stdout",
          "text": [
            "\b\b\b\b\b\b\b\b\b\b\b\b\b\b\b\b\b\b\b\b\b\b\b\b\b\b\b\b\b\b\b\b\b\b\b\b\b\b\b\b\b\b\b\b\b\b\b\b\b\b\b\b\b\b\b\b\b\b\b\b\b\b\b\b\b\b\b\b\b\b\b\b\b\b\b\b\b\b\b\b\b\b\b\b\b\r123/123 [==============================] - 87s 596ms/step - loss: 48.5159 - accuracy: 0.2275 - val_loss: 65.6486 - val_accuracy: 0.1897\n",
            "Epoch 20/100\n",
            "123/123 [==============================] - ETA: 0s - loss: 51.5696 - accuracy: 0.2290"
          ]
        },
        {
          "output_type": "stream",
          "name": "stderr",
          "text": [
            "WARNING:absl:Found untraced functions such as _jit_compiled_convolution_op, _jit_compiled_convolution_op, _jit_compiled_convolution_op, _jit_compiled_convolution_op, _jit_compiled_convolution_op while saving (showing 5 of 8). These functions will not be directly callable after loading.\n"
          ]
        },
        {
          "output_type": "stream",
          "name": "stdout",
          "text": [
            "\b\b\b\b\b\b\b\b\b\b\b\b\b\b\b\b\b\b\b\b\b\b\b\b\b\b\b\b\b\b\b\b\b\b\b\b\b\b\b\b\b\b\b\b\b\b\b\b\b\b\b\b\b\b\b\b\b\b\b\b\b\b\b\b\b\b\b\b\b\b\b\b\b\b\b\b\b\b\b\b\b\b\b\b\b\r123/123 [==============================] - 87s 611ms/step - loss: 51.5696 - accuracy: 0.2290 - val_loss: 36.3754 - val_accuracy: 0.2489\n",
            "Epoch 21/100\n",
            "123/123 [==============================] - ETA: 0s - loss: 50.4105 - accuracy: 0.2344"
          ]
        },
        {
          "output_type": "stream",
          "name": "stderr",
          "text": [
            "WARNING:absl:Found untraced functions such as _jit_compiled_convolution_op, _jit_compiled_convolution_op, _jit_compiled_convolution_op, _jit_compiled_convolution_op, _jit_compiled_convolution_op while saving (showing 5 of 8). These functions will not be directly callable after loading.\n"
          ]
        },
        {
          "output_type": "stream",
          "name": "stdout",
          "text": [
            "\b\b\b\b\b\b\b\b\b\b\b\b\b\b\b\b\b\b\b\b\b\b\b\b\b\b\b\b\b\b\b\b\b\b\b\b\b\b\b\b\b\b\b\b\b\b\b\b\b\b\b\b\b\b\b\b\b\b\b\b\b\b\b\b\b\b\b\b\b\b\b\b\b\b\b\b\b\b\b\b\b\b\b\b\b\r123/123 [==============================] - 87s 610ms/step - loss: 50.4105 - accuracy: 0.2344 - val_loss: 46.2351 - val_accuracy: 0.2835\n",
            "Epoch 22/100\n",
            "123/123 [==============================] - ETA: 0s - loss: 48.8883 - accuracy: 0.2505"
          ]
        },
        {
          "output_type": "stream",
          "name": "stderr",
          "text": [
            "WARNING:absl:Found untraced functions such as _jit_compiled_convolution_op, _jit_compiled_convolution_op, _jit_compiled_convolution_op, _jit_compiled_convolution_op, _jit_compiled_convolution_op while saving (showing 5 of 8). These functions will not be directly callable after loading.\n"
          ]
        },
        {
          "output_type": "stream",
          "name": "stdout",
          "text": [
            "\b\b\b\b\b\b\b\b\b\b\b\b\b\b\b\b\b\b\b\b\b\b\b\b\b\b\b\b\b\b\b\b\b\b\b\b\b\b\b\b\b\b\b\b\b\b\b\b\b\b\b\b\b\b\b\b\b\b\b\b\b\b\b\b\b\b\b\b\b\b\b\b\b\b\b\b\b\b\b\b\b\b\b\b\b\r123/123 [==============================] - 87s 609ms/step - loss: 48.8883 - accuracy: 0.2505 - val_loss: 39.6370 - val_accuracy: 0.3270\n",
            "Epoch 23/100\n",
            "123/123 [==============================] - ETA: 0s - loss: 43.8278 - accuracy: 0.2736"
          ]
        },
        {
          "output_type": "stream",
          "name": "stderr",
          "text": [
            "WARNING:absl:Found untraced functions such as _jit_compiled_convolution_op, _jit_compiled_convolution_op, _jit_compiled_convolution_op, _jit_compiled_convolution_op, _jit_compiled_convolution_op while saving (showing 5 of 8). These functions will not be directly callable after loading.\n"
          ]
        },
        {
          "output_type": "stream",
          "name": "stdout",
          "text": [
            "\b\b\b\b\b\b\b\b\b\b\b\b\b\b\b\b\b\b\b\b\b\b\b\b\b\b\b\b\b\b\b\b\b\b\b\b\b\b\b\b\b\b\b\b\b\b\b\b\b\b\b\b\b\b\b\b\b\b\b\b\b\b\b\b\b\b\b\b\b\b\b\b\b\b\b\b\b\b\b\b\b\b\b\b\b\r123/123 [==============================] - 87s 611ms/step - loss: 43.8278 - accuracy: 0.2736 - val_loss: 43.4456 - val_accuracy: 0.2455\n",
            "Epoch 24/100\n",
            "123/123 [==============================] - 82s 571ms/step - loss: 44.0655 - accuracy: 0.2600 - val_loss: 55.2518 - val_accuracy: 0.2176\n",
            "Epoch 25/100\n",
            "123/123 [==============================] - ETA: 0s - loss: 43.7806 - accuracy: 0.2896"
          ]
        },
        {
          "output_type": "stream",
          "name": "stderr",
          "text": [
            "WARNING:absl:Found untraced functions such as _jit_compiled_convolution_op, _jit_compiled_convolution_op, _jit_compiled_convolution_op, _jit_compiled_convolution_op, _jit_compiled_convolution_op while saving (showing 5 of 8). These functions will not be directly callable after loading.\n"
          ]
        },
        {
          "output_type": "stream",
          "name": "stdout",
          "text": [
            "\b\b\b\b\b\b\b\b\b\b\b\b\b\b\b\b\b\b\b\b\b\b\b\b\b\b\b\b\b\b\b\b\b\b\b\b\b\b\b\b\b\b\b\b\b\b\b\b\b\b\b\b\b\b\b\b\b\b\b\b\b\b\b\b\b\b\b\b\b\b\b\b\b\b\b\b\b\b\b\b\b\b\b\b\b\r123/123 [==============================] - 87s 612ms/step - loss: 43.7806 - accuracy: 0.2896 - val_loss: 31.3666 - val_accuracy: 0.3315\n",
            "Epoch 26/100\n",
            "123/123 [==============================] - 84s 573ms/step - loss: 42.9418 - accuracy: 0.2812 - val_loss: 49.1883 - val_accuracy: 0.2969\n",
            "Epoch 27/100\n",
            "123/123 [==============================] - ETA: 0s - loss: 44.8073 - accuracy: 0.3034"
          ]
        },
        {
          "output_type": "stream",
          "name": "stderr",
          "text": [
            "WARNING:absl:Found untraced functions such as _jit_compiled_convolution_op, _jit_compiled_convolution_op, _jit_compiled_convolution_op, _jit_compiled_convolution_op, _jit_compiled_convolution_op while saving (showing 5 of 8). These functions will not be directly callable after loading.\n"
          ]
        },
        {
          "output_type": "stream",
          "name": "stdout",
          "text": [
            "\b\b\b\b\b\b\b\b\b\b\b\b\b\b\b\b\b\b\b\b\b\b\b\b\b\b\b\b\b\b\b\b\b\b\b\b\b\b\b\b\b\b\b\b\b\b\b\b\b\b\b\b\b\b\b\b\b\b\b\b\b\b\b\b\b\b\b\b\b\b\b\b\b\b\b\b\b\b\b\b\b\b\b\b\b\r123/123 [==============================] - 87s 611ms/step - loss: 44.8073 - accuracy: 0.3034 - val_loss: 56.0259 - val_accuracy: 0.2667\n",
            "Epoch 28/100\n",
            "123/123 [==============================] - ETA: 0s - loss: 43.9648 - accuracy: 0.3137"
          ]
        },
        {
          "output_type": "stream",
          "name": "stderr",
          "text": [
            "WARNING:absl:Found untraced functions such as _jit_compiled_convolution_op, _jit_compiled_convolution_op, _jit_compiled_convolution_op, _jit_compiled_convolution_op, _jit_compiled_convolution_op while saving (showing 5 of 8). These functions will not be directly callable after loading.\n"
          ]
        },
        {
          "output_type": "stream",
          "name": "stdout",
          "text": [
            "\b\b\b\b\b\b\b\b\b\b\b\b\b\b\b\b\b\b\b\b\b\b\b\b\b\b\b\b\b\b\b\b\b\b\b\b\b\b\b\b\b\b\b\b\b\b\b\b\b\b\b\b\b\b\b\b\b\b\b\b\b\b\b\b\b\b\b\b\b\b\b\b\b\b\b\b\b\b\b\b\b\b\b\b\b\r123/123 [==============================] - 87s 609ms/step - loss: 43.9648 - accuracy: 0.3137 - val_loss: 44.0136 - val_accuracy: 0.3136\n",
            "Epoch 29/100\n",
            "123/123 [==============================] - ETA: 0s - loss: 42.3457 - accuracy: 0.3244"
          ]
        },
        {
          "output_type": "stream",
          "name": "stderr",
          "text": [
            "WARNING:absl:Found untraced functions such as _jit_compiled_convolution_op, _jit_compiled_convolution_op, _jit_compiled_convolution_op, _jit_compiled_convolution_op, _jit_compiled_convolution_op while saving (showing 5 of 8). These functions will not be directly callable after loading.\n"
          ]
        },
        {
          "output_type": "stream",
          "name": "stdout",
          "text": [
            "\b\b\b\b\b\b\b\b\b\b\b\b\b\b\b\b\b\b\b\b\b\b\b\b\b\b\b\b\b\b\b\b\b\b\b\b\b\b\b\b\b\b\b\b\b\b\b\b\b\b\b\b\b\b\b\b\b\b\b\b\b\b\b\b\b\b\b\b\b\b\b\b\b\b\b\b\b\b\b\b\b\b\b\b\b\r123/123 [==============================] - 87s 614ms/step - loss: 42.3457 - accuracy: 0.3244 - val_loss: 48.6073 - val_accuracy: 0.2913\n",
            "Epoch 30/100\n",
            "123/123 [==============================] - ETA: 0s - loss: 41.8016 - accuracy: 0.3310"
          ]
        },
        {
          "output_type": "stream",
          "name": "stderr",
          "text": [
            "WARNING:absl:Found untraced functions such as _jit_compiled_convolution_op, _jit_compiled_convolution_op, _jit_compiled_convolution_op, _jit_compiled_convolution_op, _jit_compiled_convolution_op while saving (showing 5 of 8). These functions will not be directly callable after loading.\n"
          ]
        },
        {
          "output_type": "stream",
          "name": "stdout",
          "text": [
            "\b\b\b\b\b\b\b\b\b\b\b\b\b\b\b\b\b\b\b\b\b\b\b\b\b\b\b\b\b\b\b\b\b\b\b\b\b\b\b\b\b\b\b\b\b\b\b\b\b\b\b\b\b\b\b\b\b\b\b\b\b\b\b\b\b\b\b\b\b\b\b\b\b\b\b\b\b\b\b\b\b\b\b\b\b\r123/123 [==============================] - 88s 614ms/step - loss: 41.8016 - accuracy: 0.3310 - val_loss: 41.0444 - val_accuracy: 0.3281\n",
            "Epoch 31/100\n",
            "123/123 [==============================] - ETA: 0s - loss: 41.0179 - accuracy: 0.3482"
          ]
        },
        {
          "output_type": "stream",
          "name": "stderr",
          "text": [
            "WARNING:absl:Found untraced functions such as _jit_compiled_convolution_op, _jit_compiled_convolution_op, _jit_compiled_convolution_op, _jit_compiled_convolution_op, _jit_compiled_convolution_op while saving (showing 5 of 8). These functions will not be directly callable after loading.\n"
          ]
        },
        {
          "output_type": "stream",
          "name": "stdout",
          "text": [
            "\b\b\b\b\b\b\b\b\b\b\b\b\b\b\b\b\b\b\b\b\b\b\b\b\b\b\b\b\b\b\b\b\b\b\b\b\b\b\b\b\b\b\b\b\b\b\b\b\b\b\b\b\b\b\b\b\b\b\b\b\b\b\b\b\b\b\b\b\b\b\b\b\b\b\b\b\b\b\b\b\b\b\b\b\b\r123/123 [==============================] - 87s 609ms/step - loss: 41.0179 - accuracy: 0.3482 - val_loss: 53.0166 - val_accuracy: 0.2790\n",
            "Epoch 32/100\n",
            "123/123 [==============================] - ETA: 0s - loss: 36.5913 - accuracy: 0.3514"
          ]
        },
        {
          "output_type": "stream",
          "name": "stderr",
          "text": [
            "WARNING:absl:Found untraced functions such as _jit_compiled_convolution_op, _jit_compiled_convolution_op, _jit_compiled_convolution_op, _jit_compiled_convolution_op, _jit_compiled_convolution_op while saving (showing 5 of 8). These functions will not be directly callable after loading.\n"
          ]
        },
        {
          "output_type": "stream",
          "name": "stdout",
          "text": [
            "\b\b\b\b\b\b\b\b\b\b\b\b\b\b\b\b\b\b\b\b\b\b\b\b\b\b\b\b\b\b\b\b\b\b\b\b\b\b\b\b\b\b\b\b\b\b\b\b\b\b\b\b\b\b\b\b\b\b\b\b\b\b\b\b\b\b\b\b\b\b\b\b\b\b\b\b\b\b\b\b\b\b\b\b\b\r123/123 [==============================] - 88s 614ms/step - loss: 36.5913 - accuracy: 0.3514 - val_loss: 29.7128 - val_accuracy: 0.4252\n",
            "Epoch 33/100\n",
            "123/123 [==============================] - ETA: 0s - loss: 39.8236 - accuracy: 0.3661"
          ]
        },
        {
          "output_type": "stream",
          "name": "stderr",
          "text": [
            "WARNING:absl:Found untraced functions such as _jit_compiled_convolution_op, _jit_compiled_convolution_op, _jit_compiled_convolution_op, _jit_compiled_convolution_op, _jit_compiled_convolution_op while saving (showing 5 of 8). These functions will not be directly callable after loading.\n"
          ]
        },
        {
          "output_type": "stream",
          "name": "stdout",
          "text": [
            "\b\b\b\b\b\b\b\b\b\b\b\b\b\b\b\b\b\b\b\b\b\b\b\b\b\b\b\b\b\b\b\b\b\b\b\b\b\b\b\b\b\b\b\b\b\b\b\b\b\b\b\b\b\b\b\b\b\b\b\b\b\b\b\b\b\b\b\b\b\b\b\b\b\b\b\b\b\b\b\b\b\b\b\b\b\r123/123 [==============================] - 87s 611ms/step - loss: 39.8236 - accuracy: 0.3661 - val_loss: 64.3395 - val_accuracy: 0.3092\n",
            "Epoch 34/100\n",
            "123/123 [==============================] - ETA: 0s - loss: 40.2289 - accuracy: 0.3804"
          ]
        },
        {
          "output_type": "stream",
          "name": "stderr",
          "text": [
            "WARNING:absl:Found untraced functions such as _jit_compiled_convolution_op, _jit_compiled_convolution_op, _jit_compiled_convolution_op, _jit_compiled_convolution_op, _jit_compiled_convolution_op while saving (showing 5 of 8). These functions will not be directly callable after loading.\n"
          ]
        },
        {
          "output_type": "stream",
          "name": "stdout",
          "text": [
            "\b\b\b\b\b\b\b\b\b\b\b\b\b\b\b\b\b\b\b\b\b\b\b\b\b\b\b\b\b\b\b\b\b\b\b\b\b\b\b\b\b\b\b\b\b\b\b\b\b\b\b\b\b\b\b\b\b\b\b\b\b\b\b\b\b\b\b\b\b\b\b\b\b\b\b\b\b\b\b\b\b\b\b\b\b\r123/123 [==============================] - 87s 609ms/step - loss: 40.2289 - accuracy: 0.3804 - val_loss: 34.0921 - val_accuracy: 0.3850\n",
            "Epoch 35/100\n",
            "123/123 [==============================] - ETA: 0s - loss: 39.0000 - accuracy: 0.4031"
          ]
        },
        {
          "output_type": "stream",
          "name": "stderr",
          "text": [
            "WARNING:absl:Found untraced functions such as _jit_compiled_convolution_op, _jit_compiled_convolution_op, _jit_compiled_convolution_op, _jit_compiled_convolution_op, _jit_compiled_convolution_op while saving (showing 5 of 8). These functions will not be directly callable after loading.\n"
          ]
        },
        {
          "output_type": "stream",
          "name": "stdout",
          "text": [
            "\b\b\b\b\b\b\b\b\b\b\b\b\b\b\b\b\b\b\b\b\b\b\b\b\b\b\b\b\b\b\b\b\b\b\b\b\b\b\b\b\b\b\b\b\b\b\b\b\b\b\b\b\b\b\b\b\b\b\b\b\b\b\b\b\b\b\b\b\b\b\b\b\b\b\b\b\b\b\b\b\b\b\b\b\b\r123/123 [==============================] - 87s 611ms/step - loss: 39.0000 - accuracy: 0.4031 - val_loss: 34.6568 - val_accuracy: 0.4007\n",
            "Epoch 36/100\n",
            "123/123 [==============================] - 82s 570ms/step - loss: 43.8444 - accuracy: 0.3770 - val_loss: 38.5859 - val_accuracy: 0.3638\n",
            "Epoch 37/100\n",
            "123/123 [==============================] - 84s 568ms/step - loss: 43.3755 - accuracy: 0.3829 - val_loss: 48.1186 - val_accuracy: 0.3750\n",
            "Epoch 38/100\n",
            "123/123 [==============================] - 82s 571ms/step - loss: 40.3407 - accuracy: 0.3967 - val_loss: 58.6265 - val_accuracy: 0.3292\n",
            "Epoch 39/100\n",
            "123/123 [==============================] - ETA: 0s - loss: 36.3188 - accuracy: 0.4405"
          ]
        },
        {
          "output_type": "stream",
          "name": "stderr",
          "text": [
            "WARNING:absl:Found untraced functions such as _jit_compiled_convolution_op, _jit_compiled_convolution_op, _jit_compiled_convolution_op, _jit_compiled_convolution_op, _jit_compiled_convolution_op while saving (showing 5 of 8). These functions will not be directly callable after loading.\n"
          ]
        },
        {
          "output_type": "stream",
          "name": "stdout",
          "text": [
            "\b\b\b\b\b\b\b\b\b\b\b\b\b\b\b\b\b\b\b\b\b\b\b\b\b\b\b\b\b\b\b\b\b\b\b\b\b\b\b\b\b\b\b\b\b\b\b\b\b\b\b\b\b\b\b\b\b\b\b\b\b\b\b\b\b\b\b\b\b\b\b\b\b\b\b\b\b\b\b\b\b\b\b\b\b\r123/123 [==============================] - 88s 614ms/step - loss: 36.3188 - accuracy: 0.4405 - val_loss: 35.4547 - val_accuracy: 0.4364\n",
            "Epoch 40/100\n",
            "123/123 [==============================] - 83s 573ms/step - loss: 38.2003 - accuracy: 0.4372 - val_loss: 53.5181 - val_accuracy: 0.4096\n",
            "Epoch 41/100\n",
            "123/123 [==============================] - 82s 570ms/step - loss: 39.8752 - accuracy: 0.4351 - val_loss: 46.5325 - val_accuracy: 0.4107\n",
            "Epoch 42/100\n",
            "123/123 [==============================] - 82s 570ms/step - loss: 37.6046 - accuracy: 0.4353 - val_loss: 45.8318 - val_accuracy: 0.4442\n",
            "Epoch 43/100\n",
            "123/123 [==============================] - ETA: 0s - loss: 34.9384 - accuracy: 0.4591"
          ]
        },
        {
          "output_type": "stream",
          "name": "stderr",
          "text": [
            "WARNING:absl:Found untraced functions such as _jit_compiled_convolution_op, _jit_compiled_convolution_op, _jit_compiled_convolution_op, _jit_compiled_convolution_op, _jit_compiled_convolution_op while saving (showing 5 of 8). These functions will not be directly callable after loading.\n"
          ]
        },
        {
          "output_type": "stream",
          "name": "stdout",
          "text": [
            "\b\b\b\b\b\b\b\b\b\b\b\b\b\b\b\b\b\b\b\b\b\b\b\b\b\b\b\b\b\b\b\b\b\b\b\b\b\b\b\b\b\b\b\b\b\b\b\b\b\b\b\b\b\b\b\b\b\b\b\b\b\b\b\b\b\b\b\b\b\b\b\b\b\b\b\b\b\b\b\b\b\b\b\b\b\r123/123 [==============================] - 87s 609ms/step - loss: 34.9384 - accuracy: 0.4591 - val_loss: 68.9241 - val_accuracy: 0.3940\n",
            "Epoch 44/100\n",
            "123/123 [==============================] - 82s 572ms/step - loss: 39.5231 - accuracy: 0.4489 - val_loss: 45.5253 - val_accuracy: 0.4866\n",
            "Epoch 45/100\n",
            "123/123 [==============================] - ETA: 0s - loss: 39.1027 - accuracy: 0.4706"
          ]
        },
        {
          "output_type": "stream",
          "name": "stderr",
          "text": [
            "WARNING:absl:Found untraced functions such as _jit_compiled_convolution_op, _jit_compiled_convolution_op, _jit_compiled_convolution_op, _jit_compiled_convolution_op, _jit_compiled_convolution_op while saving (showing 5 of 8). These functions will not be directly callable after loading.\n"
          ]
        },
        {
          "output_type": "stream",
          "name": "stdout",
          "text": [
            "\b\b\b\b\b\b\b\b\b\b\b\b\b\b\b\b\b\b\b\b\b\b\b\b\b\b\b\b\b\b\b\b\b\b\b\b\b\b\b\b\b\b\b\b\b\b\b\b\b\b\b\b\b\b\b\b\b\b\b\b\b\b\b\b\b\b\b\b\b\b\b\b\b\b\b\b\b\b\b\b\b\b\b\b\b\r123/123 [==============================] - 87s 609ms/step - loss: 39.1027 - accuracy: 0.4706 - val_loss: 42.7042 - val_accuracy: 0.4531\n",
            "Epoch 46/100\n",
            "123/123 [==============================] - ETA: 0s - loss: 35.5611 - accuracy: 0.4731"
          ]
        },
        {
          "output_type": "stream",
          "name": "stderr",
          "text": [
            "WARNING:absl:Found untraced functions such as _jit_compiled_convolution_op, _jit_compiled_convolution_op, _jit_compiled_convolution_op, _jit_compiled_convolution_op, _jit_compiled_convolution_op while saving (showing 5 of 8). These functions will not be directly callable after loading.\n"
          ]
        },
        {
          "output_type": "stream",
          "name": "stdout",
          "text": [
            "\b\b\b\b\b\b\b\b\b\b\b\b\b\b\b\b\b\b\b\b\b\b\b\b\b\b\b\b\b\b\b\b\b\b\b\b\b\b\b\b\b\b\b\b\b\b\b\b\b\b\b\b\b\b\b\b\b\b\b\b\b\b\b\b\b\b\b\b\b\b\b\b\b\b\b\b\b\b\b\b\b\b\b\b\b\r123/123 [==============================] - 88s 615ms/step - loss: 35.5611 - accuracy: 0.4731 - val_loss: 33.2757 - val_accuracy: 0.4911\n",
            "Epoch 47/100\n",
            "123/123 [==============================] - ETA: 0s - loss: 36.8395 - accuracy: 0.4885"
          ]
        },
        {
          "output_type": "stream",
          "name": "stderr",
          "text": [
            "WARNING:absl:Found untraced functions such as _jit_compiled_convolution_op, _jit_compiled_convolution_op, _jit_compiled_convolution_op, _jit_compiled_convolution_op, _jit_compiled_convolution_op while saving (showing 5 of 8). These functions will not be directly callable after loading.\n"
          ]
        },
        {
          "output_type": "stream",
          "name": "stdout",
          "text": [
            "\b\b\b\b\b\b\b\b\b\b\b\b\b\b\b\b\b\b\b\b\b\b\b\b\b\b\b\b\b\b\b\b\b\b\b\b\b\b\b\b\b\b\b\b\b\b\b\b\b\b\b\b\b\b\b\b\b\b\b\b\b\b\b\b\b\b\b\b\b\b\b\b\b\b\b\b\b\b\b\b\b\b\b\b\b\r123/123 [==============================] - 87s 611ms/step - loss: 36.8395 - accuracy: 0.4885 - val_loss: 43.3787 - val_accuracy: 0.4587\n",
            "Epoch 48/100\n",
            "123/123 [==============================] - ETA: 0s - loss: 35.5170 - accuracy: 0.5064"
          ]
        },
        {
          "output_type": "stream",
          "name": "stderr",
          "text": [
            "WARNING:absl:Found untraced functions such as _jit_compiled_convolution_op, _jit_compiled_convolution_op, _jit_compiled_convolution_op, _jit_compiled_convolution_op, _jit_compiled_convolution_op while saving (showing 5 of 8). These functions will not be directly callable after loading.\n"
          ]
        },
        {
          "output_type": "stream",
          "name": "stdout",
          "text": [
            "\b\b\b\b\b\b\b\b\b\b\b\b\b\b\b\b\b\b\b\b\b\b\b\b\b\b\b\b\b\b\b\b\b\b\b\b\b\b\b\b\b\b\b\b\b\b\b\b\b\b\b\b\b\b\b\b\b\b\b\b\b\b\b\b\b\b\b\b\b\b\b\b\b\b\b\b\b\b\b\b\b\b\b\b\b\r123/123 [==============================] - 87s 610ms/step - loss: 35.5170 - accuracy: 0.5064 - val_loss: 37.5934 - val_accuracy: 0.4955\n",
            "Epoch 49/100\n",
            "123/123 [==============================] - ETA: 0s - loss: 31.5846 - accuracy: 0.5228"
          ]
        },
        {
          "output_type": "stream",
          "name": "stderr",
          "text": [
            "WARNING:absl:Found untraced functions such as _jit_compiled_convolution_op, _jit_compiled_convolution_op, _jit_compiled_convolution_op, _jit_compiled_convolution_op, _jit_compiled_convolution_op while saving (showing 5 of 8). These functions will not be directly callable after loading.\n"
          ]
        },
        {
          "output_type": "stream",
          "name": "stdout",
          "text": [
            "\b\b\b\b\b\b\b\b\b\b\b\b\b\b\b\b\b\b\b\b\b\b\b\b\b\b\b\b\b\b\b\b\b\b\b\b\b\b\b\b\b\b\b\b\b\b\b\b\b\b\b\b\b\b\b\b\b\b\b\b\b\b\b\b\b\b\b\b\b\b\b\b\b\b\b\b\b\b\b\b\b\b\b\b\b\r123/123 [==============================] - 87s 611ms/step - loss: 31.5846 - accuracy: 0.5228 - val_loss: 50.6478 - val_accuracy: 0.4185\n",
            "Epoch 50/100\n",
            "123/123 [==============================] - ETA: 0s - loss: 32.1163 - accuracy: 0.5404"
          ]
        },
        {
          "output_type": "stream",
          "name": "stderr",
          "text": [
            "WARNING:absl:Found untraced functions such as _jit_compiled_convolution_op, _jit_compiled_convolution_op, _jit_compiled_convolution_op, _jit_compiled_convolution_op, _jit_compiled_convolution_op while saving (showing 5 of 8). These functions will not be directly callable after loading.\n"
          ]
        },
        {
          "output_type": "stream",
          "name": "stdout",
          "text": [
            "\b\b\b\b\b\b\b\b\b\b\b\b\b\b\b\b\b\b\b\b\b\b\b\b\b\b\b\b\b\b\b\b\b\b\b\b\b\b\b\b\b\b\b\b\b\b\b\b\b\b\b\b\b\b\b\b\b\b\b\b\b\b\b\b\b\b\b\b\b\b\b\b\b\b\b\b\b\b\b\b\b\b\b\b\b\r123/123 [==============================] - 89s 627ms/step - loss: 32.1163 - accuracy: 0.5404 - val_loss: 36.6786 - val_accuracy: 0.5469\n",
            "Epoch 51/100\n",
            "123/123 [==============================] - 82s 572ms/step - loss: 31.0654 - accuracy: 0.5386 - val_loss: 20.7546 - val_accuracy: 0.5963\n",
            "Epoch 52/100\n",
            "123/123 [==============================] - ETA: 0s - loss: 32.0326 - accuracy: 0.5424"
          ]
        },
        {
          "output_type": "stream",
          "name": "stderr",
          "text": [
            "WARNING:absl:Found untraced functions such as _jit_compiled_convolution_op, _jit_compiled_convolution_op, _jit_compiled_convolution_op, _jit_compiled_convolution_op, _jit_compiled_convolution_op while saving (showing 5 of 8). These functions will not be directly callable after loading.\n"
          ]
        },
        {
          "output_type": "stream",
          "name": "stdout",
          "text": [
            "\b\b\b\b\b\b\b\b\b\b\b\b\b\b\b\b\b\b\b\b\b\b\b\b\b\b\b\b\b\b\b\b\b\b\b\b\b\b\b\b\b\b\b\b\b\b\b\b\b\b\b\b\b\b\b\b\b\b\b\b\b\b\b\b\b\b\b\b\b\b\b\b\b\b\b\b\b\b\b\b\b\b\b\b\b\r123/123 [==============================] - 87s 607ms/step - loss: 32.0326 - accuracy: 0.5424 - val_loss: 47.0197 - val_accuracy: 0.5069\n",
            "Epoch 53/100\n",
            "123/123 [==============================] - 82s 570ms/step - loss: 39.8828 - accuracy: 0.5069 - val_loss: 29.7334 - val_accuracy: 0.5692\n",
            "Epoch 54/100\n",
            "123/123 [==============================] - ETA: 0s - loss: 26.4369 - accuracy: 0.5864"
          ]
        },
        {
          "output_type": "stream",
          "name": "stderr",
          "text": [
            "WARNING:absl:Found untraced functions such as _jit_compiled_convolution_op, _jit_compiled_convolution_op, _jit_compiled_convolution_op, _jit_compiled_convolution_op, _jit_compiled_convolution_op while saving (showing 5 of 8). These functions will not be directly callable after loading.\n"
          ]
        },
        {
          "output_type": "stream",
          "name": "stdout",
          "text": [
            "\b\b\b\b\b\b\b\b\b\b\b\b\b\b\b\b\b\b\b\b\b\b\b\b\b\b\b\b\b\b\b\b\b\b\b\b\b\b\b\b\b\b\b\b\b\b\b\b\b\b\b\b\b\b\b\b\b\b\b\b\b\b\b\b\b\b\b\b\b\b\b\b\b\b\b\b\b\b\b\b\b\b\b\b\b\r123/123 [==============================] - 87s 613ms/step - loss: 26.4369 - accuracy: 0.5864 - val_loss: 28.0925 - val_accuracy: 0.5625\n",
            "Epoch 55/100\n",
            "123/123 [==============================] - ETA: 0s - loss: 27.3245 - accuracy: 0.5945"
          ]
        },
        {
          "output_type": "stream",
          "name": "stderr",
          "text": [
            "WARNING:absl:Found untraced functions such as _jit_compiled_convolution_op, _jit_compiled_convolution_op, _jit_compiled_convolution_op, _jit_compiled_convolution_op, _jit_compiled_convolution_op while saving (showing 5 of 8). These functions will not be directly callable after loading.\n"
          ]
        },
        {
          "output_type": "stream",
          "name": "stdout",
          "text": [
            "\b\b\b\b\b\b\b\b\b\b\b\b\b\b\b\b\b\b\b\b\b\b\b\b\b\b\b\b\b\b\b\b\b\b\b\b\b\b\b\b\b\b\b\b\b\b\b\b\b\b\b\b\b\b\b\b\b\b\b\b\b\b\b\b\b\b\b\b\b\b\b\b\b\b\b\b\b\b\b\b\b\b\b\b\b\r123/123 [==============================] - 87s 612ms/step - loss: 27.3245 - accuracy: 0.5945 - val_loss: 36.2318 - val_accuracy: 0.5045\n",
            "Epoch 56/100\n",
            "123/123 [==============================] - 82s 569ms/step - loss: 28.1780 - accuracy: 0.5861 - val_loss: 31.5393 - val_accuracy: 0.5268\n",
            "Epoch 57/100\n",
            "123/123 [==============================] - 82s 569ms/step - loss: 29.4474 - accuracy: 0.5831 - val_loss: 21.9300 - val_accuracy: 0.6350\n",
            "Epoch 58/100\n",
            "123/123 [==============================] - 82s 568ms/step - loss: 29.5660 - accuracy: 0.5879 - val_loss: 42.2740 - val_accuracy: 0.4777\n",
            "Epoch 59/100\n",
            "123/123 [==============================] - ETA: 0s - loss: 27.9806 - accuracy: 0.6042"
          ]
        },
        {
          "output_type": "stream",
          "name": "stderr",
          "text": [
            "WARNING:absl:Found untraced functions such as _jit_compiled_convolution_op, _jit_compiled_convolution_op, _jit_compiled_convolution_op, _jit_compiled_convolution_op, _jit_compiled_convolution_op while saving (showing 5 of 8). These functions will not be directly callable after loading.\n"
          ]
        },
        {
          "output_type": "stream",
          "name": "stdout",
          "text": [
            "\b\b\b\b\b\b\b\b\b\b\b\b\b\b\b\b\b\b\b\b\b\b\b\b\b\b\b\b\b\b\b\b\b\b\b\b\b\b\b\b\b\b\b\b\b\b\b\b\b\b\b\b\b\b\b\b\b\b\b\b\b\b\b\b\b\b\b\b\b\b\b\b\b\b\b\b\b\b\b\b\b\b\b\b\b\r123/123 [==============================] - 87s 609ms/step - loss: 27.9806 - accuracy: 0.6042 - val_loss: 15.9018 - val_accuracy: 0.6786\n",
            "Epoch 60/100\n",
            "123/123 [==============================] - ETA: 0s - loss: 27.4708 - accuracy: 0.6095"
          ]
        },
        {
          "output_type": "stream",
          "name": "stderr",
          "text": [
            "WARNING:absl:Found untraced functions such as _jit_compiled_convolution_op, _jit_compiled_convolution_op, _jit_compiled_convolution_op, _jit_compiled_convolution_op, _jit_compiled_convolution_op while saving (showing 5 of 8). These functions will not be directly callable after loading.\n"
          ]
        },
        {
          "output_type": "stream",
          "name": "stdout",
          "text": [
            "\b\b\b\b\b\b\b\b\b\b\b\b\b\b\b\b\b\b\b\b\b\b\b\b\b\b\b\b\b\b\b\b\b\b\b\b\b\b\b\b\b\b\b\b\b\b\b\b\b\b\b\b\b\b\b\b\b\b\b\b\b\b\b\b\b\b\b\b\b\b\b\b\b\b\b\b\b\b\b\b\b\b\b\b\b\r123/123 [==============================] - 87s 610ms/step - loss: 27.4708 - accuracy: 0.6095 - val_loss: 55.5942 - val_accuracy: 0.5312\n",
            "Epoch 61/100\n",
            "123/123 [==============================] - 82s 568ms/step - loss: 34.7129 - accuracy: 0.5803 - val_loss: 45.5799 - val_accuracy: 0.5670\n",
            "Epoch 62/100\n",
            "123/123 [==============================] - 82s 567ms/step - loss: 32.2577 - accuracy: 0.5989 - val_loss: 39.1621 - val_accuracy: 0.5792\n",
            "Epoch 63/100\n",
            "123/123 [==============================] - 82s 569ms/step - loss: 30.2568 - accuracy: 0.6090 - val_loss: 34.4804 - val_accuracy: 0.5493\n",
            "Epoch 64/100\n",
            "123/123 [==============================] - ETA: 0s - loss: 26.8641 - accuracy: 0.6339"
          ]
        },
        {
          "output_type": "stream",
          "name": "stderr",
          "text": [
            "WARNING:absl:Found untraced functions such as _jit_compiled_convolution_op, _jit_compiled_convolution_op, _jit_compiled_convolution_op, _jit_compiled_convolution_op, _jit_compiled_convolution_op while saving (showing 5 of 8). These functions will not be directly callable after loading.\n"
          ]
        },
        {
          "output_type": "stream",
          "name": "stdout",
          "text": [
            "\b\b\b\b\b\b\b\b\b\b\b\b\b\b\b\b\b\b\b\b\b\b\b\b\b\b\b\b\b\b\b\b\b\b\b\b\b\b\b\b\b\b\b\b\b\b\b\b\b\b\b\b\b\b\b\b\b\b\b\b\b\b\b\b\b\b\b\b\b\b\b\b\b\b\b\b\b\b\b\b\b\b\b\b\b\r123/123 [==============================] - 88s 622ms/step - loss: 26.8641 - accuracy: 0.6339 - val_loss: 39.6704 - val_accuracy: 0.6071\n",
            "Epoch 65/100\n",
            "123/123 [==============================] - ETA: 0s - loss: 26.0114 - accuracy: 0.6480"
          ]
        },
        {
          "output_type": "stream",
          "name": "stderr",
          "text": [
            "WARNING:absl:Found untraced functions such as _jit_compiled_convolution_op, _jit_compiled_convolution_op, _jit_compiled_convolution_op, _jit_compiled_convolution_op, _jit_compiled_convolution_op while saving (showing 5 of 8). These functions will not be directly callable after loading.\n"
          ]
        },
        {
          "output_type": "stream",
          "name": "stdout",
          "text": [
            "\b\b\b\b\b\b\b\b\b\b\b\b\b\b\b\b\b\b\b\b\b\b\b\b\b\b\b\b\b\b\b\b\b\b\b\b\b\b\b\b\b\b\b\b\b\b\b\b\b\b\b\b\b\b\b\b\b\b\b\b\b\b\b\b\b\b\b\b\b\b\b\b\b\b\b\b\b\b\b\b\b\b\b\b\b\r123/123 [==============================] - 87s 607ms/step - loss: 26.0114 - accuracy: 0.6480 - val_loss: 25.8100 - val_accuracy: 0.6663\n",
            "Epoch 66/100\n",
            "123/123 [==============================] - ETA: 0s - loss: 24.6843 - accuracy: 0.6616"
          ]
        },
        {
          "output_type": "stream",
          "name": "stderr",
          "text": [
            "WARNING:absl:Found untraced functions such as _jit_compiled_convolution_op, _jit_compiled_convolution_op, _jit_compiled_convolution_op, _jit_compiled_convolution_op, _jit_compiled_convolution_op while saving (showing 5 of 8). These functions will not be directly callable after loading.\n"
          ]
        },
        {
          "output_type": "stream",
          "name": "stdout",
          "text": [
            "\b\b\b\b\b\b\b\b\b\b\b\b\b\b\b\b\b\b\b\b\b\b\b\b\b\b\b\b\b\b\b\b\b\b\b\b\b\b\b\b\b\b\b\b\b\b\b\b\b\b\b\b\b\b\b\b\b\b\b\b\b\b\b\b\b\b\b\b\b\b\b\b\b\b\b\b\b\b\b\b\b\b\b\b\b\r123/123 [==============================] - 87s 611ms/step - loss: 24.6843 - accuracy: 0.6616 - val_loss: 24.6777 - val_accuracy: 0.6875\n",
            "Epoch 67/100\n",
            "123/123 [==============================] - 83s 567ms/step - loss: 27.0846 - accuracy: 0.6449 - val_loss: 56.0372 - val_accuracy: 0.5346\n",
            "Epoch 68/100\n",
            "123/123 [==============================] - 84s 584ms/step - loss: 31.6078 - accuracy: 0.6286 - val_loss: 21.9224 - val_accuracy: 0.6915\n",
            "Epoch 69/100\n",
            "123/123 [==============================] - ETA: 0s - loss: 25.0775 - accuracy: 0.6720"
          ]
        },
        {
          "output_type": "stream",
          "name": "stderr",
          "text": [
            "WARNING:absl:Found untraced functions such as _jit_compiled_convolution_op, _jit_compiled_convolution_op, _jit_compiled_convolution_op, _jit_compiled_convolution_op, _jit_compiled_convolution_op while saving (showing 5 of 8). These functions will not be directly callable after loading.\n"
          ]
        },
        {
          "output_type": "stream",
          "name": "stdout",
          "text": [
            "\b\b\b\b\b\b\b\b\b\b\b\b\b\b\b\b\b\b\b\b\b\b\b\b\b\b\b\b\b\b\b\b\b\b\b\b\b\b\b\b\b\b\b\b\b\b\b\b\b\b\b\b\b\b\b\b\b\b\b\b\b\b\b\b\b\b\b\b\b\b\b\b\b\b\b\b\b\b\b\b\b\b\b\b\b\r123/123 [==============================] - 87s 612ms/step - loss: 25.0775 - accuracy: 0.6720 - val_loss: 58.9458 - val_accuracy: 0.5402\n",
            "Epoch 70/100\n",
            "123/123 [==============================] - 82s 567ms/step - loss: 27.4211 - accuracy: 0.6547 - val_loss: 38.2586 - val_accuracy: 0.5692\n",
            "Epoch 71/100\n",
            "123/123 [==============================] - ETA: 0s - loss: 26.7031 - accuracy: 0.6774"
          ]
        },
        {
          "output_type": "stream",
          "name": "stderr",
          "text": [
            "WARNING:absl:Found untraced functions such as _jit_compiled_convolution_op, _jit_compiled_convolution_op, _jit_compiled_convolution_op, _jit_compiled_convolution_op, _jit_compiled_convolution_op while saving (showing 5 of 8). These functions will not be directly callable after loading.\n"
          ]
        },
        {
          "output_type": "stream",
          "name": "stdout",
          "text": [
            "\b\b\b\b\b\b\b\b\b\b\b\b\b\b\b\b\b\b\b\b\b\b\b\b\b\b\b\b\b\b\b\b\b\b\b\b\b\b\b\b\b\b\b\b\b\b\b\b\b\b\b\b\b\b\b\b\b\b\b\b\b\b\b\b\b\b\b\b\b\b\b\b\b\b\b\b\b\b\b\b\b\b\b\b\b\r123/123 [==============================] - 87s 610ms/step - loss: 26.7031 - accuracy: 0.6774 - val_loss: 54.0725 - val_accuracy: 0.6049\n",
            "Epoch 72/100\n",
            "123/123 [==============================] - ETA: 0s - loss: 22.6293 - accuracy: 0.6963"
          ]
        },
        {
          "output_type": "stream",
          "name": "stderr",
          "text": [
            "WARNING:absl:Found untraced functions such as _jit_compiled_convolution_op, _jit_compiled_convolution_op, _jit_compiled_convolution_op, _jit_compiled_convolution_op, _jit_compiled_convolution_op while saving (showing 5 of 8). These functions will not be directly callable after loading.\n"
          ]
        },
        {
          "output_type": "stream",
          "name": "stdout",
          "text": [
            "\b\b\b\b\b\b\b\b\b\b\b\b\b\b\b\b\b\b\b\b\b\b\b\b\b\b\b\b\b\b\b\b\b\b\b\b\b\b\b\b\b\b\b\b\b\b\b\b\b\b\b\b\b\b\b\b\b\b\b\b\b\b\b\b\b\b\b\b\b\b\b\b\b\b\b\b\b\b\b\b\b\b\b\b\b\r123/123 [==============================] - 89s 623ms/step - loss: 22.6293 - accuracy: 0.6963 - val_loss: 29.6974 - val_accuracy: 0.6540\n",
            "Epoch 73/100\n",
            "123/123 [==============================] - ETA: 0s - loss: 21.0554 - accuracy: 0.7139"
          ]
        },
        {
          "output_type": "stream",
          "name": "stderr",
          "text": [
            "WARNING:absl:Found untraced functions such as _jit_compiled_convolution_op, _jit_compiled_convolution_op, _jit_compiled_convolution_op, _jit_compiled_convolution_op, _jit_compiled_convolution_op while saving (showing 5 of 8). These functions will not be directly callable after loading.\n"
          ]
        },
        {
          "output_type": "stream",
          "name": "stdout",
          "text": [
            "\b\b\b\b\b\b\b\b\b\b\b\b\b\b\b\b\b\b\b\b\b\b\b\b\b\b\b\b\b\b\b\b\b\b\b\b\b\b\b\b\b\b\b\b\b\b\b\b\b\b\b\b\b\b\b\b\b\b\b\b\b\b\b\b\b\b\b\b\b\b\b\b\b\b\b\b\b\b\b\b\b\b\b\b\b\r123/123 [==============================] - 88s 616ms/step - loss: 21.0554 - accuracy: 0.7139 - val_loss: 26.2458 - val_accuracy: 0.7266\n",
            "Epoch 74/100\n",
            "123/123 [==============================] - 82s 570ms/step - loss: 21.1463 - accuracy: 0.7091 - val_loss: 30.4285 - val_accuracy: 0.6339\n",
            "Epoch 75/100\n",
            "123/123 [==============================] - 84s 567ms/step - loss: 27.9719 - accuracy: 0.6787 - val_loss: 49.2649 - val_accuracy: 0.5837\n",
            "Epoch 76/100\n",
            "123/123 [==============================] - 84s 582ms/step - loss: 27.1797 - accuracy: 0.6874 - val_loss: 22.1450 - val_accuracy: 0.7188\n",
            "Epoch 77/100\n",
            "123/123 [==============================] - 82s 567ms/step - loss: 24.4373 - accuracy: 0.7037 - val_loss: 64.5146 - val_accuracy: 0.5949\n",
            "Epoch 78/100\n",
            "123/123 [==============================] - 82s 567ms/step - loss: 24.1396 - accuracy: 0.7032 - val_loss: 39.8675 - val_accuracy: 0.6306\n",
            "Epoch 79/100\n",
            "123/123 [==============================] - 82s 567ms/step - loss: 25.9885 - accuracy: 0.6958 - val_loss: 29.3963 - val_accuracy: 0.6998\n",
            "Epoch 80/100\n",
            "123/123 [==============================] - 82s 569ms/step - loss: 22.6120 - accuracy: 0.7134 - val_loss: 27.6134 - val_accuracy: 0.6775\n",
            "Epoch 81/100\n",
            "123/123 [==============================] - ETA: 0s - loss: 19.5396 - accuracy: 0.7396"
          ]
        },
        {
          "output_type": "stream",
          "name": "stderr",
          "text": [
            "WARNING:absl:Found untraced functions such as _jit_compiled_convolution_op, _jit_compiled_convolution_op, _jit_compiled_convolution_op, _jit_compiled_convolution_op, _jit_compiled_convolution_op while saving (showing 5 of 8). These functions will not be directly callable after loading.\n"
          ]
        },
        {
          "output_type": "stream",
          "name": "stdout",
          "text": [
            "\b\b\b\b\b\b\b\b\b\b\b\b\b\b\b\b\b\b\b\b\b\b\b\b\b\b\b\b\b\b\b\b\b\b\b\b\b\b\b\b\b\b\b\b\b\b\b\b\b\b\b\b\b\b\b\b\b\b\b\b\b\b\b\b\b\b\b\b\b\b\b\b\b\b\b\b\b\b\b\b\b\b\b\b\b\r123/123 [==============================] - 87s 610ms/step - loss: 19.5396 - accuracy: 0.7396 - val_loss: 10.7433 - val_accuracy: 0.7991\n",
            "Epoch 82/100\n",
            "123/123 [==============================] - ETA: 0s - loss: 17.4150 - accuracy: 0.7602"
          ]
        },
        {
          "output_type": "stream",
          "name": "stderr",
          "text": [
            "WARNING:absl:Found untraced functions such as _jit_compiled_convolution_op, _jit_compiled_convolution_op, _jit_compiled_convolution_op, _jit_compiled_convolution_op, _jit_compiled_convolution_op while saving (showing 5 of 8). These functions will not be directly callable after loading.\n"
          ]
        },
        {
          "output_type": "stream",
          "name": "stdout",
          "text": [
            "\b\b\b\b\b\b\b\b\b\b\b\b\b\b\b\b\b\b\b\b\b\b\b\b\b\b\b\b\b\b\b\b\b\b\b\b\b\b\b\b\b\b\b\b\b\b\b\b\b\b\b\b\b\b\b\b\b\b\b\b\b\b\b\b\b\b\b\b\b\b\b\b\b\b\b\b\b\b\b\b\b\b\b\b\b\r123/123 [==============================] - 87s 608ms/step - loss: 17.4150 - accuracy: 0.7602 - val_loss: 31.6684 - val_accuracy: 0.6763\n",
            "Epoch 83/100\n",
            "123/123 [==============================] - ETA: 0s - loss: 18.2626 - accuracy: 0.7620"
          ]
        },
        {
          "output_type": "stream",
          "name": "stderr",
          "text": [
            "WARNING:absl:Found untraced functions such as _jit_compiled_convolution_op, _jit_compiled_convolution_op, _jit_compiled_convolution_op, _jit_compiled_convolution_op, _jit_compiled_convolution_op while saving (showing 5 of 8). These functions will not be directly callable after loading.\n"
          ]
        },
        {
          "output_type": "stream",
          "name": "stdout",
          "text": [
            "\b\b\b\b\b\b\b\b\b\b\b\b\b\b\b\b\b\b\b\b\b\b\b\b\b\b\b\b\b\b\b\b\b\b\b\b\b\b\b\b\b\b\b\b\b\b\b\b\b\b\b\b\b\b\b\b\b\b\b\b\b\b\b\b\b\b\b\b\b\b\b\b\b\b\b\b\b\b\b\b\b\b\b\b\b\r123/123 [==============================] - 87s 609ms/step - loss: 18.2626 - accuracy: 0.7620 - val_loss: 16.9586 - val_accuracy: 0.7578\n",
            "Epoch 84/100\n",
            "123/123 [==============================] - 82s 568ms/step - loss: 22.7892 - accuracy: 0.7416 - val_loss: 27.6887 - val_accuracy: 0.7018\n",
            "Epoch 85/100\n",
            "123/123 [==============================] - 82s 567ms/step - loss: 20.3506 - accuracy: 0.7464 - val_loss: 24.9818 - val_accuracy: 0.7422\n",
            "Epoch 86/100\n",
            "123/123 [==============================] - 82s 568ms/step - loss: 21.6195 - accuracy: 0.7423 - val_loss: 16.3250 - val_accuracy: 0.7824\n",
            "Epoch 87/100\n",
            "123/123 [==============================] - 82s 568ms/step - loss: 21.3924 - accuracy: 0.7485 - val_loss: 41.5073 - val_accuracy: 0.6842\n",
            "Epoch 88/100\n",
            "123/123 [==============================] - ETA: 0s - loss: 17.6666 - accuracy: 0.7671"
          ]
        },
        {
          "output_type": "stream",
          "name": "stderr",
          "text": [
            "WARNING:absl:Found untraced functions such as _jit_compiled_convolution_op, _jit_compiled_convolution_op, _jit_compiled_convolution_op, _jit_compiled_convolution_op, _jit_compiled_convolution_op while saving (showing 5 of 8). These functions will not be directly callable after loading.\n"
          ]
        },
        {
          "output_type": "stream",
          "name": "stdout",
          "text": [
            "\b\b\b\b\b\b\b\b\b\b\b\b\b\b\b\b\b\b\b\b\b\b\b\b\b\b\b\b\b\b\b\b\b\b\b\b\b\b\b\b\b\b\b\b\b\b\b\b\b\b\b\b\b\b\b\b\b\b\b\b\b\b\b\b\b\b\b\b\b\b\b\b\b\b\b\b\b\b\b\b\b\b\b\b\b\r123/123 [==============================] - 86s 605ms/step - loss: 17.6666 - accuracy: 0.7671 - val_loss: 28.1514 - val_accuracy: 0.7041\n",
            "Epoch 89/100\n",
            "123/123 [==============================] - 82s 568ms/step - loss: 19.5270 - accuracy: 0.7592 - val_loss: 20.2942 - val_accuracy: 0.7254\n",
            "Epoch 90/100\n",
            "123/123 [==============================] - 82s 568ms/step - loss: 18.4121 - accuracy: 0.7610 - val_loss: 29.6010 - val_accuracy: 0.7221\n",
            "Epoch 91/100\n",
            "123/123 [==============================] - ETA: 0s - loss: 18.3320 - accuracy: 0.7716"
          ]
        },
        {
          "output_type": "stream",
          "name": "stderr",
          "text": [
            "WARNING:absl:Found untraced functions such as _jit_compiled_convolution_op, _jit_compiled_convolution_op, _jit_compiled_convolution_op, _jit_compiled_convolution_op, _jit_compiled_convolution_op while saving (showing 5 of 8). These functions will not be directly callable after loading.\n"
          ]
        },
        {
          "output_type": "stream",
          "name": "stdout",
          "text": [
            "\b\b\b\b\b\b\b\b\b\b\b\b\b\b\b\b\b\b\b\b\b\b\b\b\b\b\b\b\b\b\b\b\b\b\b\b\b\b\b\b\b\b\b\b\b\b\b\b\b\b\b\b\b\b\b\b\b\b\b\b\b\b\b\b\b\b\b\b\b\b\b\b\b\b\b\b\b\b\b\b\b\b\b\b\b\r123/123 [==============================] - 87s 610ms/step - loss: 18.3320 - accuracy: 0.7716 - val_loss: 24.1408 - val_accuracy: 0.7634\n",
            "Epoch 92/100\n",
            "123/123 [==============================] - ETA: 0s - loss: 18.2421 - accuracy: 0.7840"
          ]
        },
        {
          "output_type": "stream",
          "name": "stderr",
          "text": [
            "WARNING:absl:Found untraced functions such as _jit_compiled_convolution_op, _jit_compiled_convolution_op, _jit_compiled_convolution_op, _jit_compiled_convolution_op, _jit_compiled_convolution_op while saving (showing 5 of 8). These functions will not be directly callable after loading.\n"
          ]
        },
        {
          "output_type": "stream",
          "name": "stdout",
          "text": [
            "\b\b\b\b\b\b\b\b\b\b\b\b\b\b\b\b\b\b\b\b\b\b\b\b\b\b\b\b\b\b\b\b\b\b\b\b\b\b\b\b\b\b\b\b\b\b\b\b\b\b\b\b\b\b\b\b\b\b\b\b\b\b\b\b\b\b\b\b\b\b\b\b\b\b\b\b\b\b\b\b\b\b\b\b\b\r123/123 [==============================] - 87s 608ms/step - loss: 18.2421 - accuracy: 0.7840 - val_loss: 33.4701 - val_accuracy: 0.7042\n",
            "Epoch 93/100\n",
            "123/123 [==============================] - 82s 567ms/step - loss: 19.9788 - accuracy: 0.7758 - val_loss: 34.7260 - val_accuracy: 0.6953\n",
            "Epoch 94/100\n",
            "123/123 [==============================] - 82s 569ms/step - loss: 17.9031 - accuracy: 0.7745 - val_loss: 19.9118 - val_accuracy: 0.7690\n",
            "Epoch 95/100\n",
            "123/123 [==============================] - ETA: 0s - loss: 13.1647 - accuracy: 0.8177"
          ]
        },
        {
          "output_type": "stream",
          "name": "stderr",
          "text": [
            "WARNING:absl:Found untraced functions such as _jit_compiled_convolution_op, _jit_compiled_convolution_op, _jit_compiled_convolution_op, _jit_compiled_convolution_op, _jit_compiled_convolution_op while saving (showing 5 of 8). These functions will not be directly callable after loading.\n"
          ]
        },
        {
          "output_type": "stream",
          "name": "stdout",
          "text": [
            "\b\b\b\b\b\b\b\b\b\b\b\b\b\b\b\b\b\b\b\b\b\b\b\b\b\b\b\b\b\b\b\b\b\b\b\b\b\b\b\b\b\b\b\b\b\b\b\b\b\b\b\b\b\b\b\b\b\b\b\b\b\b\b\b\b\b\b\b\b\b\b\b\b\b\b\b\b\b\b\b\b\b\b\b\b\r123/123 [==============================] - 87s 607ms/step - loss: 13.1647 - accuracy: 0.8177 - val_loss: 10.7892 - val_accuracy: 0.8154\n",
            "Epoch 96/100\n",
            "123/123 [==============================] - 82s 567ms/step - loss: 17.2012 - accuracy: 0.7965 - val_loss: 13.1590 - val_accuracy: 0.8237\n",
            "Epoch 97/100\n",
            "123/123 [==============================] - 82s 568ms/step - loss: 19.6873 - accuracy: 0.7779 - val_loss: 35.2803 - val_accuracy: 0.7299\n",
            "Epoch 98/100\n",
            "123/123 [==============================] - 82s 568ms/step - loss: 19.0420 - accuracy: 0.7802 - val_loss: 23.3108 - val_accuracy: 0.7746\n",
            "Epoch 99/100\n",
            "123/123 [==============================] - 82s 567ms/step - loss: 16.6042 - accuracy: 0.7955 - val_loss: 27.1714 - val_accuracy: 0.7634\n",
            "Epoch 100/100\n",
            "123/123 [==============================] - 82s 569ms/step - loss: 21.4901 - accuracy: 0.7699 - val_loss: 24.8501 - val_accuracy: 0.7522\n",
            "26/26 [==============================] - 18s 126ms/step - loss: 13.7569 - accuracy: 0.7993\n",
            "[13.756921768188477, 0.7992788553237915]\n",
            "0.028606478384531155\n"
          ]
        }
      ]
    },
    {
      "cell_type": "code",
      "source": [],
      "metadata": {
        "id": "SL56qliLbqsW"
      },
      "execution_count": 7,
      "outputs": []
    }
  ],
  "metadata": {
    "accelerator": "GPU",
    "colab": {
      "provenance": []
    },
    "gpuClass": "standard",
    "kernelspec": {
      "display_name": "Python 3",
      "name": "python3"
    },
    "language_info": {
      "name": "python"
    }
  },
  "nbformat": 4,
  "nbformat_minor": 0
}