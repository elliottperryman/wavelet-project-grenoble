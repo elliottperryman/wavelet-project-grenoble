{
  "cells": [
    {
      "cell_type": "code",
      "source": [],
      "metadata": {
        "id": "oUftW1R-jT2f"
      },
      "execution_count": null,
      "outputs": []
    },
    {
      "cell_type": "code",
      "source": [
        "from google.colab import drive\n",
        "drive.mount('/content/drive')"
      ],
      "metadata": {
        "id": "dkq-qRTNjVEk",
        "outputId": "bba79581-672b-4616-82bc-0182599dbd98",
        "colab": {
          "base_uri": "https://localhost:8080/"
        }
      },
      "execution_count": 1,
      "outputs": [
        {
          "output_type": "stream",
          "name": "stdout",
          "text": [
            "Mounted at /content/drive\n"
          ]
        }
      ]
    },
    {
      "cell_type": "code",
      "source": [
        "!cp drive/MyDrive/KTH-TIPS2-b.zip ."
      ],
      "metadata": {
        "id": "xsxxagPnjT8X"
      },
      "execution_count": 2,
      "outputs": []
    },
    {
      "cell_type": "code",
      "source": [],
      "metadata": {
        "id": "ttRPVadGkzJ0"
      },
      "execution_count": 2,
      "outputs": []
    },
    {
      "cell_type": "code",
      "source": [
        "import matplotlib.pyplot as plt\n",
        "from keras.layers import (\n",
        "    Input, Dense, Conv2D, Flatten, Reshape, Dropout, \n",
        "    Activation, AveragePooling2D, BatchNormalization,\n",
        "    Lambda, Concatenate\n",
        ")\n",
        "from keras.models import Model, load_model\n",
        "from keras.utils.vis_utils import plot_model\n",
        "from keras.callbacks import ModelCheckpoint\n",
        "from tensorflow.keras.utils import image_dataset_from_directory\n",
        "import numpy as np\n",
        "from gc import collect"
      ],
      "metadata": {
        "id": "hpEP1lvljnLu"
      },
      "execution_count": 4,
      "outputs": []
    },
    {
      "cell_type": "code",
      "source": [
        "def WaveletTransform(img):\n",
        "    low = img[:,::2,...] + img[:,1::2,...]\n",
        "    low = (low[:,:,::2,...] + low[:,:,1::2,...]) / 4\n",
        "    diag = img[:,::2,...] - img[:,1::2,...]\n",
        "    diag = diag[:,:,::2,...] - diag[:,:,1::2,...]\n",
        "    top = img[:,::2,...] - img[:,1::2,...]\n",
        "    top = (top[:,:,::2] + top[:,:,1::2] ) / 2\n",
        "    left = img[:,:,::2,...] - img[:,:,1::2,...]\n",
        "    left = (left[:,::2] + left[:,1::2] ) / 2\n",
        "    \n",
        "    return low, diag, top, left\n",
        "\n",
        "\n",
        "def conv_layer(_in, N):\n",
        "    conv1 = Conv2D(N, kernel_size=(3,3), padding='same')(_in)\n",
        "    norm1 = BatchNormalization()(conv1)\n",
        "    relu1 = Activation('relu')(norm1)\n",
        "    conv2 = Conv2D(N, kernel_size=(3,3), strides=(2,2), padding='same')(relu1)\n",
        "    norm2 = BatchNormalization()(conv2)\n",
        "    relu2 = Activation('relu')(norm2)\n",
        "    return relu2\n",
        "\n",
        "\n",
        "def build_model(input_shape = (256, 256, 3), num_classes=50):\n",
        "    _input = BatchNormalization()(Input(input_shape))\n",
        "    \n",
        "    low1, diag1, top1, left1 = Lambda(WaveletTransform, name='wavelet_1')(_input)\n",
        "    low2, diag2, top2, left2 = Lambda(WaveletTransform, name='wavelet_2')(low1)\n",
        "    low3, diag3, top3, left3 = Lambda(WaveletTransform, name='wavelet_3')(low2)\n",
        "    low4, diag4, top4, left4 = Lambda(WaveletTransform, name='wavelet_4')(low3)\n",
        "    \n",
        "    k1 = Concatenate()([conv_layer(_input,64), low1, diag1, top1, left1])\n",
        "    k2 = Concatenate()([conv_layer(k1, 128), low2, diag2, top2, left2])\n",
        "    k3 = Concatenate()([conv_layer(k2, 256), low3, diag3, top3, left3])\n",
        "    k4 = Concatenate()([conv_layer(k3, 512), low4, diag4, top4, left4])\n",
        "    \n",
        "    avg_pool = AveragePooling2D(pool_size=(7,7), strides=1, padding='same')(k4)\n",
        "    flat = Flatten()(avg_pool)\n",
        "    output = Dense(num_classes, activation='softmax',name='fc')(flat)\n",
        "    model = Model(inputs=_input, outputs=output)\n",
        "    return model"
      ],
      "metadata": {
        "id": "Dek3SZbHjpc9"
      },
      "execution_count": 5,
      "outputs": []
    },
    {
      "cell_type": "code",
      "source": [
        "import tensorflow as tf\n",
        "from tensorflow.python.client import device_lib\n",
        "print(device_lib.list_local_devices())\n",
        "print(tf.__version__)\n",
        "print(\"Num GPUs Available: \", len(tf.config.experimental.list_physical_devices('GPU')))\n",
        "print(tf.test.is_gpu_available())"
      ],
      "metadata": {
        "id": "78nTlPNtjrIe",
        "outputId": "69ef880b-a4dc-4791-b1e3-daed308b6344",
        "colab": {
          "base_uri": "https://localhost:8080/"
        }
      },
      "execution_count": 6,
      "outputs": [
        {
          "output_type": "stream",
          "name": "stderr",
          "text": [
            "WARNING:tensorflow:From <ipython-input-6-d7b23705399e>:6: is_gpu_available (from tensorflow.python.framework.test_util) is deprecated and will be removed in a future version.\n",
            "Instructions for updating:\n",
            "Use `tf.config.list_physical_devices('GPU')` instead.\n"
          ]
        },
        {
          "output_type": "stream",
          "name": "stdout",
          "text": [
            "[name: \"/device:CPU:0\"\n",
            "device_type: \"CPU\"\n",
            "memory_limit: 268435456\n",
            "locality {\n",
            "}\n",
            "incarnation: 8133510189290938112\n",
            "xla_global_id: -1\n",
            ", name: \"/device:GPU:0\"\n",
            "device_type: \"GPU\"\n",
            "memory_limit: 14417788928\n",
            "locality {\n",
            "  bus_id: 1\n",
            "  links {\n",
            "  }\n",
            "}\n",
            "incarnation: 9626492363071632862\n",
            "physical_device_desc: \"device: 0, name: Tesla T4, pci bus id: 0000:00:04.0, compute capability: 7.5\"\n",
            "xla_global_id: 416903419\n",
            "]\n",
            "2.9.2\n",
            "Num GPUs Available:  1\n",
            "True\n"
          ]
        }
      ]
    },
    {
      "cell_type": "code",
      "source": [
        "full_dataset = image_dataset_from_directory('./KTH-TIPS2-b', label_mode='categorical')\n",
        "print(full_dataset.class_names)\n",
        "DATASET_SIZE = 4752\n",
        "train_size = int(0.7 * DATASET_SIZE / 32)\n",
        "val_size = int(0.15 * DATASET_SIZE / 32)\n",
        "test_size = int(0.15 * DATASET_SIZE / 32)\n",
        "\n",
        "full_dataset = full_dataset.shuffle(10_000)\n",
        "train_dataset = full_dataset.take(train_size)\n",
        "test_dataset = full_dataset.skip(train_size)\n",
        "val_dataset = test_dataset.skip(test_size)\n",
        "test_dataset = test_dataset.take(test_size)\n",
        "# del full_dataset\n",
        "n = next(train_dataset.as_numpy_iterator())\n",
        "shape, num_classes = n[0].shape[1:], n[1].shape[-1]\n",
        "model = build_model(input_shape=shape, num_classes=num_classes)\n",
        "\n",
        "print(model.summary())\n",
        "\n",
        "model.compile(optimizer='adam', loss='categorical_crossentropy', metrics=['accuracy'])\n",
        "\n",
        "checkpoint = ModelCheckpoint('./checkpoints/', monitor='accuracy', save_best_only=True)\n",
        "model.fit(train_dataset, validation_data=val_dataset, epochs=75, callbacks=[checkpoint])\n",
        "model = load_model('./checkpoints/')\n",
        "score = model.evaluate(test_dataset)\n",
        "N = sum([_[1].shape[1] for _ in test_dataset.as_numpy_iterator()])\n",
        "print(score)\n",
        "print(1/np.sqrt(N))"
      ],
      "metadata": {
        "id": "HOfG-Y6HjtN_",
        "outputId": "1fd8253f-b87a-493c-cbe2-305980cb3301",
        "colab": {
          "base_uri": "https://localhost:8080/"
        }
      },
      "execution_count": 7,
      "outputs": [
        {
          "output_type": "stream",
          "name": "stdout",
          "text": [
            "Found 4752 files belonging to 11 classes.\n",
            "['aluminium_foil', 'brown_bread', 'corduroy', 'cork', 'cotton', 'cracker', 'lettuce_leaf', 'linen', 'white_bread', 'wood', 'wool']\n",
            "Model: \"model\"\n",
            "__________________________________________________________________________________________________\n",
            " Layer (type)                   Output Shape         Param #     Connected to                     \n",
            "==================================================================================================\n",
            " input_2 (InputLayer)           [(None, 256, 256, 3  0           []                               \n",
            "                                )]                                                                \n",
            "                                                                                                  \n",
            " conv2d (Conv2D)                (None, 256, 256, 64  1792        ['input_2[0][0]']                \n",
            "                                )                                                                 \n",
            "                                                                                                  \n",
            " batch_normalization_1 (BatchNo  (None, 256, 256, 64  256        ['conv2d[1][0]']                 \n",
            " rmalization)                   )                                                                 \n",
            "                                                                                                  \n",
            " activation (Activation)        (None, 256, 256, 64  0           ['batch_normalization_1[1][0]']  \n",
            "                                )                                                                 \n",
            "                                                                                                  \n",
            " conv2d_1 (Conv2D)              (None, 128, 128, 64  36928       ['activation[1][0]']             \n",
            "                                )                                                                 \n",
            "                                                                                                  \n",
            " batch_normalization_2 (BatchNo  (None, 128, 128, 64  256        ['conv2d_1[1][0]']               \n",
            " rmalization)                   )                                                                 \n",
            "                                                                                                  \n",
            " activation_1 (Activation)      (None, 128, 128, 64  0           ['batch_normalization_2[1][0]']  \n",
            "                                )                                                                 \n",
            "                                                                                                  \n",
            " wavelet_1 (Lambda)             ((None, 128, 128, 3  0           ['input_2[0][0]']                \n",
            "                                ),                                                                \n",
            "                                 (None, 128, 128, 3                                               \n",
            "                                ),                                                                \n",
            "                                 (None, 128, 128, 3                                               \n",
            "                                ),                                                                \n",
            "                                 (None, 128, 128, 3                                               \n",
            "                                ))                                                                \n",
            "                                                                                                  \n",
            " concatenate (Concatenate)      (None, 128, 128, 76  0           ['activation_1[1][0]',           \n",
            "                                )                                 'wavelet_1[1][0]',              \n",
            "                                                                  'wavelet_1[1][1]',              \n",
            "                                                                  'wavelet_1[1][2]',              \n",
            "                                                                  'wavelet_1[1][3]']              \n",
            "                                                                                                  \n",
            " conv2d_2 (Conv2D)              (None, 128, 128, 12  87680       ['concatenate[1][0]']            \n",
            "                                8)                                                                \n",
            "                                                                                                  \n",
            " batch_normalization_3 (BatchNo  (None, 128, 128, 12  512        ['conv2d_2[1][0]']               \n",
            " rmalization)                   8)                                                                \n",
            "                                                                                                  \n",
            " activation_2 (Activation)      (None, 128, 128, 12  0           ['batch_normalization_3[1][0]']  \n",
            "                                8)                                                                \n",
            "                                                                                                  \n",
            " conv2d_3 (Conv2D)              (None, 64, 64, 128)  147584      ['activation_2[1][0]']           \n",
            "                                                                                                  \n",
            " batch_normalization_4 (BatchNo  (None, 64, 64, 128)  512        ['conv2d_3[1][0]']               \n",
            " rmalization)                                                                                     \n",
            "                                                                                                  \n",
            " activation_3 (Activation)      (None, 64, 64, 128)  0           ['batch_normalization_4[1][0]']  \n",
            "                                                                                                  \n",
            " wavelet_2 (Lambda)             ((None, 64, 64, 3),  0           ['wavelet_1[1][0]']              \n",
            "                                 (None, 64, 64, 3),                                               \n",
            "                                 (None, 64, 64, 3),                                               \n",
            "                                 (None, 64, 64, 3))                                               \n",
            "                                                                                                  \n",
            " concatenate_1 (Concatenate)    (None, 64, 64, 140)  0           ['activation_3[1][0]',           \n",
            "                                                                  'wavelet_2[1][0]',              \n",
            "                                                                  'wavelet_2[1][1]',              \n",
            "                                                                  'wavelet_2[1][2]',              \n",
            "                                                                  'wavelet_2[1][3]']              \n",
            "                                                                                                  \n",
            " conv2d_4 (Conv2D)              (None, 64, 64, 256)  322816      ['concatenate_1[1][0]']          \n",
            "                                                                                                  \n",
            " batch_normalization_5 (BatchNo  (None, 64, 64, 256)  1024       ['conv2d_4[1][0]']               \n",
            " rmalization)                                                                                     \n",
            "                                                                                                  \n",
            " activation_4 (Activation)      (None, 64, 64, 256)  0           ['batch_normalization_5[1][0]']  \n",
            "                                                                                                  \n",
            " conv2d_5 (Conv2D)              (None, 32, 32, 256)  590080      ['activation_4[1][0]']           \n",
            "                                                                                                  \n",
            " batch_normalization_6 (BatchNo  (None, 32, 32, 256)  1024       ['conv2d_5[1][0]']               \n",
            " rmalization)                                                                                     \n",
            "                                                                                                  \n",
            " activation_5 (Activation)      (None, 32, 32, 256)  0           ['batch_normalization_6[1][0]']  \n",
            "                                                                                                  \n",
            " wavelet_3 (Lambda)             ((None, 32, 32, 3),  0           ['wavelet_2[1][0]']              \n",
            "                                 (None, 32, 32, 3),                                               \n",
            "                                 (None, 32, 32, 3),                                               \n",
            "                                 (None, 32, 32, 3))                                               \n",
            "                                                                                                  \n",
            " concatenate_2 (Concatenate)    (None, 32, 32, 268)  0           ['activation_5[1][0]',           \n",
            "                                                                  'wavelet_3[1][0]',              \n",
            "                                                                  'wavelet_3[1][1]',              \n",
            "                                                                  'wavelet_3[1][2]',              \n",
            "                                                                  'wavelet_3[1][3]']              \n",
            "                                                                                                  \n",
            " conv2d_6 (Conv2D)              (None, 32, 32, 512)  1235456     ['concatenate_2[1][0]']          \n",
            "                                                                                                  \n",
            " batch_normalization_7 (BatchNo  (None, 32, 32, 512)  2048       ['conv2d_6[1][0]']               \n",
            " rmalization)                                                                                     \n",
            "                                                                                                  \n",
            " activation_6 (Activation)      (None, 32, 32, 512)  0           ['batch_normalization_7[1][0]']  \n",
            "                                                                                                  \n",
            " conv2d_7 (Conv2D)              (None, 16, 16, 512)  2359808     ['activation_6[1][0]']           \n",
            "                                                                                                  \n",
            " batch_normalization_8 (BatchNo  (None, 16, 16, 512)  2048       ['conv2d_7[1][0]']               \n",
            " rmalization)                                                                                     \n",
            "                                                                                                  \n",
            " activation_7 (Activation)      (None, 16, 16, 512)  0           ['batch_normalization_8[1][0]']  \n",
            "                                                                                                  \n",
            " wavelet_4 (Lambda)             ((None, 16, 16, 3),  0           ['wavelet_3[1][0]']              \n",
            "                                 (None, 16, 16, 3),                                               \n",
            "                                 (None, 16, 16, 3),                                               \n",
            "                                 (None, 16, 16, 3))                                               \n",
            "                                                                                                  \n",
            " concatenate_3 (Concatenate)    (None, 16, 16, 524)  0           ['activation_7[1][0]',           \n",
            "                                                                  'wavelet_4[1][0]',              \n",
            "                                                                  'wavelet_4[1][1]',              \n",
            "                                                                  'wavelet_4[1][2]',              \n",
            "                                                                  'wavelet_4[1][3]']              \n",
            "                                                                                                  \n",
            " average_pooling2d (AveragePool  (None, 16, 16, 524)  0          ['concatenate_3[1][0]']          \n",
            " ing2D)                                                                                           \n",
            "                                                                                                  \n",
            " flatten (Flatten)              (None, 134144)       0           ['average_pooling2d[1][0]']      \n",
            "                                                                                                  \n",
            " fc (Dense)                     (None, 11)           1475595     ['flatten[1][0]']                \n",
            "                                                                                                  \n",
            "==================================================================================================\n",
            "Total params: 6,265,419\n",
            "Trainable params: 6,261,579\n",
            "Non-trainable params: 3,840\n",
            "__________________________________________________________________________________________________\n",
            "None\n",
            "Epoch 1/75\n",
            "103/103 [==============================] - ETA: 0s - loss: 49.7508 - accuracy: 0.3334"
          ]
        },
        {
          "output_type": "stream",
          "name": "stderr",
          "text": [
            "WARNING:absl:Found untraced functions such as _jit_compiled_convolution_op, _jit_compiled_convolution_op, _jit_compiled_convolution_op, _jit_compiled_convolution_op, _jit_compiled_convolution_op while saving (showing 5 of 8). These functions will not be directly callable after loading.\n"
          ]
        },
        {
          "output_type": "stream",
          "name": "stdout",
          "text": [
            "\b\b\b\b\b\b\b\b\b\b\b\b\b\b\b\b\b\b\b\b\b\b\b\b\b\b\b\b\b\b\b\b\b\b\b\b\b\b\b\b\b\b\b\b\b\b\b\b\b\b\b\b\b\b\b\b\b\b\b\b\b\b\b\b\b\b\b\b\b\b\b\b\b\b\b\b\b\b\b\b\b\b\b\b\b\r103/103 [==============================] - 87s 635ms/step - loss: 49.7508 - accuracy: 0.3334 - val_loss: 3132.3005 - val_accuracy: 0.0911\n",
            "Epoch 2/75\n",
            "103/103 [==============================] - ETA: 0s - loss: 19.6010 - accuracy: 0.4809"
          ]
        },
        {
          "output_type": "stream",
          "name": "stderr",
          "text": [
            "WARNING:absl:Found untraced functions such as _jit_compiled_convolution_op, _jit_compiled_convolution_op, _jit_compiled_convolution_op, _jit_compiled_convolution_op, _jit_compiled_convolution_op while saving (showing 5 of 8). These functions will not be directly callable after loading.\n"
          ]
        },
        {
          "output_type": "stream",
          "name": "stdout",
          "text": [
            "\b\b\b\b\b\b\b\b\b\b\b\b\b\b\b\b\b\b\b\b\b\b\b\b\b\b\b\b\b\b\b\b\b\b\b\b\b\b\b\b\b\b\b\b\b\b\b\b\b\b\b\b\b\b\b\b\b\b\b\b\b\b\b\b\b\b\b\b\b\b\b\b\b\b\b\b\b\b\b\b\b\b\b\b\b\r103/103 [==============================] - 75s 650ms/step - loss: 19.6010 - accuracy: 0.4809 - val_loss: 342.2049 - val_accuracy: 0.2773\n",
            "Epoch 3/75\n",
            "103/103 [==============================] - ETA: 0s - loss: 15.2309 - accuracy: 0.6082"
          ]
        },
        {
          "output_type": "stream",
          "name": "stderr",
          "text": [
            "WARNING:absl:Found untraced functions such as _jit_compiled_convolution_op, _jit_compiled_convolution_op, _jit_compiled_convolution_op, _jit_compiled_convolution_op, _jit_compiled_convolution_op while saving (showing 5 of 8). These functions will not be directly callable after loading.\n"
          ]
        },
        {
          "output_type": "stream",
          "name": "stdout",
          "text": [
            "\b\b\b\b\b\b\b\b\b\b\b\b\b\b\b\b\b\b\b\b\b\b\b\b\b\b\b\b\b\b\b\b\b\b\b\b\b\b\b\b\b\b\b\b\b\b\b\b\b\b\b\b\b\b\b\b\b\b\b\b\b\b\b\b\b\b\b\b\b\b\b\b\b\b\b\b\b\b\b\b\b\b\b\b\b\r103/103 [==============================] - 75s 658ms/step - loss: 15.2309 - accuracy: 0.6082 - val_loss: 33.8423 - val_accuracy: 0.4727\n",
            "Epoch 4/75\n",
            "103/103 [==============================] - ETA: 0s - loss: 12.3387 - accuracy: 0.6890"
          ]
        },
        {
          "output_type": "stream",
          "name": "stderr",
          "text": [
            "WARNING:absl:Found untraced functions such as _jit_compiled_convolution_op, _jit_compiled_convolution_op, _jit_compiled_convolution_op, _jit_compiled_convolution_op, _jit_compiled_convolution_op while saving (showing 5 of 8). These functions will not be directly callable after loading.\n"
          ]
        },
        {
          "output_type": "stream",
          "name": "stdout",
          "text": [
            "\b\b\b\b\b\b\b\b\b\b\b\b\b\b\b\b\b\b\b\b\b\b\b\b\b\b\b\b\b\b\b\b\b\b\b\b\b\b\b\b\b\b\b\b\b\b\b\b\b\b\b\b\b\b\b\b\b\b\b\b\b\b\b\b\b\b\b\b\b\b\b\b\b\b\b\b\b\b\b\b\b\b\b\b\b\r103/103 [==============================] - 74s 649ms/step - loss: 12.3387 - accuracy: 0.6890 - val_loss: 51.9968 - val_accuracy: 0.4609\n",
            "Epoch 5/75\n",
            "103/103 [==============================] - ETA: 0s - loss: 9.8827 - accuracy: 0.7710"
          ]
        },
        {
          "output_type": "stream",
          "name": "stderr",
          "text": [
            "WARNING:absl:Found untraced functions such as _jit_compiled_convolution_op, _jit_compiled_convolution_op, _jit_compiled_convolution_op, _jit_compiled_convolution_op, _jit_compiled_convolution_op while saving (showing 5 of 8). These functions will not be directly callable after loading.\n"
          ]
        },
        {
          "output_type": "stream",
          "name": "stdout",
          "text": [
            "\b\b\b\b\b\b\b\b\b\b\b\b\b\b\b\b\b\b\b\b\b\b\b\b\b\b\b\b\b\b\b\b\b\b\b\b\b\b\b\b\b\b\b\b\b\b\b\b\b\b\b\b\b\b\b\b\b\b\b\b\b\b\b\b\b\b\b\b\b\b\b\b\b\b\b\b\b\b\b\b\b\b\b\b\r103/103 [==============================] - 73s 634ms/step - loss: 9.8827 - accuracy: 0.7710 - val_loss: 96.9808 - val_accuracy: 0.3984\n",
            "Epoch 6/75\n",
            "103/103 [==============================] - ETA: 0s - loss: 7.7036 - accuracy: 0.8158"
          ]
        },
        {
          "output_type": "stream",
          "name": "stderr",
          "text": [
            "WARNING:absl:Found untraced functions such as _jit_compiled_convolution_op, _jit_compiled_convolution_op, _jit_compiled_convolution_op, _jit_compiled_convolution_op, _jit_compiled_convolution_op while saving (showing 5 of 8). These functions will not be directly callable after loading.\n"
          ]
        },
        {
          "output_type": "stream",
          "name": "stdout",
          "text": [
            "\b\b\b\b\b\b\b\b\b\b\b\b\b\b\b\b\b\b\b\b\b\b\b\b\b\b\b\b\b\b\b\b\b\b\b\b\b\b\b\b\b\b\b\b\b\b\b\b\b\b\b\b\b\b\b\b\b\b\b\b\b\b\b\b\b\b\b\b\b\b\b\b\b\b\b\b\b\b\b\b\b\b\b\b\r103/103 [==============================] - 73s 636ms/step - loss: 7.7036 - accuracy: 0.8158 - val_loss: 26.2106 - val_accuracy: 0.6237\n",
            "Epoch 7/75\n",
            "103/103 [==============================] - ETA: 0s - loss: 8.6091 - accuracy: 0.8192"
          ]
        },
        {
          "output_type": "stream",
          "name": "stderr",
          "text": [
            "WARNING:absl:Found untraced functions such as _jit_compiled_convolution_op, _jit_compiled_convolution_op, _jit_compiled_convolution_op, _jit_compiled_convolution_op, _jit_compiled_convolution_op while saving (showing 5 of 8). These functions will not be directly callable after loading.\n"
          ]
        },
        {
          "output_type": "stream",
          "name": "stdout",
          "text": [
            "\b\b\b\b\b\b\b\b\b\b\b\b\b\b\b\b\b\b\b\b\b\b\b\b\b\b\b\b\b\b\b\b\b\b\b\b\b\b\b\b\b\b\b\b\b\b\b\b\b\b\b\b\b\b\b\b\b\b\b\b\b\b\b\b\b\b\b\b\b\b\b\b\b\b\b\b\b\b\b\b\b\b\b\b\r103/103 [==============================] - 73s 633ms/step - loss: 8.6091 - accuracy: 0.8192 - val_loss: 6.9605 - val_accuracy: 0.8060\n",
            "Epoch 8/75\n",
            "103/103 [==============================] - ETA: 0s - loss: 5.5368 - accuracy: 0.8506"
          ]
        },
        {
          "output_type": "stream",
          "name": "stderr",
          "text": [
            "WARNING:absl:Found untraced functions such as _jit_compiled_convolution_op, _jit_compiled_convolution_op, _jit_compiled_convolution_op, _jit_compiled_convolution_op, _jit_compiled_convolution_op while saving (showing 5 of 8). These functions will not be directly callable after loading.\n"
          ]
        },
        {
          "output_type": "stream",
          "name": "stdout",
          "text": [
            "\b\b\b\b\b\b\b\b\b\b\b\b\b\b\b\b\b\b\b\b\b\b\b\b\b\b\b\b\b\b\b\b\b\b\b\b\b\b\b\b\b\b\b\b\b\b\b\b\b\b\b\b\b\b\b\b\b\b\b\b\b\b\b\b\b\b\b\b\b\b\b\b\b\b\b\b\b\b\b\b\b\b\b\b\r103/103 [==============================] - 73s 636ms/step - loss: 5.5368 - accuracy: 0.8506 - val_loss: 3.4560 - val_accuracy: 0.8841\n",
            "Epoch 9/75\n",
            "103/103 [==============================] - 68s 587ms/step - loss: 7.4050 - accuracy: 0.8354 - val_loss: 20.4345 - val_accuracy: 0.6719\n",
            "Epoch 10/75\n",
            "103/103 [==============================] - 68s 587ms/step - loss: 7.6695 - accuracy: 0.8466 - val_loss: 262.6356 - val_accuracy: 0.3542\n",
            "Epoch 11/75\n",
            "103/103 [==============================] - 68s 587ms/step - loss: 10.0821 - accuracy: 0.8244 - val_loss: 35.4545 - val_accuracy: 0.7474\n",
            "Epoch 12/75\n",
            "103/103 [==============================] - ETA: 0s - loss: 7.1341 - accuracy: 0.8738"
          ]
        },
        {
          "output_type": "stream",
          "name": "stderr",
          "text": [
            "WARNING:absl:Found untraced functions such as _jit_compiled_convolution_op, _jit_compiled_convolution_op, _jit_compiled_convolution_op, _jit_compiled_convolution_op, _jit_compiled_convolution_op while saving (showing 5 of 8). These functions will not be directly callable after loading.\n"
          ]
        },
        {
          "output_type": "stream",
          "name": "stdout",
          "text": [
            "\b\b\b\b\b\b\b\b\b\b\b\b\b\b\b\b\b\b\b\b\b\b\b\b\b\b\b\b\b\b\b\b\b\b\b\b\b\b\b\b\b\b\b\b\b\b\b\b\b\b\b\b\b\b\b\b\b\b\b\b\b\b\b\b\b\b\b\b\b\b\b\b\b\b\b\b\b\b\b\b\b\b\b\b\r103/103 [==============================] - 72s 628ms/step - loss: 7.1341 - accuracy: 0.8738 - val_loss: 62.6732 - val_accuracy: 0.6042\n",
            "Epoch 13/75\n",
            "103/103 [==============================] - ETA: 0s - loss: 6.8758 - accuracy: 0.8786"
          ]
        },
        {
          "output_type": "stream",
          "name": "stderr",
          "text": [
            "WARNING:absl:Found untraced functions such as _jit_compiled_convolution_op, _jit_compiled_convolution_op, _jit_compiled_convolution_op, _jit_compiled_convolution_op, _jit_compiled_convolution_op while saving (showing 5 of 8). These functions will not be directly callable after loading.\n"
          ]
        },
        {
          "output_type": "stream",
          "name": "stdout",
          "text": [
            "\b\b\b\b\b\b\b\b\b\b\b\b\b\b\b\b\b\b\b\b\b\b\b\b\b\b\b\b\b\b\b\b\b\b\b\b\b\b\b\b\b\b\b\b\b\b\b\b\b\b\b\b\b\b\b\b\b\b\b\b\b\b\b\b\b\b\b\b\b\b\b\b\b\b\b\b\b\b\b\b\b\b\b\b\r103/103 [==============================] - 73s 634ms/step - loss: 6.8758 - accuracy: 0.8786 - val_loss: 41.7592 - val_accuracy: 0.6211\n",
            "Epoch 14/75\n",
            "103/103 [==============================] - 68s 584ms/step - loss: 7.2787 - accuracy: 0.8750 - val_loss: 21.4081 - val_accuracy: 0.7682\n",
            "Epoch 15/75\n",
            "103/103 [==============================] - ETA: 0s - loss: 5.3463 - accuracy: 0.8929"
          ]
        },
        {
          "output_type": "stream",
          "name": "stderr",
          "text": [
            "WARNING:absl:Found untraced functions such as _jit_compiled_convolution_op, _jit_compiled_convolution_op, _jit_compiled_convolution_op, _jit_compiled_convolution_op, _jit_compiled_convolution_op while saving (showing 5 of 8). These functions will not be directly callable after loading.\n"
          ]
        },
        {
          "output_type": "stream",
          "name": "stdout",
          "text": [
            "\b\b\b\b\b\b\b\b\b\b\b\b\b\b\b\b\b\b\b\b\b\b\b\b\b\b\b\b\b\b\b\b\b\b\b\b\b\b\b\b\b\b\b\b\b\b\b\b\b\b\b\b\b\b\b\b\b\b\b\b\b\b\b\b\b\b\b\b\b\b\b\b\b\b\b\b\b\b\b\b\b\b\b\b\r103/103 [==============================] - 73s 635ms/step - loss: 5.3463 - accuracy: 0.8929 - val_loss: 31.1072 - val_accuracy: 0.7174\n",
            "Epoch 16/75\n",
            "103/103 [==============================] - ETA: 0s - loss: 4.9433 - accuracy: 0.9049"
          ]
        },
        {
          "output_type": "stream",
          "name": "stderr",
          "text": [
            "WARNING:absl:Found untraced functions such as _jit_compiled_convolution_op, _jit_compiled_convolution_op, _jit_compiled_convolution_op, _jit_compiled_convolution_op, _jit_compiled_convolution_op while saving (showing 5 of 8). These functions will not be directly callable after loading.\n"
          ]
        },
        {
          "output_type": "stream",
          "name": "stdout",
          "text": [
            "\b\b\b\b\b\b\b\b\b\b\b\b\b\b\b\b\b\b\b\b\b\b\b\b\b\b\b\b\b\b\b\b\b\b\b\b\b\b\b\b\b\b\b\b\b\b\b\b\b\b\b\b\b\b\b\b\b\b\b\b\b\b\b\b\b\b\b\b\b\b\b\b\b\b\b\b\b\b\b\b\b\b\b\b\r103/103 [==============================] - 72s 630ms/step - loss: 4.9433 - accuracy: 0.9049 - val_loss: 21.4923 - val_accuracy: 0.7292\n",
            "Epoch 17/75\n",
            "103/103 [==============================] - 68s 587ms/step - loss: 5.6701 - accuracy: 0.9017 - val_loss: 4.5604 - val_accuracy: 0.9297\n",
            "Epoch 18/75\n",
            "103/103 [==============================] - ETA: 0s - loss: 3.7797 - accuracy: 0.9165"
          ]
        },
        {
          "output_type": "stream",
          "name": "stderr",
          "text": [
            "WARNING:absl:Found untraced functions such as _jit_compiled_convolution_op, _jit_compiled_convolution_op, _jit_compiled_convolution_op, _jit_compiled_convolution_op, _jit_compiled_convolution_op while saving (showing 5 of 8). These functions will not be directly callable after loading.\n"
          ]
        },
        {
          "output_type": "stream",
          "name": "stdout",
          "text": [
            "\b\b\b\b\b\b\b\b\b\b\b\b\b\b\b\b\b\b\b\b\b\b\b\b\b\b\b\b\b\b\b\b\b\b\b\b\b\b\b\b\b\b\b\b\b\b\b\b\b\b\b\b\b\b\b\b\b\b\b\b\b\b\b\b\b\b\b\b\b\b\b\b\b\b\b\b\b\b\b\b\b\b\b\b\r103/103 [==============================] - 73s 631ms/step - loss: 3.7797 - accuracy: 0.9165 - val_loss: 12.1454 - val_accuracy: 0.8451\n",
            "Epoch 19/75\n",
            "103/103 [==============================] - ETA: 0s - loss: 3.9923 - accuracy: 0.9204"
          ]
        },
        {
          "output_type": "stream",
          "name": "stderr",
          "text": [
            "WARNING:absl:Found untraced functions such as _jit_compiled_convolution_op, _jit_compiled_convolution_op, _jit_compiled_convolution_op, _jit_compiled_convolution_op, _jit_compiled_convolution_op while saving (showing 5 of 8). These functions will not be directly callable after loading.\n"
          ]
        },
        {
          "output_type": "stream",
          "name": "stdout",
          "text": [
            "\b\b\b\b\b\b\b\b\b\b\b\b\b\b\b\b\b\b\b\b\b\b\b\b\b\b\b\b\b\b\b\b\b\b\b\b\b\b\b\b\b\b\b\b\b\b\b\b\b\b\b\b\b\b\b\b\b\b\b\b\b\b\b\b\b\b\b\b\b\b\b\b\b\b\b\b\b\b\b\b\b\b\b\b\r103/103 [==============================] - 73s 633ms/step - loss: 3.9923 - accuracy: 0.9204 - val_loss: 13.0780 - val_accuracy: 0.8258\n",
            "Epoch 20/75\n",
            "103/103 [==============================] - 68s 587ms/step - loss: 5.4186 - accuracy: 0.9193 - val_loss: 34.7118 - val_accuracy: 0.7526\n",
            "Epoch 21/75\n",
            "103/103 [==============================] - ETA: 0s - loss: 4.6673 - accuracy: 0.9263"
          ]
        },
        {
          "output_type": "stream",
          "name": "stderr",
          "text": [
            "WARNING:absl:Found untraced functions such as _jit_compiled_convolution_op, _jit_compiled_convolution_op, _jit_compiled_convolution_op, _jit_compiled_convolution_op, _jit_compiled_convolution_op while saving (showing 5 of 8). These functions will not be directly callable after loading.\n"
          ]
        },
        {
          "output_type": "stream",
          "name": "stdout",
          "text": [
            "\b\b\b\b\b\b\b\b\b\b\b\b\b\b\b\b\b\b\b\b\b\b\b\b\b\b\b\b\b\b\b\b\b\b\b\b\b\b\b\b\b\b\b\b\b\b\b\b\b\b\b\b\b\b\b\b\b\b\b\b\b\b\b\b\b\b\b\b\b\b\b\b\b\b\b\b\b\b\b\b\b\b\b\b\r103/103 [==============================] - 72s 630ms/step - loss: 4.6673 - accuracy: 0.9263 - val_loss: 62.7096 - val_accuracy: 0.6081\n",
            "Epoch 22/75\n",
            "103/103 [==============================] - ETA: 0s - loss: 3.6020 - accuracy: 0.9314"
          ]
        },
        {
          "output_type": "stream",
          "name": "stderr",
          "text": [
            "WARNING:absl:Found untraced functions such as _jit_compiled_convolution_op, _jit_compiled_convolution_op, _jit_compiled_convolution_op, _jit_compiled_convolution_op, _jit_compiled_convolution_op while saving (showing 5 of 8). These functions will not be directly callable after loading.\n"
          ]
        },
        {
          "output_type": "stream",
          "name": "stdout",
          "text": [
            "\b\b\b\b\b\b\b\b\b\b\b\b\b\b\b\b\b\b\b\b\b\b\b\b\b\b\b\b\b\b\b\b\b\b\b\b\b\b\b\b\b\b\b\b\b\b\b\b\b\b\b\b\b\b\b\b\b\b\b\b\b\b\b\b\b\b\b\b\b\b\b\b\b\b\b\b\b\b\b\b\b\b\b\b\r103/103 [==============================] - 73s 632ms/step - loss: 3.6020 - accuracy: 0.9314 - val_loss: 40.0155 - val_accuracy: 0.7747\n",
            "Epoch 23/75\n",
            "103/103 [==============================] - 68s 584ms/step - loss: 5.1039 - accuracy: 0.9207 - val_loss: 21.6708 - val_accuracy: 0.8098\n",
            "Epoch 24/75\n",
            "103/103 [==============================] - 68s 583ms/step - loss: 4.7082 - accuracy: 0.9226 - val_loss: 46.6152 - val_accuracy: 0.7148\n",
            "Epoch 25/75\n",
            "103/103 [==============================] - ETA: 0s - loss: 4.3326 - accuracy: 0.9335"
          ]
        },
        {
          "output_type": "stream",
          "name": "stderr",
          "text": [
            "WARNING:absl:Found untraced functions such as _jit_compiled_convolution_op, _jit_compiled_convolution_op, _jit_compiled_convolution_op, _jit_compiled_convolution_op, _jit_compiled_convolution_op while saving (showing 5 of 8). These functions will not be directly callable after loading.\n"
          ]
        },
        {
          "output_type": "stream",
          "name": "stdout",
          "text": [
            "\b\b\b\b\b\b\b\b\b\b\b\b\b\b\b\b\b\b\b\b\b\b\b\b\b\b\b\b\b\b\b\b\b\b\b\b\b\b\b\b\b\b\b\b\b\b\b\b\b\b\b\b\b\b\b\b\b\b\b\b\b\b\b\b\b\b\b\b\b\b\b\b\b\b\b\b\b\b\b\b\b\b\b\b\r103/103 [==============================] - 72s 629ms/step - loss: 4.3326 - accuracy: 0.9335 - val_loss: 3.7659 - val_accuracy: 0.9414\n",
            "Epoch 26/75\n",
            "103/103 [==============================] - ETA: 0s - loss: 3.2577 - accuracy: 0.9369"
          ]
        },
        {
          "output_type": "stream",
          "name": "stderr",
          "text": [
            "WARNING:absl:Found untraced functions such as _jit_compiled_convolution_op, _jit_compiled_convolution_op, _jit_compiled_convolution_op, _jit_compiled_convolution_op, _jit_compiled_convolution_op while saving (showing 5 of 8). These functions will not be directly callable after loading.\n"
          ]
        },
        {
          "output_type": "stream",
          "name": "stdout",
          "text": [
            "\b\b\b\b\b\b\b\b\b\b\b\b\b\b\b\b\b\b\b\b\b\b\b\b\b\b\b\b\b\b\b\b\b\b\b\b\b\b\b\b\b\b\b\b\b\b\b\b\b\b\b\b\b\b\b\b\b\b\b\b\b\b\b\b\b\b\b\b\b\b\b\b\b\b\b\b\b\b\b\b\b\b\b\b\r103/103 [==============================] - 72s 630ms/step - loss: 3.2577 - accuracy: 0.9369 - val_loss: 9.2746 - val_accuracy: 0.8867\n",
            "Epoch 27/75\n",
            "103/103 [==============================] - 68s 585ms/step - loss: 6.4109 - accuracy: 0.9122 - val_loss: 72.7852 - val_accuracy: 0.6523\n",
            "Epoch 28/75\n",
            "103/103 [==============================] - ETA: 0s - loss: 3.6931 - accuracy: 0.9421"
          ]
        },
        {
          "output_type": "stream",
          "name": "stderr",
          "text": [
            "WARNING:absl:Found untraced functions such as _jit_compiled_convolution_op, _jit_compiled_convolution_op, _jit_compiled_convolution_op, _jit_compiled_convolution_op, _jit_compiled_convolution_op while saving (showing 5 of 8). These functions will not be directly callable after loading.\n"
          ]
        },
        {
          "output_type": "stream",
          "name": "stdout",
          "text": [
            "\b\b\b\b\b\b\b\b\b\b\b\b\b\b\b\b\b\b\b\b\b\b\b\b\b\b\b\b\b\b\b\b\b\b\b\b\b\b\b\b\b\b\b\b\b\b\b\b\b\b\b\b\b\b\b\b\b\b\b\b\b\b\b\b\b\b\b\b\b\b\b\b\b\b\b\b\b\b\b\b\b\b\b\b\r103/103 [==============================] - 73s 631ms/step - loss: 3.6931 - accuracy: 0.9421 - val_loss: 15.0968 - val_accuracy: 0.8657\n",
            "Epoch 29/75\n",
            "103/103 [==============================] - ETA: 0s - loss: 3.2343 - accuracy: 0.9448"
          ]
        },
        {
          "output_type": "stream",
          "name": "stderr",
          "text": [
            "WARNING:absl:Found untraced functions such as _jit_compiled_convolution_op, _jit_compiled_convolution_op, _jit_compiled_convolution_op, _jit_compiled_convolution_op, _jit_compiled_convolution_op while saving (showing 5 of 8). These functions will not be directly callable after loading.\n"
          ]
        },
        {
          "output_type": "stream",
          "name": "stdout",
          "text": [
            "\b\b\b\b\b\b\b\b\b\b\b\b\b\b\b\b\b\b\b\b\b\b\b\b\b\b\b\b\b\b\b\b\b\b\b\b\b\b\b\b\b\b\b\b\b\b\b\b\b\b\b\b\b\b\b\b\b\b\b\b\b\b\b\b\b\b\b\b\b\b\b\b\b\b\b\b\b\b\b\b\b\b\b\b\r103/103 [==============================] - 72s 627ms/step - loss: 3.2343 - accuracy: 0.9448 - val_loss: 4.2700 - val_accuracy: 0.9362\n",
            "Epoch 30/75\n",
            "103/103 [==============================] - 68s 583ms/step - loss: 6.3034 - accuracy: 0.9232 - val_loss: 288.8003 - val_accuracy: 0.4349\n",
            "Epoch 31/75\n",
            "103/103 [==============================] - 68s 588ms/step - loss: 8.0551 - accuracy: 0.9178 - val_loss: 33.2988 - val_accuracy: 0.7878\n",
            "Epoch 32/75\n",
            "103/103 [==============================] - 68s 584ms/step - loss: 4.8199 - accuracy: 0.9439 - val_loss: 255.1820 - val_accuracy: 0.4870\n",
            "Epoch 33/75\n",
            "103/103 [==============================] - ETA: 0s - loss: 2.9900 - accuracy: 0.9567"
          ]
        },
        {
          "output_type": "stream",
          "name": "stderr",
          "text": [
            "WARNING:absl:Found untraced functions such as _jit_compiled_convolution_op, _jit_compiled_convolution_op, _jit_compiled_convolution_op, _jit_compiled_convolution_op, _jit_compiled_convolution_op while saving (showing 5 of 8). These functions will not be directly callable after loading.\n"
          ]
        },
        {
          "output_type": "stream",
          "name": "stdout",
          "text": [
            "\b\b\b\b\b\b\b\b\b\b\b\b\b\b\b\b\b\b\b\b\b\b\b\b\b\b\b\b\b\b\b\b\b\b\b\b\b\b\b\b\b\b\b\b\b\b\b\b\b\b\b\b\b\b\b\b\b\b\b\b\b\b\b\b\b\b\b\b\b\b\b\b\b\b\b\b\b\b\b\b\b\b\b\b\r103/103 [==============================] - 72s 630ms/step - loss: 2.9900 - accuracy: 0.9567 - val_loss: 31.3074 - val_accuracy: 0.7799\n",
            "Epoch 34/75\n",
            "103/103 [==============================] - 68s 584ms/step - loss: 3.7957 - accuracy: 0.9454 - val_loss: 36.5083 - val_accuracy: 0.7513\n",
            "Epoch 35/75\n",
            "103/103 [==============================] - ETA: 0s - loss: 3.0817 - accuracy: 0.9582"
          ]
        },
        {
          "output_type": "stream",
          "name": "stderr",
          "text": [
            "WARNING:absl:Found untraced functions such as _jit_compiled_convolution_op, _jit_compiled_convolution_op, _jit_compiled_convolution_op, _jit_compiled_convolution_op, _jit_compiled_convolution_op while saving (showing 5 of 8). These functions will not be directly callable after loading.\n"
          ]
        },
        {
          "output_type": "stream",
          "name": "stdout",
          "text": [
            "\b\b\b\b\b\b\b\b\b\b\b\b\b\b\b\b\b\b\b\b\b\b\b\b\b\b\b\b\b\b\b\b\b\b\b\b\b\b\b\b\b\b\b\b\b\b\b\b\b\b\b\b\b\b\b\b\b\b\b\b\b\b\b\b\b\b\b\b\b\b\b\b\b\b\b\b\b\b\b\b\b\b\b\b\r103/103 [==============================] - 72s 627ms/step - loss: 3.0817 - accuracy: 0.9582 - val_loss: 2.5757 - val_accuracy: 0.9548\n",
            "Epoch 36/75\n",
            "103/103 [==============================] - 67s 581ms/step - loss: 3.0742 - accuracy: 0.9530 - val_loss: 19.1575 - val_accuracy: 0.8542\n",
            "Epoch 37/75\n",
            "103/103 [==============================] - ETA: 0s - loss: 2.5494 - accuracy: 0.9627"
          ]
        },
        {
          "output_type": "stream",
          "name": "stderr",
          "text": [
            "WARNING:absl:Found untraced functions such as _jit_compiled_convolution_op, _jit_compiled_convolution_op, _jit_compiled_convolution_op, _jit_compiled_convolution_op, _jit_compiled_convolution_op while saving (showing 5 of 8). These functions will not be directly callable after loading.\n"
          ]
        },
        {
          "output_type": "stream",
          "name": "stdout",
          "text": [
            "\b\b\b\b\b\b\b\b\b\b\b\b\b\b\b\b\b\b\b\b\b\b\b\b\b\b\b\b\b\b\b\b\b\b\b\b\b\b\b\b\b\b\b\b\b\b\b\b\b\b\b\b\b\b\b\b\b\b\b\b\b\b\b\b\b\b\b\b\b\b\b\b\b\b\b\b\b\b\b\b\b\b\b\b\r103/103 [==============================] - 74s 645ms/step - loss: 2.5494 - accuracy: 0.9627 - val_loss: 36.5766 - val_accuracy: 0.7669\n",
            "Epoch 38/75\n",
            "103/103 [==============================] - 67s 582ms/step - loss: 3.5863 - accuracy: 0.9534 - val_loss: 17.1416 - val_accuracy: 0.8490\n",
            "Epoch 39/75\n",
            "103/103 [==============================] - 67s 581ms/step - loss: 3.5244 - accuracy: 0.9540 - val_loss: 26.6612 - val_accuracy: 0.8086\n",
            "Epoch 40/75\n",
            "103/103 [==============================] - 67s 580ms/step - loss: 3.1365 - accuracy: 0.9576 - val_loss: 30.2593 - val_accuracy: 0.8047\n",
            "Epoch 41/75\n",
            "103/103 [==============================] - 67s 580ms/step - loss: 5.2838 - accuracy: 0.9476 - val_loss: 95.0154 - val_accuracy: 0.6992\n",
            "Epoch 42/75\n",
            "103/103 [==============================] - 68s 584ms/step - loss: 3.5979 - accuracy: 0.9572 - val_loss: 24.8652 - val_accuracy: 0.8229\n",
            "Epoch 43/75\n",
            "103/103 [==============================] - 68s 584ms/step - loss: 4.7727 - accuracy: 0.9454 - val_loss: 8.0923 - val_accuracy: 0.9102\n",
            "Epoch 44/75\n",
            "103/103 [==============================] - 67s 578ms/step - loss: 5.0160 - accuracy: 0.9500 - val_loss: 159.2164 - val_accuracy: 0.6276\n",
            "Epoch 45/75\n",
            "103/103 [==============================] - 67s 578ms/step - loss: 4.7398 - accuracy: 0.9451 - val_loss: 24.8071 - val_accuracy: 0.8497\n",
            "Epoch 46/75\n",
            "103/103 [==============================] - 67s 577ms/step - loss: 4.5308 - accuracy: 0.9506 - val_loss: 15.6294 - val_accuracy: 0.8932\n",
            "Epoch 47/75\n",
            "103/103 [==============================] - ETA: 0s - loss: 2.8381 - accuracy: 0.9643"
          ]
        },
        {
          "output_type": "stream",
          "name": "stderr",
          "text": [
            "WARNING:absl:Found untraced functions such as _jit_compiled_convolution_op, _jit_compiled_convolution_op, _jit_compiled_convolution_op, _jit_compiled_convolution_op, _jit_compiled_convolution_op while saving (showing 5 of 8). These functions will not be directly callable after loading.\n"
          ]
        },
        {
          "output_type": "stream",
          "name": "stdout",
          "text": [
            "\b\b\b\b\b\b\b\b\b\b\b\b\b\b\b\b\b\b\b\b\b\b\b\b\b\b\b\b\b\b\b\b\b\b\b\b\b\b\b\b\b\b\b\b\b\b\b\b\b\b\b\b\b\b\b\b\b\b\b\b\b\b\b\b\b\b\b\b\b\b\b\b\b\b\b\b\b\b\b\b\b\b\b\b\r103/103 [==============================] - 72s 624ms/step - loss: 2.8381 - accuracy: 0.9643 - val_loss: 40.5191 - val_accuracy: 0.7969\n",
            "Epoch 48/75\n",
            "103/103 [==============================] - 67s 577ms/step - loss: 3.4122 - accuracy: 0.9613 - val_loss: 16.5199 - val_accuracy: 0.8789\n",
            "Epoch 49/75\n",
            "103/103 [==============================] - ETA: 0s - loss: 2.6710 - accuracy: 0.9689"
          ]
        },
        {
          "output_type": "stream",
          "name": "stderr",
          "text": [
            "WARNING:absl:Found untraced functions such as _jit_compiled_convolution_op, _jit_compiled_convolution_op, _jit_compiled_convolution_op, _jit_compiled_convolution_op, _jit_compiled_convolution_op while saving (showing 5 of 8). These functions will not be directly callable after loading.\n"
          ]
        },
        {
          "output_type": "stream",
          "name": "stdout",
          "text": [
            "\b\b\b\b\b\b\b\b\b\b\b\b\b\b\b\b\b\b\b\b\b\b\b\b\b\b\b\b\b\b\b\b\b\b\b\b\b\b\b\b\b\b\b\b\b\b\b\b\b\b\b\b\b\b\b\b\b\b\b\b\b\b\b\b\b\b\b\b\b\b\b\b\b\b\b\b\b\b\b\b\b\b\b\b\r103/103 [==============================] - 72s 628ms/step - loss: 2.6710 - accuracy: 0.9689 - val_loss: 20.2623 - val_accuracy: 0.8777\n",
            "Epoch 50/75\n",
            "103/103 [==============================] - 69s 591ms/step - loss: 4.3691 - accuracy: 0.9587 - val_loss: 43.7208 - val_accuracy: 0.7930\n",
            "Epoch 51/75\n",
            "103/103 [==============================] - 68s 580ms/step - loss: 2.9544 - accuracy: 0.9637 - val_loss: 117.1292 - val_accuracy: 0.6406\n",
            "Epoch 52/75\n",
            "103/103 [==============================] - ETA: 0s - loss: 3.2741 - accuracy: 0.9701"
          ]
        },
        {
          "output_type": "stream",
          "name": "stderr",
          "text": [
            "WARNING:absl:Found untraced functions such as _jit_compiled_convolution_op, _jit_compiled_convolution_op, _jit_compiled_convolution_op, _jit_compiled_convolution_op, _jit_compiled_convolution_op while saving (showing 5 of 8). These functions will not be directly callable after loading.\n"
          ]
        },
        {
          "output_type": "stream",
          "name": "stdout",
          "text": [
            "\b\b\b\b\b\b\b\b\b\b\b\b\b\b\b\b\b\b\b\b\b\b\b\b\b\b\b\b\b\b\b\b\b\b\b\b\b\b\b\b\b\b\b\b\b\b\b\b\b\b\b\b\b\b\b\b\b\b\b\b\b\b\b\b\b\b\b\b\b\b\b\b\b\b\b\b\b\b\b\b\b\b\b\b\r103/103 [==============================] - 73s 629ms/step - loss: 3.2741 - accuracy: 0.9701 - val_loss: 175.3175 - val_accuracy: 0.5898\n",
            "Epoch 53/75\n",
            "103/103 [==============================] - 67s 581ms/step - loss: 8.4958 - accuracy: 0.9451 - val_loss: 32.6967 - val_accuracy: 0.7956\n",
            "Epoch 54/75\n",
            "103/103 [==============================] - 70s 587ms/step - loss: 3.3874 - accuracy: 0.9657 - val_loss: 106.9869 - val_accuracy: 0.7461\n",
            "Epoch 55/75\n",
            "103/103 [==============================] - 68s 583ms/step - loss: 7.5611 - accuracy: 0.9436 - val_loss: 28.5386 - val_accuracy: 0.8524\n",
            "Epoch 56/75\n",
            "103/103 [==============================] - 68s 581ms/step - loss: 3.8706 - accuracy: 0.9660 - val_loss: 10.3358 - val_accuracy: 0.9557\n",
            "Epoch 57/75\n",
            "103/103 [==============================] - ETA: 0s - loss: 4.4423 - accuracy: 0.9707"
          ]
        },
        {
          "output_type": "stream",
          "name": "stderr",
          "text": [
            "WARNING:absl:Found untraced functions such as _jit_compiled_convolution_op, _jit_compiled_convolution_op, _jit_compiled_convolution_op, _jit_compiled_convolution_op, _jit_compiled_convolution_op while saving (showing 5 of 8). These functions will not be directly callable after loading.\n"
          ]
        },
        {
          "output_type": "stream",
          "name": "stdout",
          "text": [
            "\b\b\b\b\b\b\b\b\b\b\b\b\b\b\b\b\b\b\b\b\b\b\b\b\b\b\b\b\b\b\b\b\b\b\b\b\b\b\b\b\b\b\b\b\b\b\b\b\b\b\b\b\b\b\b\b\b\b\b\b\b\b\b\b\b\b\b\b\b\b\b\b\b\b\b\b\b\b\b\b\b\b\b\b\r103/103 [==============================] - 74s 626ms/step - loss: 4.4423 - accuracy: 0.9707 - val_loss: 7.6068 - val_accuracy: 0.9219\n",
            "Epoch 58/75\n",
            "103/103 [==============================] - ETA: 0s - loss: 2.2459 - accuracy: 0.9718"
          ]
        },
        {
          "output_type": "stream",
          "name": "stderr",
          "text": [
            "WARNING:absl:Found untraced functions such as _jit_compiled_convolution_op, _jit_compiled_convolution_op, _jit_compiled_convolution_op, _jit_compiled_convolution_op, _jit_compiled_convolution_op while saving (showing 5 of 8). These functions will not be directly callable after loading.\n"
          ]
        },
        {
          "output_type": "stream",
          "name": "stdout",
          "text": [
            "\b\b\b\b\b\b\b\b\b\b\b\b\b\b\b\b\b\b\b\b\b\b\b\b\b\b\b\b\b\b\b\b\b\b\b\b\b\b\b\b\b\b\b\b\b\b\b\b\b\b\b\b\b\b\b\b\b\b\b\b\b\b\b\b\b\b\b\b\b\b\b\b\b\b\b\b\b\b\b\b\b\b\b\b\r103/103 [==============================] - 72s 627ms/step - loss: 2.2459 - accuracy: 0.9718 - val_loss: 63.7663 - val_accuracy: 0.7819\n",
            "Epoch 59/75\n",
            "103/103 [==============================] - 67s 575ms/step - loss: 3.0199 - accuracy: 0.9710 - val_loss: 50.5519 - val_accuracy: 0.7930\n",
            "Epoch 60/75\n",
            "103/103 [==============================] - ETA: 0s - loss: 1.8246 - accuracy: 0.9780"
          ]
        },
        {
          "output_type": "stream",
          "name": "stderr",
          "text": [
            "WARNING:absl:Found untraced functions such as _jit_compiled_convolution_op, _jit_compiled_convolution_op, _jit_compiled_convolution_op, _jit_compiled_convolution_op, _jit_compiled_convolution_op while saving (showing 5 of 8). These functions will not be directly callable after loading.\n"
          ]
        },
        {
          "output_type": "stream",
          "name": "stdout",
          "text": [
            "\b\b\b\b\b\b\b\b\b\b\b\b\b\b\b\b\b\b\b\b\b\b\b\b\b\b\b\b\b\b\b\b\b\b\b\b\b\b\b\b\b\b\b\b\b\b\b\b\b\b\b\b\b\b\b\b\b\b\b\b\b\b\b\b\b\b\b\b\b\b\b\b\b\b\b\b\b\b\b\b\b\b\b\b\r103/103 [==============================] - 72s 620ms/step - loss: 1.8246 - accuracy: 0.9780 - val_loss: 51.4457 - val_accuracy: 0.8242\n",
            "Epoch 61/75\n",
            "103/103 [==============================] - 67s 576ms/step - loss: 3.6595 - accuracy: 0.9649 - val_loss: 303.0944 - val_accuracy: 0.5521\n",
            "Epoch 62/75\n",
            "103/103 [==============================] - 67s 575ms/step - loss: 3.0489 - accuracy: 0.9739 - val_loss: 49.4747 - val_accuracy: 0.7695\n",
            "Epoch 63/75\n",
            "103/103 [==============================] - 67s 573ms/step - loss: 2.1369 - accuracy: 0.9759 - val_loss: 5.8696 - val_accuracy: 0.9375\n",
            "Epoch 64/75\n",
            "103/103 [==============================] - 67s 578ms/step - loss: 4.1644 - accuracy: 0.9640 - val_loss: 12.7470 - val_accuracy: 0.9271\n",
            "Epoch 65/75\n",
            "103/103 [==============================] - 67s 581ms/step - loss: 3.1791 - accuracy: 0.9709 - val_loss: 56.2026 - val_accuracy: 0.7695\n",
            "Epoch 66/75\n",
            "103/103 [==============================] - 67s 577ms/step - loss: 3.3201 - accuracy: 0.9692 - val_loss: 10.3370 - val_accuracy: 0.9193\n",
            "Epoch 67/75\n",
            "103/103 [==============================] - ETA: 0s - loss: 2.3559 - accuracy: 0.9790"
          ]
        },
        {
          "output_type": "stream",
          "name": "stderr",
          "text": [
            "WARNING:absl:Found untraced functions such as _jit_compiled_convolution_op, _jit_compiled_convolution_op, _jit_compiled_convolution_op, _jit_compiled_convolution_op, _jit_compiled_convolution_op while saving (showing 5 of 8). These functions will not be directly callable after loading.\n"
          ]
        },
        {
          "output_type": "stream",
          "name": "stdout",
          "text": [
            "\b\b\b\b\b\b\b\b\b\b\b\b\b\b\b\b\b\b\b\b\b\b\b\b\b\b\b\b\b\b\b\b\b\b\b\b\b\b\b\b\b\b\b\b\b\b\b\b\b\b\b\b\b\b\b\b\b\b\b\b\b\b\b\b\b\b\b\b\b\b\b\b\b\b\b\b\b\b\b\b\b\b\b\b\r103/103 [==============================] - 73s 619ms/step - loss: 2.3559 - accuracy: 0.9790 - val_loss: 51.7454 - val_accuracy: 0.8333\n",
            "Epoch 68/75\n",
            "103/103 [==============================] - ETA: 0s - loss: 2.3680 - accuracy: 0.9811"
          ]
        },
        {
          "output_type": "stream",
          "name": "stderr",
          "text": [
            "WARNING:absl:Found untraced functions such as _jit_compiled_convolution_op, _jit_compiled_convolution_op, _jit_compiled_convolution_op, _jit_compiled_convolution_op, _jit_compiled_convolution_op while saving (showing 5 of 8). These functions will not be directly callable after loading.\n"
          ]
        },
        {
          "output_type": "stream",
          "name": "stdout",
          "text": [
            "\b\b\b\b\b\b\b\b\b\b\b\b\b\b\b\b\b\b\b\b\b\b\b\b\b\b\b\b\b\b\b\b\b\b\b\b\b\b\b\b\b\b\b\b\b\b\b\b\b\b\b\b\b\b\b\b\b\b\b\b\b\b\b\b\b\b\b\b\b\b\b\b\b\b\b\b\b\b\b\b\b\b\b\b\r103/103 [==============================] - 71s 614ms/step - loss: 2.3680 - accuracy: 0.9811 - val_loss: 16.2369 - val_accuracy: 0.9245\n",
            "Epoch 69/75\n",
            "103/103 [==============================] - 67s 573ms/step - loss: 2.5044 - accuracy: 0.9794 - val_loss: 303.2146 - val_accuracy: 0.6159\n",
            "Epoch 70/75\n",
            "103/103 [==============================] - 67s 576ms/step - loss: 3.5994 - accuracy: 0.9692 - val_loss: 163.7932 - val_accuracy: 0.6719\n",
            "Epoch 71/75\n",
            "103/103 [==============================] - 67s 574ms/step - loss: 3.1230 - accuracy: 0.9741 - val_loss: 62.3200 - val_accuracy: 0.8320\n",
            "Epoch 72/75\n",
            "103/103 [==============================] - 66s 571ms/step - loss: 1.9985 - accuracy: 0.9771 - val_loss: 39.7948 - val_accuracy: 0.8164\n",
            "Epoch 73/75\n",
            "103/103 [==============================] - 67s 575ms/step - loss: 4.8100 - accuracy: 0.9646 - val_loss: 50.7820 - val_accuracy: 0.8255\n",
            "Epoch 74/75\n",
            "103/103 [==============================] - 66s 572ms/step - loss: 2.2048 - accuracy: 0.9771 - val_loss: 20.7045 - val_accuracy: 0.9003\n",
            "Epoch 75/75\n",
            "103/103 [==============================] - 66s 570ms/step - loss: 5.9311 - accuracy: 0.9643 - val_loss: 12.0621 - val_accuracy: 0.9141\n",
            "22/22 [==============================] - 11s 134ms/step - loss: 16.3952 - accuracy: 0.9233\n",
            "[16.395193099975586, 0.9232954382896423]\n",
            "0.0642824346533225\n"
          ]
        }
      ]
    },
    {
      "cell_type": "code",
      "source": [],
      "metadata": {
        "id": "ZWEW5lHxjyuJ"
      },
      "execution_count": 7,
      "outputs": []
    }
  ],
  "metadata": {
    "colab": {
      "provenance": []
    },
    "kernelspec": {
      "display_name": "Python 3",
      "name": "python3"
    },
    "accelerator": "GPU",
    "gpuClass": "standard"
  },
  "nbformat": 4,
  "nbformat_minor": 0
}