{
  "nbformat": 4,
  "nbformat_minor": 0,
  "metadata": {
    "colab": {
      "name": " waveletCNN_Keras_0.6_[Exp on 10K_data].ipynb",
      "provenance": []
    },
    "kernelspec": {
      "name": "python3",
      "display_name": "Python 3"
    },
    "accelerator": "GPU"
  },
  "cells": [
    {
      "cell_type": "code",
      "metadata": {
        "id": "zQyX8ddJk32y",
        "colab_type": "code",
        "outputId": "85d913ac-cc14-4195-f6f8-ef81b190f334",
        "colab": {
          "base_uri": "https://localhost:8080/",
          "height": 35
        }
      },
      "source": [
        "import numpy as np\n",
        "from matplotlib import pyplot as plt\n",
        "\n",
        "from keras import backend as K\n",
        "from keras.models import Model\n",
        "from keras.layers import Input\n",
        "from keras.layers import Dense\n",
        "from keras.layers import Conv2D\n",
        "from keras.layers import Lambda\n",
        "from keras.layers import Flatten\n",
        "from keras.layers import Reshape\n",
        "from keras.layers import Dropout\n",
        "from keras.layers import Activation\n",
        "from keras.layers import AveragePooling2D\n",
        "from keras.layers import BatchNormalization\n",
        "from keras.layers.merge import add, concatenate\n",
        "from keras.preprocessing.image import ImageDataGenerator\n",
        "from keras.utils import plot_model"
      ],
      "execution_count": 0,
      "outputs": [
        {
          "output_type": "stream",
          "text": [
            "Using TensorFlow backend.\n"
          ],
          "name": "stderr"
        }
      ]
    },
    {
      "cell_type": "code",
      "metadata": {
        "id": "EMcF2AfPk_SX",
        "colab_type": "code",
        "colab": {}
      },
      "source": [
        "# batch operation usng tensor slice\n",
        "def WaveletTransformAxisY(batch_img):\n",
        "    odd_img  = batch_img[:,0::2]\n",
        "    even_img = batch_img[:,1::2]\n",
        "    L = (odd_img + even_img) / 2.0\n",
        "    H = K.abs(odd_img - even_img)\n",
        "    return L, H\n",
        "\n",
        "def WaveletTransformAxisX(batch_img):\n",
        "    # transpose + fliplr\n",
        "    tmp_batch = K.permute_dimensions(batch_img, [0, 2, 1])[:,:,::-1]\n",
        "    _dst_L, _dst_H = WaveletTransformAxisY(tmp_batch)\n",
        "    # transpose + flipud\n",
        "    dst_L = K.permute_dimensions(_dst_L, [0, 2, 1])[:,::-1,...]\n",
        "    dst_H = K.permute_dimensions(_dst_H, [0, 2, 1])[:,::-1,...]\n",
        "    return dst_L, dst_H"
      ],
      "execution_count": 0,
      "outputs": []
    },
    {
      "cell_type": "code",
      "metadata": {
        "id": "WLXXxjIhlCvn",
        "colab_type": "code",
        "colab": {}
      },
      "source": [
        "def Wavelet(batch_image):\n",
        "    # make channel first image\n",
        "    batch_image = K.permute_dimensions(batch_image, [0, 3, 1, 2])\n",
        "    r = batch_image[:,0]\n",
        "    g = batch_image[:,1]\n",
        "    b = batch_image[:,2]\n",
        "\n",
        "    # level 1 decomposition\n",
        "    wavelet_L, wavelet_H = WaveletTransformAxisY(r)\n",
        "    r_wavelet_LL, r_wavelet_LH = WaveletTransformAxisX(wavelet_L)\n",
        "    r_wavelet_HL, r_wavelet_HH = WaveletTransformAxisX(wavelet_H)\n",
        "\n",
        "    wavelet_L, wavelet_H = WaveletTransformAxisY(g)\n",
        "    g_wavelet_LL, g_wavelet_LH = WaveletTransformAxisX(wavelet_L)\n",
        "    g_wavelet_HL, g_wavelet_HH = WaveletTransformAxisX(wavelet_H)\n",
        "\n",
        "    wavelet_L, wavelet_H = WaveletTransformAxisY(b)\n",
        "    b_wavelet_LL, b_wavelet_LH = WaveletTransformAxisX(wavelet_L)\n",
        "    b_wavelet_HL, b_wavelet_HH = WaveletTransformAxisX(wavelet_H)\n",
        "\n",
        "    wavelet_data = [r_wavelet_LL, r_wavelet_LH, r_wavelet_HL, r_wavelet_HH, \n",
        "                    g_wavelet_LL, g_wavelet_LH, g_wavelet_HL, g_wavelet_HH,\n",
        "                    b_wavelet_LL, b_wavelet_LH, b_wavelet_HL, b_wavelet_HH]\n",
        "    transform_batch = K.stack(wavelet_data, axis=1)\n",
        "\n",
        "    # level 2 decomposition\n",
        "    wavelet_L2, wavelet_H2 = WaveletTransformAxisY(r_wavelet_LL)\n",
        "    r_wavelet_LL2, r_wavelet_LH2 = WaveletTransformAxisX(wavelet_L2)\n",
        "    r_wavelet_HL2, r_wavelet_HH2 = WaveletTransformAxisX(wavelet_H2)\n",
        "\n",
        "    wavelet_L2, wavelet_H2 = WaveletTransformAxisY(g_wavelet_LL)\n",
        "    g_wavelet_LL2, g_wavelet_LH2 = WaveletTransformAxisX(wavelet_L2)\n",
        "    g_wavelet_HL2, g_wavelet_HH2 = WaveletTransformAxisX(wavelet_H2)\n",
        "\n",
        "    wavelet_L2, wavelet_H2 = WaveletTransformAxisY(b_wavelet_LL)\n",
        "    b_wavelet_LL2, b_wavelet_LH2 = WaveletTransformAxisX(wavelet_L2)\n",
        "    b_wavelet_HL2, b_wavelet_HH2 = WaveletTransformAxisX(wavelet_H2)\n",
        "\n",
        "\n",
        "    wavelet_data_l2 = [r_wavelet_LL2, r_wavelet_LH2, r_wavelet_HL2, r_wavelet_HH2, \n",
        "                    g_wavelet_LL2, g_wavelet_LH2, g_wavelet_HL2, g_wavelet_HH2,\n",
        "                    b_wavelet_LL2, b_wavelet_LH2, b_wavelet_HL2, b_wavelet_HH2]\n",
        "    transform_batch_l2 = K.stack(wavelet_data_l2, axis=1)\n",
        "\n",
        "    # level 3 decomposition\n",
        "    wavelet_L3, wavelet_H3 = WaveletTransformAxisY(r_wavelet_LL2)\n",
        "    r_wavelet_LL3, r_wavelet_LH3 = WaveletTransformAxisX(wavelet_L3)\n",
        "    r_wavelet_HL3, r_wavelet_HH3 = WaveletTransformAxisX(wavelet_H3)\n",
        "\n",
        "    wavelet_L3, wavelet_H3 = WaveletTransformAxisY(g_wavelet_LL2)\n",
        "    g_wavelet_LL3, g_wavelet_LH3 = WaveletTransformAxisX(wavelet_L3)\n",
        "    g_wavelet_HL3, g_wavelet_HH3 = WaveletTransformAxisX(wavelet_H3)\n",
        "\n",
        "    wavelet_L3, wavelet_H3 = WaveletTransformAxisY(b_wavelet_LL2)\n",
        "    b_wavelet_LL3, b_wavelet_LH3 = WaveletTransformAxisX(wavelet_L3)\n",
        "    b_wavelet_HL3, b_wavelet_HH3 = WaveletTransformAxisX(wavelet_H3)\n",
        "\n",
        "    wavelet_data_l3 = [r_wavelet_LL3, r_wavelet_LH3, r_wavelet_HL3, r_wavelet_HH3, \n",
        "                    g_wavelet_LL3, g_wavelet_LH3, g_wavelet_HL3, g_wavelet_HH3,\n",
        "                    b_wavelet_LL3, b_wavelet_LH3, b_wavelet_HL3, b_wavelet_HH3]\n",
        "    transform_batch_l3 = K.stack(wavelet_data_l3, axis=1)\n",
        "\n",
        "    # level 4 decomposition\n",
        "    wavelet_L4, wavelet_H4 = WaveletTransformAxisY(r_wavelet_LL3)\n",
        "    r_wavelet_LL4, r_wavelet_LH4 = WaveletTransformAxisX(wavelet_L4)\n",
        "    r_wavelet_HL4, r_wavelet_HH4 = WaveletTransformAxisX(wavelet_H4)\n",
        "\n",
        "    wavelet_L4, wavelet_H4 = WaveletTransformAxisY(g_wavelet_LL3)\n",
        "    g_wavelet_LL4, g_wavelet_LH4 = WaveletTransformAxisX(wavelet_L4)\n",
        "    g_wavelet_HL4, g_wavelet_HH4 = WaveletTransformAxisX(wavelet_H4)\n",
        "\n",
        "    wavelet_L3, wavelet_H3 = WaveletTransformAxisY(b_wavelet_LL3)\n",
        "    b_wavelet_LL4, b_wavelet_LH4 = WaveletTransformAxisX(wavelet_L4)\n",
        "    b_wavelet_HL4, b_wavelet_HH4 = WaveletTransformAxisX(wavelet_H4)\n",
        "\n",
        "\n",
        "    wavelet_data_l4 = [r_wavelet_LL4, r_wavelet_LH4, r_wavelet_HL4, r_wavelet_HH4, \n",
        "                    g_wavelet_LL4, g_wavelet_LH4, g_wavelet_HL4, g_wavelet_HH4,\n",
        "                    b_wavelet_LL4, b_wavelet_LH4, b_wavelet_HL4, b_wavelet_HH4]\n",
        "    transform_batch_l4 = K.stack(wavelet_data_l4, axis=1)\n",
        "\n",
        "    # print('shape before')\n",
        "    # print(transform_batch.shape)\n",
        "    # print(transform_batch_l2.shape)\n",
        "    # print(transform_batch_l3.shape)\n",
        "    # print(transform_batch_l4.shape)\n",
        "\n",
        "    decom_level_1 = K.permute_dimensions(transform_batch, [0, 2, 3, 1])\n",
        "    decom_level_2 = K.permute_dimensions(transform_batch_l2, [0, 2, 3, 1])\n",
        "    decom_level_3 = K.permute_dimensions(transform_batch_l3, [0, 2, 3, 1])\n",
        "    decom_level_4 = K.permute_dimensions(transform_batch_l4, [0, 2, 3, 1])\n",
        "    \n",
        "    # print('shape after')\n",
        "    # print(decom_level_1.shape)\n",
        "    # print(decom_level_2.shape)\n",
        "    # print(decom_level_3.shape)\n",
        "    # print(decom_level_4.shape)\n",
        "    return [decom_level_1, decom_level_2, decom_level_3, decom_level_4]\n",
        "\n",
        "\n",
        "def Wavelet_out_shape(input_shapes):\n",
        "    # print('in to shape')\n",
        "    return [tuple([None, 112, 112, 12]), tuple([None, 56, 56, 12]), \n",
        "            tuple([None, 28, 28, 12]), tuple([None, 14, 14, 12])]"
      ],
      "execution_count": 0,
      "outputs": []
    },
    {
      "cell_type": "code",
      "metadata": {
        "id": "h6dmgkdTlDOk",
        "colab_type": "code",
        "colab": {}
      },
      "source": [
        "img_batch = K.zeros(shape=(8, 224, 224, 3), dtype='float32')\n",
        "Wavelet(img_batch)"
      ],
      "execution_count": 0,
      "outputs": []
    },
    {
      "cell_type": "code",
      "metadata": {
        "id": "2MpxaRCZlF1J",
        "colab_type": "code",
        "colab": {}
      },
      "source": [
        "def get_wavelet_cnn_model():\n",
        "\n",
        "    input_shape = 224, 224, 3\n",
        "\n",
        "    input_ = Input(input_shape, name='the_input')\n",
        "    # wavelet = Lambda(Wavelet, name='wavelet')\n",
        "    wavelet = Lambda(Wavelet, Wavelet_out_shape, name='wavelet')\n",
        "    input_l1, input_l2, input_l3, input_l4 = wavelet(input_)\n",
        "    # print(input_l1)\n",
        "    # print(input_l2)\n",
        "    # print(input_l3)\n",
        "    # print(input_l4)\n",
        "    # level one decomposition starts\n",
        "    conv_1 = Conv2D(64, kernel_size=(3, 3), padding='same', name='conv_1')(input_l1)\n",
        "    norm_1 = BatchNormalization(name='norm_1')(conv_1)\n",
        "    relu_1 = Activation('relu', name='relu_1')(norm_1)\n",
        "\n",
        "    conv_1_2 = Conv2D(64, kernel_size=(3, 3), strides=(2, 2), padding='same', name='conv_1_2')(relu_1)\n",
        "    norm_1_2 = BatchNormalization(name='norm_1_2')(conv_1_2)\n",
        "    relu_1_2 = Activation('relu', name='relu_1_2')(norm_1_2)\n",
        "\n",
        "    # level two decomposition starts\n",
        "    conv_a = Conv2D(filters=64, kernel_size=(3, 3), padding='same', name='conv_a')(input_l2)\n",
        "    norm_a = BatchNormalization(name='norm_a')(conv_a)\n",
        "    relu_a = Activation('relu', name='relu_a')(norm_a)\n",
        "\n",
        "    # concate level one and level two decomposition\n",
        "    concate_level_2 = concatenate([relu_1_2, relu_a])\n",
        "    conv_2 = Conv2D(128, kernel_size=(3, 3), padding='same', name='conv_2')(concate_level_2)\n",
        "    norm_2 = BatchNormalization(name='norm_2')(conv_2)\n",
        "    relu_2 = Activation('relu', name='relu_2')(norm_2)\n",
        "\n",
        "    conv_2_2 = Conv2D(128, kernel_size=(3, 3), strides=(2, 2), padding='same', name='conv_2_2')(relu_2)\n",
        "    norm_2_2 = BatchNormalization(name='norm_2_2')(conv_2_2)\n",
        "    relu_2_2 = Activation('relu', name='relu_2_2')(norm_2_2)\n",
        "\n",
        "    # level three decomposition starts \n",
        "    conv_b = Conv2D(filters=64, kernel_size=(3, 3), padding='same', name='conv_b')(input_l3)\n",
        "    norm_b = BatchNormalization(name='norm_b')(conv_b)\n",
        "    relu_b = Activation('relu', name='relu_b')(norm_b)\n",
        "\n",
        "    conv_b_2 = Conv2D(128, kernel_size=(3, 3), padding='same', name='conv_b_2')(relu_b)\n",
        "    norm_b_2 = BatchNormalization(name='norm_b_2')(conv_b_2)\n",
        "    relu_b_2 = Activation('relu', name='relu_b_2')(norm_b_2)\n",
        "\n",
        "    # concate level two and level three decomposition \n",
        "    concate_level_3 = concatenate([relu_2_2, relu_b_2])\n",
        "    conv_3 = Conv2D(256, kernel_size=(3, 3), padding='same', name='conv_3')(concate_level_3)\n",
        "    norm_3 = BatchNormalization(name='nomr_3')(conv_3)\n",
        "    relu_3 = Activation('relu', name='relu_3')(norm_3)\n",
        "\n",
        "    conv_3_2 = Conv2D(256, kernel_size=(3, 3), strides=(2, 2), padding='same', name='conv_3_2')(relu_3)\n",
        "    norm_3_2 = BatchNormalization(name='norm_3_2')(conv_3_2)\n",
        "    relu_3_2 = Activation('relu', name='relu_3_2')(norm_3_2)\n",
        "\n",
        "    # level four decomposition start\n",
        "    conv_c = Conv2D(64, kernel_size=(3, 3), padding='same', name='conv_c')(input_l4)\n",
        "    norm_c = BatchNormalization(name='norm_c')(conv_c)\n",
        "    relu_c = Activation('relu', name='relu_c')(norm_c)\n",
        "\n",
        "    conv_c_2 = Conv2D(256, kernel_size=(3, 3), padding='same', name='conv_c_2')(relu_c)\n",
        "    norm_c_2 = BatchNormalization(name='norm_c_2')(conv_c_2)\n",
        "    relu_c_2 = Activation('relu', name='relu_c_2')(norm_c_2)\n",
        "\n",
        "    conv_c_3 = Conv2D(256, kernel_size=(3, 3), padding='same', name='conv_c_3')(relu_c_2)\n",
        "    norm_c_3 = BatchNormalization(name='norm_c_3')(conv_c_3)\n",
        "    relu_c_3 = Activation('relu', name='relu_c_3')(norm_c_3)\n",
        "\n",
        "    # concate level level three and level four decomposition\n",
        "    concate_level_4 = concatenate([relu_3_2, relu_c_3])\n",
        "    conv_4 = Conv2D(256, kernel_size=(3, 3), padding='same', name='conv_4')(concate_level_4)\n",
        "    norm_4 = BatchNormalization(name='norm_4')(conv_4)\n",
        "    relu_4 = Activation('relu', name='relu_4')(norm_4)\n",
        "\n",
        "    conv_4_2 = Conv2D(256, kernel_size=(3, 3), strides=(2, 2), padding='same', name='conv_4_2')(relu_4)\n",
        "    norm_4_2 = BatchNormalization(name='norm_4_2')(conv_4_2)\n",
        "    relu_4_2 = Activation('relu', name='relu_4_2')(norm_4_2)\n",
        "\n",
        "    conv_5_1 = Conv2D(128, kernel_size=(3, 3), padding='same', name='conv_5_1')(relu_4_2)\n",
        "    norm_5_1 = BatchNormalization(name='norm_5_1')(conv_5_1)\n",
        "    relu_5_1 = Activation('relu', name='relu_5_1')(norm_5_1)\n",
        "\n",
        "    pool_5_1 = AveragePooling2D(pool_size=(7, 7), strides=1, padding='same', name='avg_pool_5_1')(relu_5_1)\n",
        "    flat_5_1 = Flatten(name='flat_5_1')(pool_5_1) \n",
        "\n",
        "    fc_5 = Dense(2048, name='fc_5')(flat_5_1)\n",
        "    norm_5 = BatchNormalization(name='norm_5')(fc_5)\n",
        "    relu_5 = Activation('relu', name='relu_5')(norm_5)\n",
        "    drop_5 = Dropout(0.5, name='drop_5')(relu_5)\n",
        "\n",
        "    fc_6 = Dense(2048, name='fc_6')(drop_5)\n",
        "    norm_6 = BatchNormalization(name='norm_6')(fc_6)\n",
        "    relu_6 = Activation('relu', name='relu_6')(norm_6)\n",
        "    drop_6 = Dropout(0.5, name='drop_6')(relu_6)\n",
        "\n",
        "    output = Dense(2, activation='softmax', name='fc_7')(drop_6)\n",
        "\n",
        "    model = Model(inputs=input_, outputs=output)\n",
        "    model.summary()\n",
        "    plot_model(model, to_file='wavelet_cnn_0.5.png')\n",
        "\n",
        "    return model"
      ],
      "execution_count": 0,
      "outputs": []
    },
    {
      "cell_type": "code",
      "metadata": {
        "id": "XlNN-MeWlQHX",
        "colab_type": "code",
        "outputId": "729d4720-1ed6-47d9-d3c6-21c4f7008202",
        "colab": {
          "base_uri": "https://localhost:8080/",
          "height": 1000
        }
      },
      "source": [
        "model = get_wavelet_cnn_model()"
      ],
      "execution_count": 0,
      "outputs": [
        {
          "output_type": "stream",
          "text": [
            "WARNING:tensorflow:From /usr/local/lib/python3.6/dist-packages/keras/backend/tensorflow_backend.py:4432: The name tf.random_uniform is deprecated. Please use tf.random.uniform instead.\n",
            "\n",
            "WARNING:tensorflow:From /usr/local/lib/python3.6/dist-packages/keras/backend/tensorflow_backend.py:66: The name tf.get_default_graph is deprecated. Please use tf.compat.v1.get_default_graph instead.\n",
            "\n",
            "WARNING:tensorflow:From /usr/local/lib/python3.6/dist-packages/keras/backend/tensorflow_backend.py:190: The name tf.get_default_session is deprecated. Please use tf.compat.v1.get_default_session instead.\n",
            "\n",
            "WARNING:tensorflow:From /usr/local/lib/python3.6/dist-packages/keras/backend/tensorflow_backend.py:197: The name tf.ConfigProto is deprecated. Please use tf.compat.v1.ConfigProto instead.\n",
            "\n",
            "WARNING:tensorflow:From /usr/local/lib/python3.6/dist-packages/keras/backend/tensorflow_backend.py:2041: The name tf.nn.fused_batch_norm is deprecated. Please use tf.compat.v1.nn.fused_batch_norm instead.\n",
            "\n",
            "WARNING:tensorflow:From /usr/local/lib/python3.6/dist-packages/keras/backend/tensorflow_backend.py:4271: The name tf.nn.avg_pool is deprecated. Please use tf.nn.avg_pool2d instead.\n",
            "\n",
            "WARNING:tensorflow:From /usr/local/lib/python3.6/dist-packages/keras/backend/tensorflow_backend.py:3733: calling dropout (from tensorflow.python.ops.nn_ops) with keep_prob is deprecated and will be removed in a future version.\n",
            "Instructions for updating:\n",
            "Please use `rate` instead of `keep_prob`. Rate should be set to `rate = 1 - keep_prob`.\n",
            "Model: \"model_1\"\n",
            "__________________________________________________________________________________________________\n",
            "Layer (type)                    Output Shape         Param #     Connected to                     \n",
            "==================================================================================================\n",
            "the_input (InputLayer)          (None, 224, 224, 3)  0                                            \n",
            "__________________________________________________________________________________________________\n",
            "wavelet (Lambda)                [(None, 112, 112, 12 0           the_input[0][0]                  \n",
            "__________________________________________________________________________________________________\n",
            "conv_1 (Conv2D)                 (None, 112, 112, 64) 6976        wavelet[0][0]                    \n",
            "__________________________________________________________________________________________________\n",
            "norm_1 (BatchNormalization)     (None, 112, 112, 64) 256         conv_1[0][0]                     \n",
            "__________________________________________________________________________________________________\n",
            "relu_1 (Activation)             (None, 112, 112, 64) 0           norm_1[0][0]                     \n",
            "__________________________________________________________________________________________________\n",
            "conv_1_2 (Conv2D)               (None, 56, 56, 64)   36928       relu_1[0][0]                     \n",
            "__________________________________________________________________________________________________\n",
            "conv_a (Conv2D)                 (None, 56, 56, 64)   6976        wavelet[0][1]                    \n",
            "__________________________________________________________________________________________________\n",
            "norm_1_2 (BatchNormalization)   (None, 56, 56, 64)   256         conv_1_2[0][0]                   \n",
            "__________________________________________________________________________________________________\n",
            "norm_a (BatchNormalization)     (None, 56, 56, 64)   256         conv_a[0][0]                     \n",
            "__________________________________________________________________________________________________\n",
            "relu_1_2 (Activation)           (None, 56, 56, 64)   0           norm_1_2[0][0]                   \n",
            "__________________________________________________________________________________________________\n",
            "relu_a (Activation)             (None, 56, 56, 64)   0           norm_a[0][0]                     \n",
            "__________________________________________________________________________________________________\n",
            "concatenate_1 (Concatenate)     (None, 56, 56, 128)  0           relu_1_2[0][0]                   \n",
            "                                                                 relu_a[0][0]                     \n",
            "__________________________________________________________________________________________________\n",
            "conv_2 (Conv2D)                 (None, 56, 56, 128)  147584      concatenate_1[0][0]              \n",
            "__________________________________________________________________________________________________\n",
            "conv_b (Conv2D)                 (None, 28, 28, 64)   6976        wavelet[0][2]                    \n",
            "__________________________________________________________________________________________________\n",
            "norm_2 (BatchNormalization)     (None, 56, 56, 128)  512         conv_2[0][0]                     \n",
            "__________________________________________________________________________________________________\n",
            "norm_b (BatchNormalization)     (None, 28, 28, 64)   256         conv_b[0][0]                     \n",
            "__________________________________________________________________________________________________\n",
            "relu_2 (Activation)             (None, 56, 56, 128)  0           norm_2[0][0]                     \n",
            "__________________________________________________________________________________________________\n",
            "relu_b (Activation)             (None, 28, 28, 64)   0           norm_b[0][0]                     \n",
            "__________________________________________________________________________________________________\n",
            "conv_2_2 (Conv2D)               (None, 28, 28, 128)  147584      relu_2[0][0]                     \n",
            "__________________________________________________________________________________________________\n",
            "conv_b_2 (Conv2D)               (None, 28, 28, 128)  73856       relu_b[0][0]                     \n",
            "__________________________________________________________________________________________________\n",
            "norm_2_2 (BatchNormalization)   (None, 28, 28, 128)  512         conv_2_2[0][0]                   \n",
            "__________________________________________________________________________________________________\n",
            "norm_b_2 (BatchNormalization)   (None, 28, 28, 128)  512         conv_b_2[0][0]                   \n",
            "__________________________________________________________________________________________________\n",
            "conv_c (Conv2D)                 (None, 14, 14, 64)   6976        wavelet[0][3]                    \n",
            "__________________________________________________________________________________________________\n",
            "relu_2_2 (Activation)           (None, 28, 28, 128)  0           norm_2_2[0][0]                   \n",
            "__________________________________________________________________________________________________\n",
            "relu_b_2 (Activation)           (None, 28, 28, 128)  0           norm_b_2[0][0]                   \n",
            "__________________________________________________________________________________________________\n",
            "norm_c (BatchNormalization)     (None, 14, 14, 64)   256         conv_c[0][0]                     \n",
            "__________________________________________________________________________________________________\n",
            "concatenate_2 (Concatenate)     (None, 28, 28, 256)  0           relu_2_2[0][0]                   \n",
            "                                                                 relu_b_2[0][0]                   \n",
            "__________________________________________________________________________________________________\n",
            "relu_c (Activation)             (None, 14, 14, 64)   0           norm_c[0][0]                     \n",
            "__________________________________________________________________________________________________\n",
            "conv_3 (Conv2D)                 (None, 28, 28, 256)  590080      concatenate_2[0][0]              \n",
            "__________________________________________________________________________________________________\n",
            "conv_c_2 (Conv2D)               (None, 14, 14, 256)  147712      relu_c[0][0]                     \n",
            "__________________________________________________________________________________________________\n",
            "nomr_3 (BatchNormalization)     (None, 28, 28, 256)  1024        conv_3[0][0]                     \n",
            "__________________________________________________________________________________________________\n",
            "norm_c_2 (BatchNormalization)   (None, 14, 14, 256)  1024        conv_c_2[0][0]                   \n",
            "__________________________________________________________________________________________________\n",
            "relu_3 (Activation)             (None, 28, 28, 256)  0           nomr_3[0][0]                     \n",
            "__________________________________________________________________________________________________\n",
            "relu_c_2 (Activation)           (None, 14, 14, 256)  0           norm_c_2[0][0]                   \n",
            "__________________________________________________________________________________________________\n",
            "conv_3_2 (Conv2D)               (None, 14, 14, 256)  590080      relu_3[0][0]                     \n",
            "__________________________________________________________________________________________________\n",
            "conv_c_3 (Conv2D)               (None, 14, 14, 256)  590080      relu_c_2[0][0]                   \n",
            "__________________________________________________________________________________________________\n",
            "norm_3_2 (BatchNormalization)   (None, 14, 14, 256)  1024        conv_3_2[0][0]                   \n",
            "__________________________________________________________________________________________________\n",
            "norm_c_3 (BatchNormalization)   (None, 14, 14, 256)  1024        conv_c_3[0][0]                   \n",
            "__________________________________________________________________________________________________\n",
            "relu_3_2 (Activation)           (None, 14, 14, 256)  0           norm_3_2[0][0]                   \n",
            "__________________________________________________________________________________________________\n",
            "relu_c_3 (Activation)           (None, 14, 14, 256)  0           norm_c_3[0][0]                   \n",
            "__________________________________________________________________________________________________\n",
            "concatenate_3 (Concatenate)     (None, 14, 14, 512)  0           relu_3_2[0][0]                   \n",
            "                                                                 relu_c_3[0][0]                   \n",
            "__________________________________________________________________________________________________\n",
            "conv_4 (Conv2D)                 (None, 14, 14, 256)  1179904     concatenate_3[0][0]              \n",
            "__________________________________________________________________________________________________\n",
            "norm_4 (BatchNormalization)     (None, 14, 14, 256)  1024        conv_4[0][0]                     \n",
            "__________________________________________________________________________________________________\n",
            "relu_4 (Activation)             (None, 14, 14, 256)  0           norm_4[0][0]                     \n",
            "__________________________________________________________________________________________________\n",
            "conv_4_2 (Conv2D)               (None, 7, 7, 256)    590080      relu_4[0][0]                     \n",
            "__________________________________________________________________________________________________\n",
            "norm_4_2 (BatchNormalization)   (None, 7, 7, 256)    1024        conv_4_2[0][0]                   \n",
            "__________________________________________________________________________________________________\n",
            "relu_4_2 (Activation)           (None, 7, 7, 256)    0           norm_4_2[0][0]                   \n",
            "__________________________________________________________________________________________________\n",
            "conv_5_1 (Conv2D)               (None, 7, 7, 128)    295040      relu_4_2[0][0]                   \n",
            "__________________________________________________________________________________________________\n",
            "norm_5_1 (BatchNormalization)   (None, 7, 7, 128)    512         conv_5_1[0][0]                   \n",
            "__________________________________________________________________________________________________\n",
            "relu_5_1 (Activation)           (None, 7, 7, 128)    0           norm_5_1[0][0]                   \n",
            "__________________________________________________________________________________________________\n",
            "avg_pool_5_1 (AveragePooling2D) (None, 7, 7, 128)    0           relu_5_1[0][0]                   \n",
            "__________________________________________________________________________________________________\n",
            "flat_5_1 (Flatten)              (None, 6272)         0           avg_pool_5_1[0][0]               \n",
            "__________________________________________________________________________________________________\n",
            "fc_5 (Dense)                    (None, 2048)         12847104    flat_5_1[0][0]                   \n",
            "__________________________________________________________________________________________________\n",
            "norm_5 (BatchNormalization)     (None, 2048)         8192        fc_5[0][0]                       \n",
            "__________________________________________________________________________________________________\n",
            "relu_5 (Activation)             (None, 2048)         0           norm_5[0][0]                     \n",
            "__________________________________________________________________________________________________\n",
            "drop_5 (Dropout)                (None, 2048)         0           relu_5[0][0]                     \n",
            "__________________________________________________________________________________________________\n",
            "fc_6 (Dense)                    (None, 2048)         4196352     drop_5[0][0]                     \n",
            "__________________________________________________________________________________________________\n",
            "norm_6 (BatchNormalization)     (None, 2048)         8192        fc_6[0][0]                       \n",
            "__________________________________________________________________________________________________\n",
            "relu_6 (Activation)             (None, 2048)         0           norm_6[0][0]                     \n",
            "__________________________________________________________________________________________________\n",
            "drop_6 (Dropout)                (None, 2048)         0           relu_6[0][0]                     \n",
            "__________________________________________________________________________________________________\n",
            "fc_7 (Dense)                    (None, 2)            4098        drop_6[0][0]                     \n",
            "==================================================================================================\n",
            "Total params: 21,490,242\n",
            "Trainable params: 21,477,314\n",
            "Non-trainable params: 12,928\n",
            "__________________________________________________________________________________________________\n"
          ],
          "name": "stdout"
        }
      ]
    },
    {
      "cell_type": "code",
      "metadata": {
        "id": "w6zpGp6flIEz",
        "colab_type": "code",
        "outputId": "25b3b88a-b5f9-42d1-c769-8d46517c3bd7",
        "colab": {
          "base_uri": "https://localhost:8080/",
          "height": 73
        }
      },
      "source": [
        "model.compile(optimizer='adam', loss='categorical_crossentropy', metrics=['accuracy'])"
      ],
      "execution_count": 0,
      "outputs": [
        {
          "output_type": "stream",
          "text": [
            "WARNING:tensorflow:From /usr/local/lib/python3.6/dist-packages/keras/optimizers.py:793: The name tf.train.Optimizer is deprecated. Please use tf.compat.v1.train.Optimizer instead.\n",
            "\n"
          ],
          "name": "stdout"
        }
      ]
    },
    {
      "cell_type": "code",
      "metadata": {
        "id": "JKG4AAEDlWXm",
        "colab_type": "code",
        "colab": {}
      },
      "source": [
        "!pip install -q kaggle\n",
        "!mkdir -p ~/.kaggle\n",
        "!cp kaggle.json ~/.kaggle/\n",
        "\n",
        "# This permissions change avoids a warning on Kaggle tool startup.\n",
        "!chmod 600 ~/.kaggle/kaggle.json"
      ],
      "execution_count": 0,
      "outputs": []
    },
    {
      "cell_type": "code",
      "metadata": {
        "id": "RQ7oNY98mc6q",
        "colab_type": "code",
        "outputId": "4965f6df-01ec-45d7-dcdb-71085d2999c6",
        "colab": {
          "base_uri": "https://localhost:8080/",
          "height": 448
        }
      },
      "source": [
        "!kaggle datasets list -s cat"
      ],
      "execution_count": 0,
      "outputs": [
        {
          "output_type": "stream",
          "text": [
            "Warning: Looks like you're using an outdated API Version, please consider updating (server 1.5.6 / client 1.5.4)\n",
            "ref                                                 title                                          size  lastUpdated          downloadCount  \n",
            "--------------------------------------------------  --------------------------------------------  -----  -------------------  -------------  \n",
            "tongpython/cat-and-dog                              Cat and Dog                                   218MB  2018-04-26 10:56:50           9950  \n",
            "crawford/cat-dataset                                Cat Dataset                                     4GB  2018-02-16 23:41:25           6555  \n",
            "rmisra/news-category-dataset                        News Category Dataset                          25MB  2018-12-02 04:09:45           7084  \n",
            "harriken/bias-media-cat                             Bias Media CAT                                 17MB  2017-10-27 22:46:25            283  \n",
            "mrisdal/open-exoplanet-catalogue                    Open Exoplanet Catalogue                      123KB  2017-06-08 19:59:22           2321  \n",
            "chetankv/dogs-cats-images                           Dogs & Cats Images                            435MB  2018-04-19 18:20:08           4978  \n",
            "shayanfazeli/heartbeat                              ECG Heartbeat Categorization Dataset           99MB  2018-05-31 18:47:34           7589  \n",
            "mmoreaux/audio-cats-and-dogs                        Audio Cats and Dogs                            97MB  2017-10-05 09:40:26           3009  \n",
            "hocop1/cat-and-dog-breeds-parameters                Cat and dog breeds parameters                  12KB  2019-01-26 16:39:25            429  \n",
            "lumins/settlers-of-catan-games                      My Settlers of Catan Games                      5KB  2016-08-29 19:52:21            729  \n",
            "lightforever/catalyst                               Catalyst                                       10MB  2019-08-07 19:05:32             18  \n",
            "bharadwaj6/kindle-reviews                           Amazon reviews: Kindle Store Category         525MB  2018-05-22 04:50:16           2563  \n",
            "uciml/ct-slice-localization                         CAT Scan Localization                          18MB  2017-09-06 22:01:03            368  \n",
            "mriganksingh/cat-images-dataset                     Cat images Dataset                              3MB  2019-04-13 20:24:18            369  \n",
            "victorgenin/ices-fish-catch                         Annual Nominal Fish Catches                      0B  2016-05-29 08:12:32           1281  \n",
            "biaiscience/dogs-vs-cats                            Dogs vs Cats                                  817MB  2017-12-05 14:03:33           2301  \n",
            "ulabox/ulabox-orders-with-categories-partials-2017  Ulabox orders with categories' partials 2017  607KB  2018-05-21 20:33:33            611  \n",
            "ppleskov/cute-cats-and-dogs-from-pixabaycom         Cute Cats and Dogs from Pixabay.com             2GB  2019-03-21 04:28:53            250  \n",
            "rahul897/catsdogs                                   cats&dogs                                     217MB  2018-01-05 15:02:32           2251  \n",
            "yufengdev/bbc-fulltext-and-category                 BBC articles fulltext and category              2MB  2018-06-08 05:44:22           1215  \n"
          ],
          "name": "stdout"
        }
      ]
    },
    {
      "cell_type": "code",
      "metadata": {
        "id": "CvhyBIfrlb8G",
        "colab_type": "code",
        "outputId": "bedc051b-b843-476e-8507-9cdcae8befa4",
        "colab": {
          "base_uri": "https://localhost:8080/",
          "height": 71
        }
      },
      "source": [
        "!kaggle datasets download -d chetankv/dogs-cats-images"
      ],
      "execution_count": 0,
      "outputs": [
        {
          "output_type": "stream",
          "text": [
            "Downloading dogs-cats-images.zip to /content\n",
            " 98% 425M/435M [00:14<00:00, 19.3MB/s]\n",
            "100% 435M/435M [00:14<00:00, 32.1MB/s]\n"
          ],
          "name": "stdout"
        }
      ]
    },
    {
      "cell_type": "code",
      "metadata": {
        "id": "BDA9bhlQmvlX",
        "colab_type": "code",
        "colab": {}
      },
      "source": [
        "!unzip -qq /content/dogs-cats-images.zip"
      ],
      "execution_count": 0,
      "outputs": []
    },
    {
      "cell_type": "code",
      "metadata": {
        "id": "gDuuMOgEm-XS",
        "colab_type": "code",
        "outputId": "96e2c956-9217-4ad1-b401-cb23b1dc27d6",
        "colab": {
          "base_uri": "https://localhost:8080/",
          "height": 35
        }
      },
      "source": [
        "import os\n",
        "data_set_path = '/content/dog vs cat/dataset'\n",
        "os.listdir(data_set_path)"
      ],
      "execution_count": 0,
      "outputs": [
        {
          "output_type": "execute_result",
          "data": {
            "text/plain": [
              "['test_set', 'training_set']"
            ]
          },
          "metadata": {
            "tags": []
          },
          "execution_count": 12
        }
      ]
    },
    {
      "cell_type": "code",
      "metadata": {
        "id": "ejmciqicnMnu",
        "colab_type": "code",
        "outputId": "ebacd6d9-2162-4215-da3c-b4afca30a00d",
        "colab": {
          "base_uri": "https://localhost:8080/",
          "height": 53
        }
      },
      "source": [
        "train_data_gen = ImageDataGenerator(\n",
        "\t#rescale=1./255,\n",
        "\tshear_range=0.1,\n",
        "\tzoom_range=0.1,\n",
        "\thorizontal_flip=True\n",
        ")\n",
        "val_data_gen = ImageDataGenerator(\n",
        "\t#rescale=1./255\n",
        ")\n",
        "\n",
        "train_img_dir = '/content/dog vs cat/dataset/training_set'\n",
        "val_img_dir   = '/content/dog vs cat/dataset/test_set'\n",
        "\n",
        "# def train & test generators\n",
        "train_generator = train_data_gen.flow_from_directory(\n",
        "\ttrain_img_dir,\n",
        "\ttarget_size=(224, 224),\n",
        "\tbatch_size=32,\n",
        "\tclass_mode='categorical')\n",
        "val_generator = val_data_gen.flow_from_directory(\n",
        "\tval_img_dir,\n",
        "\ttarget_size=(224, 224),\n",
        "\tbatch_size=32,\n",
        "\tclass_mode='categorical')"
      ],
      "execution_count": 0,
      "outputs": [
        {
          "output_type": "stream",
          "text": [
            "Found 8000 images belonging to 2 classes.\n",
            "Found 2000 images belonging to 2 classes.\n"
          ],
          "name": "stdout"
        }
      ]
    },
    {
      "cell_type": "code",
      "metadata": {
        "id": "V2740Mdynf0w",
        "colab_type": "code",
        "outputId": "bfc3b627-135e-436e-ac02-82838f4e7ea6",
        "colab": {
          "base_uri": "https://localhost:8080/",
          "height": 805
        }
      },
      "source": [
        "history = model.fit_generator(\n",
        "\ttrain_generator,\n",
        "\tsteps_per_epoch=8000//32,\n",
        "\tepochs=20,\n",
        "\tvalidation_data=val_generator,\n",
        "    validation_steps=2000//32,\n",
        "\tverbose=True)"
      ],
      "execution_count": 0,
      "outputs": [
        {
          "output_type": "stream",
          "text": [
            "WARNING:tensorflow:From /usr/local/lib/python3.6/dist-packages/tensorflow/python/ops/math_grad.py:1250: add_dispatch_support.<locals>.wrapper (from tensorflow.python.ops.array_ops) is deprecated and will be removed in a future version.\n",
            "Instructions for updating:\n",
            "Use tf.where in 2.0, which has the same broadcast rule as np.where\n",
            "Epoch 1/20\n",
            "250/250 [==============================] - 151s 605ms/step - loss: 0.8718 - acc: 0.5753 - val_loss: 4.9565 - val_acc: 0.5080\n",
            "Epoch 2/20\n",
            "250/250 [==============================] - 138s 551ms/step - loss: 0.7171 - acc: 0.6630 - val_loss: 0.9513 - val_acc: 0.5210\n",
            "Epoch 3/20\n",
            "250/250 [==============================] - 138s 554ms/step - loss: 0.6609 - acc: 0.6897 - val_loss: 0.6507 - val_acc: 0.7280\n",
            "Epoch 4/20\n",
            "250/250 [==============================] - 138s 553ms/step - loss: 0.6448 - acc: 0.7126 - val_loss: 0.6419 - val_acc: 0.6265\n",
            "Epoch 5/20\n",
            "250/250 [==============================] - 138s 553ms/step - loss: 0.6458 - acc: 0.6949 - val_loss: 0.6266 - val_acc: 0.7055\n",
            "Epoch 6/20\n",
            "250/250 [==============================] - 138s 553ms/step - loss: 0.5991 - acc: 0.7235 - val_loss: 0.7431 - val_acc: 0.6520\n",
            "Epoch 7/20\n",
            "250/250 [==============================] - 139s 554ms/step - loss: 0.5947 - acc: 0.7204 - val_loss: 0.5600 - val_acc: 0.7280\n",
            "Epoch 8/20\n",
            "250/250 [==============================] - 138s 551ms/step - loss: 0.5397 - acc: 0.7424 - val_loss: 0.6106 - val_acc: 0.6660\n",
            "Epoch 9/20\n",
            "250/250 [==============================] - 138s 552ms/step - loss: 0.5087 - acc: 0.7637 - val_loss: 1.6521 - val_acc: 0.5760\n",
            "Epoch 10/20\n",
            "250/250 [==============================] - 138s 551ms/step - loss: 0.4865 - acc: 0.7716 - val_loss: 0.6819 - val_acc: 0.7270\n",
            "Epoch 11/20\n",
            "250/250 [==============================] - 139s 555ms/step - loss: 0.4652 - acc: 0.7877 - val_loss: 0.5327 - val_acc: 0.7535\n",
            "Epoch 12/20\n",
            "250/250 [==============================] - 138s 552ms/step - loss: 0.4501 - acc: 0.7989 - val_loss: 1.9961 - val_acc: 0.5300\n",
            "Epoch 13/20\n",
            "250/250 [==============================] - 138s 552ms/step - loss: 0.4375 - acc: 0.8041 - val_loss: 0.8243 - val_acc: 0.6945\n",
            "Epoch 14/20\n",
            "250/250 [==============================] - 138s 554ms/step - loss: 0.4285 - acc: 0.8086 - val_loss: 0.8058 - val_acc: 0.7455\n",
            "Epoch 15/20\n",
            "250/250 [==============================] - 139s 554ms/step - loss: 0.4157 - acc: 0.8098 - val_loss: 0.5384 - val_acc: 0.7815\n",
            "Epoch 16/20\n",
            "250/250 [==============================] - 138s 552ms/step - loss: 0.4047 - acc: 0.8212 - val_loss: 2.3247 - val_acc: 0.5775\n",
            "Epoch 17/20\n",
            "250/250 [==============================] - 138s 553ms/step - loss: 0.3862 - acc: 0.8270 - val_loss: 0.6734 - val_acc: 0.7070\n",
            "Epoch 18/20\n",
            "250/250 [==============================] - 138s 553ms/step - loss: 0.3744 - acc: 0.8367 - val_loss: 0.4145 - val_acc: 0.8145\n",
            "Epoch 19/20\n",
            "250/250 [==============================] - 137s 549ms/step - loss: 0.3661 - acc: 0.8384 - val_loss: 0.9004 - val_acc: 0.7290\n",
            "Epoch 20/20\n",
            "250/250 [==============================] - 138s 551ms/step - loss: 0.3704 - acc: 0.8414 - val_loss: 1.1758 - val_acc: 0.6295\n"
          ],
          "name": "stdout"
        }
      ]
    },
    {
      "cell_type": "code",
      "metadata": {
        "id": "MI3d6ONirH6h",
        "colab_type": "code",
        "outputId": "2c7ff91a-14dc-46c3-bd45-d2e3d00d7dab",
        "colab": {
          "base_uri": "https://localhost:8080/",
          "height": 313
        }
      },
      "source": [
        "acc = history.history['acc']\n",
        "val_acc = history.history['val_acc']\n",
        "epochs = range(len(acc))\n",
        "\n",
        "plt.plot(acc, label='training accuracy')\n",
        "plt.plot(val_acc, label='validation accuracy')\n",
        "plt.title('Accuracy curve')\n",
        "plt.xlabel('epochs')\n",
        "plt.ylabel('accuracy')\n",
        "plt.legend()"
      ],
      "execution_count": 0,
      "outputs": [
        {
          "output_type": "execute_result",
          "data": {
            "text/plain": [
              "<matplotlib.legend.Legend at 0x7f33dee76e48>"
            ]
          },
          "metadata": {
            "tags": []
          },
          "execution_count": 16
        },
        {
          "output_type": "display_data",
          "data": {
            "image/png": "[encoded data removed]",
            "text/plain": [
              "<Figure size 432x288 with 1 Axes>"
            ]
          },
          "metadata": {
            "tags": []
          }
        }
      ]
    },
    {
      "cell_type": "code",
      "metadata": {
        "id": "FjlFssvfrIwO",
        "colab_type": "code",
        "outputId": "f1bfef36-bc05-4740-fd73-4168d19762ad",
        "colab": {
          "base_uri": "https://localhost:8080/",
          "height": 313
        }
      },
      "source": [
        "loss = history.history['loss']\n",
        "val_loss = history.history['val_loss']\n",
        "\n",
        "plt.plot(loss, label='training loss')\n",
        "plt.plot(val_loss, label='validation loss')\n",
        "plt.title('Loss curve')\n",
        "plt.xlabel('epochs')\n",
        "plt.ylabel('loss')\n",
        "plt.legend()"
      ],
      "execution_count": 0,
      "outputs": [
        {
          "output_type": "execute_result",
          "data": {
            "text/plain": [
              "<matplotlib.legend.Legend at 0x7f33dede8a58>"
            ]
          },
          "metadata": {
            "tags": []
          },
          "execution_count": 17
        },
        {
          "output_type": "display_data",
          "data": {
            "image/png": "[encoded data removed]",
            "text/plain": [
              "<Figure size 432x288 with 1 Axes>"
            ]
          },
          "metadata": {
            "tags": []
          }
        }
      ]
    }
  ]
}